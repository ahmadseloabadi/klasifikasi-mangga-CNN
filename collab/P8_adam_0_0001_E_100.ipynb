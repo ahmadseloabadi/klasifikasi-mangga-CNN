{
  "cells": [
    {
      "cell_type": "code",
      "execution_count": 8,
      "metadata": {
        "colab": {
          "base_uri": "https://localhost:8080/"
        },
        "id": "SP_nnvl1GfuX",
        "outputId": "3ed28112-cb0b-456e-d7fc-c86c35170cf3"
      },
      "outputs": [
        {
          "output_type": "stream",
          "name": "stdout",
          "text": [
            "Drive already mounted at /content/drive; to attempt to forcibly remount, call drive.mount(\"/content/drive\", force_remount=True).\n"
          ]
        }
      ],
      "source": [
        "#Menghubungkan Google Colab dengan Google Drive :\n",
        "from google.colab import drive\n",
        "drive.mount('/content/drive')"
      ]
    },
    {
      "cell_type": "markdown",
      "metadata": {
        "id": "aQFvt0imw-JO"
      },
      "source": []
    },
    {
      "cell_type": "code",
      "execution_count": 9,
      "metadata": {
        "id": "9jEc8WPZHVr1"
      },
      "outputs": [],
      "source": [
        "# Basic Computation\n",
        "import pandas as pd\n",
        "import os"
      ]
    },
    {
      "cell_type": "code",
      "execution_count": 10,
      "metadata": {
        "id": "y58pCbMAHW1K"
      },
      "outputs": [],
      "source": [
        "def load_images_from_folder(folder,only_path = False, label = \"\"):\n",
        "    if only_path == False:\n",
        "        images = []\n",
        "        for filename in os.listdir(folder):\n",
        "            img = plt.imread(os.path.join(folder,filename))\n",
        "            if img is not None:\n",
        "                images.append(img)\n",
        "        return images\n",
        "    else:\n",
        "        path = []\n",
        "        for filename in os.listdir(folder):\n",
        "            img_path = os.path.join(folder,filename)\n",
        "            if img_path is not None:\n",
        "                path.append([label,img_path])\n",
        "        return path"
      ]
    },
    {
      "cell_type": "code",
      "execution_count": 11,
      "metadata": {
        "colab": {
          "base_uri": "https://localhost:8080/",
          "height": 206
        },
        "id": "scIzovU8Hf2q",
        "outputId": "170561f9-6d49-46bf-ebbb-00da53f03e4e"
      },
      "outputs": [
        {
          "output_type": "execute_result",
          "data": {
            "text/plain": [
              "     mango                                               path\n",
              "0  Sindhri  /content/drive/MyDrive/mango/Classification_da...\n",
              "1  Sindhri  /content/drive/MyDrive/mango/Classification_da...\n",
              "2  Sindhri  /content/drive/MyDrive/mango/Classification_da...\n",
              "3  Sindhri  /content/drive/MyDrive/mango/Classification_da...\n",
              "4  Sindhri  /content/drive/MyDrive/mango/Classification_da..."
            ],
            "text/html": [
              "\n",
              "  <div id=\"df-3c74f0cc-fdc3-444f-9d5b-f67d75901fb5\" class=\"colab-df-container\">\n",
              "    <div>\n",
              "<style scoped>\n",
              "    .dataframe tbody tr th:only-of-type {\n",
              "        vertical-align: middle;\n",
              "    }\n",
              "\n",
              "    .dataframe tbody tr th {\n",
              "        vertical-align: top;\n",
              "    }\n",
              "\n",
              "    .dataframe thead th {\n",
              "        text-align: right;\n",
              "    }\n",
              "</style>\n",
              "<table border=\"1\" class=\"dataframe\">\n",
              "  <thead>\n",
              "    <tr style=\"text-align: right;\">\n",
              "      <th></th>\n",
              "      <th>mango</th>\n",
              "      <th>path</th>\n",
              "    </tr>\n",
              "  </thead>\n",
              "  <tbody>\n",
              "    <tr>\n",
              "      <th>0</th>\n",
              "      <td>Sindhri</td>\n",
              "      <td>/content/drive/MyDrive/mango/Classification_da...</td>\n",
              "    </tr>\n",
              "    <tr>\n",
              "      <th>1</th>\n",
              "      <td>Sindhri</td>\n",
              "      <td>/content/drive/MyDrive/mango/Classification_da...</td>\n",
              "    </tr>\n",
              "    <tr>\n",
              "      <th>2</th>\n",
              "      <td>Sindhri</td>\n",
              "      <td>/content/drive/MyDrive/mango/Classification_da...</td>\n",
              "    </tr>\n",
              "    <tr>\n",
              "      <th>3</th>\n",
              "      <td>Sindhri</td>\n",
              "      <td>/content/drive/MyDrive/mango/Classification_da...</td>\n",
              "    </tr>\n",
              "    <tr>\n",
              "      <th>4</th>\n",
              "      <td>Sindhri</td>\n",
              "      <td>/content/drive/MyDrive/mango/Classification_da...</td>\n",
              "    </tr>\n",
              "  </tbody>\n",
              "</table>\n",
              "</div>\n",
              "    <div class=\"colab-df-buttons\">\n",
              "\n",
              "  <div class=\"colab-df-container\">\n",
              "    <button class=\"colab-df-convert\" onclick=\"convertToInteractive('df-3c74f0cc-fdc3-444f-9d5b-f67d75901fb5')\"\n",
              "            title=\"Convert this dataframe to an interactive table.\"\n",
              "            style=\"display:none;\">\n",
              "\n",
              "  <svg xmlns=\"http://www.w3.org/2000/svg\" height=\"24px\" viewBox=\"0 -960 960 960\">\n",
              "    <path d=\"M120-120v-720h720v720H120Zm60-500h600v-160H180v160Zm220 220h160v-160H400v160Zm0 220h160v-160H400v160ZM180-400h160v-160H180v160Zm440 0h160v-160H620v160ZM180-180h160v-160H180v160Zm440 0h160v-160H620v160Z\"/>\n",
              "  </svg>\n",
              "    </button>\n",
              "\n",
              "  <style>\n",
              "    .colab-df-container {\n",
              "      display:flex;\n",
              "      gap: 12px;\n",
              "    }\n",
              "\n",
              "    .colab-df-convert {\n",
              "      background-color: #E8F0FE;\n",
              "      border: none;\n",
              "      border-radius: 50%;\n",
              "      cursor: pointer;\n",
              "      display: none;\n",
              "      fill: #1967D2;\n",
              "      height: 32px;\n",
              "      padding: 0 0 0 0;\n",
              "      width: 32px;\n",
              "    }\n",
              "\n",
              "    .colab-df-convert:hover {\n",
              "      background-color: #E2EBFA;\n",
              "      box-shadow: 0px 1px 2px rgba(60, 64, 67, 0.3), 0px 1px 3px 1px rgba(60, 64, 67, 0.15);\n",
              "      fill: #174EA6;\n",
              "    }\n",
              "\n",
              "    .colab-df-buttons div {\n",
              "      margin-bottom: 4px;\n",
              "    }\n",
              "\n",
              "    [theme=dark] .colab-df-convert {\n",
              "      background-color: #3B4455;\n",
              "      fill: #D2E3FC;\n",
              "    }\n",
              "\n",
              "    [theme=dark] .colab-df-convert:hover {\n",
              "      background-color: #434B5C;\n",
              "      box-shadow: 0px 1px 3px 1px rgba(0, 0, 0, 0.15);\n",
              "      filter: drop-shadow(0px 1px 2px rgba(0, 0, 0, 0.3));\n",
              "      fill: #FFFFFF;\n",
              "    }\n",
              "  </style>\n",
              "\n",
              "    <script>\n",
              "      const buttonEl =\n",
              "        document.querySelector('#df-3c74f0cc-fdc3-444f-9d5b-f67d75901fb5 button.colab-df-convert');\n",
              "      buttonEl.style.display =\n",
              "        google.colab.kernel.accessAllowed ? 'block' : 'none';\n",
              "\n",
              "      async function convertToInteractive(key) {\n",
              "        const element = document.querySelector('#df-3c74f0cc-fdc3-444f-9d5b-f67d75901fb5');\n",
              "        const dataTable =\n",
              "          await google.colab.kernel.invokeFunction('convertToInteractive',\n",
              "                                                    [key], {});\n",
              "        if (!dataTable) return;\n",
              "\n",
              "        const docLinkHtml = 'Like what you see? Visit the ' +\n",
              "          '<a target=\"_blank\" href=https://colab.research.google.com/notebooks/data_table.ipynb>data table notebook</a>'\n",
              "          + ' to learn more about interactive tables.';\n",
              "        element.innerHTML = '';\n",
              "        dataTable['output_type'] = 'display_data';\n",
              "        await google.colab.output.renderOutput(dataTable, element);\n",
              "        const docLink = document.createElement('div');\n",
              "        docLink.innerHTML = docLinkHtml;\n",
              "        element.appendChild(docLink);\n",
              "      }\n",
              "    </script>\n",
              "  </div>\n",
              "\n",
              "\n",
              "<div id=\"df-997525f7-4aec-4302-9275-5038518d2300\">\n",
              "  <button class=\"colab-df-quickchart\" onclick=\"quickchart('df-997525f7-4aec-4302-9275-5038518d2300')\"\n",
              "            title=\"Suggest charts\"\n",
              "            style=\"display:none;\">\n",
              "\n",
              "<svg xmlns=\"http://www.w3.org/2000/svg\" height=\"24px\"viewBox=\"0 0 24 24\"\n",
              "     width=\"24px\">\n",
              "    <g>\n",
              "        <path d=\"M19 3H5c-1.1 0-2 .9-2 2v14c0 1.1.9 2 2 2h14c1.1 0 2-.9 2-2V5c0-1.1-.9-2-2-2zM9 17H7v-7h2v7zm4 0h-2V7h2v10zm4 0h-2v-4h2v4z\"/>\n",
              "    </g>\n",
              "</svg>\n",
              "  </button>\n",
              "\n",
              "<style>\n",
              "  .colab-df-quickchart {\n",
              "      --bg-color: #E8F0FE;\n",
              "      --fill-color: #1967D2;\n",
              "      --hover-bg-color: #E2EBFA;\n",
              "      --hover-fill-color: #174EA6;\n",
              "      --disabled-fill-color: #AAA;\n",
              "      --disabled-bg-color: #DDD;\n",
              "  }\n",
              "\n",
              "  [theme=dark] .colab-df-quickchart {\n",
              "      --bg-color: #3B4455;\n",
              "      --fill-color: #D2E3FC;\n",
              "      --hover-bg-color: #434B5C;\n",
              "      --hover-fill-color: #FFFFFF;\n",
              "      --disabled-bg-color: #3B4455;\n",
              "      --disabled-fill-color: #666;\n",
              "  }\n",
              "\n",
              "  .colab-df-quickchart {\n",
              "    background-color: var(--bg-color);\n",
              "    border: none;\n",
              "    border-radius: 50%;\n",
              "    cursor: pointer;\n",
              "    display: none;\n",
              "    fill: var(--fill-color);\n",
              "    height: 32px;\n",
              "    padding: 0;\n",
              "    width: 32px;\n",
              "  }\n",
              "\n",
              "  .colab-df-quickchart:hover {\n",
              "    background-color: var(--hover-bg-color);\n",
              "    box-shadow: 0 1px 2px rgba(60, 64, 67, 0.3), 0 1px 3px 1px rgba(60, 64, 67, 0.15);\n",
              "    fill: var(--button-hover-fill-color);\n",
              "  }\n",
              "\n",
              "  .colab-df-quickchart-complete:disabled,\n",
              "  .colab-df-quickchart-complete:disabled:hover {\n",
              "    background-color: var(--disabled-bg-color);\n",
              "    fill: var(--disabled-fill-color);\n",
              "    box-shadow: none;\n",
              "  }\n",
              "\n",
              "  .colab-df-spinner {\n",
              "    border: 2px solid var(--fill-color);\n",
              "    border-color: transparent;\n",
              "    border-bottom-color: var(--fill-color);\n",
              "    animation:\n",
              "      spin 1s steps(1) infinite;\n",
              "  }\n",
              "\n",
              "  @keyframes spin {\n",
              "    0% {\n",
              "      border-color: transparent;\n",
              "      border-bottom-color: var(--fill-color);\n",
              "      border-left-color: var(--fill-color);\n",
              "    }\n",
              "    20% {\n",
              "      border-color: transparent;\n",
              "      border-left-color: var(--fill-color);\n",
              "      border-top-color: var(--fill-color);\n",
              "    }\n",
              "    30% {\n",
              "      border-color: transparent;\n",
              "      border-left-color: var(--fill-color);\n",
              "      border-top-color: var(--fill-color);\n",
              "      border-right-color: var(--fill-color);\n",
              "    }\n",
              "    40% {\n",
              "      border-color: transparent;\n",
              "      border-right-color: var(--fill-color);\n",
              "      border-top-color: var(--fill-color);\n",
              "    }\n",
              "    60% {\n",
              "      border-color: transparent;\n",
              "      border-right-color: var(--fill-color);\n",
              "    }\n",
              "    80% {\n",
              "      border-color: transparent;\n",
              "      border-right-color: var(--fill-color);\n",
              "      border-bottom-color: var(--fill-color);\n",
              "    }\n",
              "    90% {\n",
              "      border-color: transparent;\n",
              "      border-bottom-color: var(--fill-color);\n",
              "    }\n",
              "  }\n",
              "</style>\n",
              "\n",
              "  <script>\n",
              "    async function quickchart(key) {\n",
              "      const quickchartButtonEl =\n",
              "        document.querySelector('#' + key + ' button');\n",
              "      quickchartButtonEl.disabled = true;  // To prevent multiple clicks.\n",
              "      quickchartButtonEl.classList.add('colab-df-spinner');\n",
              "      try {\n",
              "        const charts = await google.colab.kernel.invokeFunction(\n",
              "            'suggestCharts', [key], {});\n",
              "      } catch (error) {\n",
              "        console.error('Error during call to suggestCharts:', error);\n",
              "      }\n",
              "      quickchartButtonEl.classList.remove('colab-df-spinner');\n",
              "      quickchartButtonEl.classList.add('colab-df-quickchart-complete');\n",
              "    }\n",
              "    (() => {\n",
              "      let quickchartButtonEl =\n",
              "        document.querySelector('#df-997525f7-4aec-4302-9275-5038518d2300 button');\n",
              "      quickchartButtonEl.style.display =\n",
              "        google.colab.kernel.accessAllowed ? 'block' : 'none';\n",
              "    })();\n",
              "  </script>\n",
              "</div>\n",
              "    </div>\n",
              "  </div>\n"
            ],
            "application/vnd.google.colaboratory.intrinsic+json": {
              "type": "dataframe",
              "variable_name": "df",
              "summary": "{\n  \"name\": \"df\",\n  \"rows\": 1603,\n  \"fields\": [\n    {\n      \"column\": \"mango\",\n      \"properties\": {\n        \"dtype\": \"category\",\n        \"num_unique_values\": 9,\n        \"samples\": [\n          \"Anwar Ratool\",\n          \"Fajri\",\n          \"Dosehri\"\n        ],\n        \"semantic_type\": \"\",\n        \"description\": \"\"\n      }\n    },\n    {\n      \"column\": \"path\",\n      \"properties\": {\n        \"dtype\": \"string\",\n        \"num_unique_values\": 1603,\n        \"samples\": [\n          \"/content/drive/MyDrive/mango/Classification_dataset/Langra/IMG_20210702_075437.jpg\",\n          \"/content/drive/MyDrive/mango/Classification_dataset/Dosehri/IMG_20210629_183822.jpg\",\n          \"/content/drive/MyDrive/mango/Classification_dataset/Sindhri/IMG_20210702_184258 - Copy.jpg\"\n        ],\n        \"semantic_type\": \"\",\n        \"description\": \"\"\n      }\n    }\n  ]\n}"
            }
          },
          "metadata": {},
          "execution_count": 11
        }
      ],
      "source": [
        "images = []\n",
        "dirp = \"/content/drive/MyDrive/mango/Classification_dataset/\"\n",
        "for f in os.listdir(dirp):\n",
        "    images += load_images_from_folder(dirp+f,True,label = f)\n",
        "\n",
        "# membuat data frame\n",
        "df = pd.DataFrame(images, columns = [\"mango\", \"path\"])\n",
        "df.head()"
      ]
    },
    {
      "cell_type": "code",
      "execution_count": 12,
      "metadata": {
        "id": "8L4FUeyFHspu"
      },
      "outputs": [],
      "source": [
        "# visualization\n",
        "import matplotlib.pyplot as plt\n",
        "import seaborn as sns"
      ]
    },
    {
      "cell_type": "code",
      "execution_count": 13,
      "metadata": {
        "colab": {
          "base_uri": "https://localhost:8080/",
          "height": 576
        },
        "id": "9Qa8Y59zH1Yk",
        "outputId": "f2ed1d9b-03b2-4d21-b83d-7d2f57d11697"
      },
      "outputs": [
        {
          "output_type": "stream",
          "name": "stderr",
          "text": [
            "<ipython-input-13-90ef1e150f2f>:4: FutureWarning: \n",
            "\n",
            "Passing `palette` without assigning `hue` is deprecated and will be removed in v0.14.0. Assign the `x` variable to `hue` and set `legend=False` for the same effect.\n",
            "\n",
            "  sns.barplot(x = vc.index, y = vc, palette = \"rocket\")\n"
          ]
        },
        {
          "output_type": "display_data",
          "data": {
            "text/plain": [
              "<Figure size 1000x500 with 1 Axes>"
            ],
            "image/png": "[encoded data removed]"
          },
          "metadata": {}
        }
      ],
      "source": [
        "# menampilkan jumlah gambar pada tiap category\n",
        "vc = df[\"mango\"].value_counts()\n",
        "plt.figure(figsize=(10,5))\n",
        "sns.barplot(x = vc.index, y = vc, palette = \"rocket\")\n",
        "plt.title(\"Jumlah gambar tiap category\", fontsize = 15)\n",
        "plt.show()"
      ]
    },
    {
      "cell_type": "code",
      "execution_count": 14,
      "metadata": {
        "colab": {
          "base_uri": "https://localhost:8080/"
        },
        "id": "sYQKeD-_ddX7",
        "outputId": "fefba079-eed6-4cf3-bf71-ef25cef7ab5c"
      },
      "outputs": [
        {
          "output_type": "stream",
          "name": "stdout",
          "text": [
            "Collecting split_folders\n",
            "  Downloading split_folders-0.5.1-py3-none-any.whl (8.4 kB)\n",
            "Installing collected packages: split_folders\n",
            "Successfully installed split_folders-0.5.1\n"
          ]
        }
      ],
      "source": [
        "## install library untuk pembagian dataset menjadi 3 yaitu train,test,val\n",
        "!pip install split_folders\n",
        "## install library untuk pembagian dataset menjadi 3 yaitu train,test,val\n",
        "import splitfolders"
      ]
    },
    {
      "cell_type": "code",
      "execution_count": 15,
      "metadata": {
        "colab": {
          "base_uri": "https://localhost:8080/"
        },
        "id": "aWrwsJK7dqNz",
        "outputId": "21c11ba8-e2c0-46cf-88c6-e1a5af167555"
      },
      "outputs": [
        {
          "output_type": "stream",
          "name": "stderr",
          "text": [
            "Copying files: 1600 files [12:30,  2.13 files/s]\n"
          ]
        }
      ],
      "source": [
        "# pembagian dataset menjadi 3 yaitu train,test,val\n",
        "input_folders = '/content/drive/MyDrive/mango/Classification_dataset'\n",
        "output_folders = '/content/drive/MyDrive/mango/Classification_dataset/output_dataset'\n",
        "splitfolders.ratio(input_folders,output_folders, seed =42, ratio=(.7,.2,.1))"
      ]
    },
    {
      "cell_type": "code",
      "execution_count": 16,
      "metadata": {
        "id": "kry_ljc3G14X"
      },
      "outputs": [],
      "source": [
        "\n",
        "# Importing Required Libraries\n",
        "import cv2\n",
        "import os\n",
        "import tensorflow as tf\n",
        "import matplotlib.pyplot as plt\n",
        "from glob import glob\n",
        "from keras.models import Sequential\n",
        "from keras import models, layers, optimizers\n",
        "from keras.layers import Conv2D, MaxPooling2D, Dropout, BatchNormalization\n",
        "from keras.layers import Flatten, Dense\n",
        "from keras.preprocessing.image import ImageDataGenerator\n",
        "from tensorflow.keras.models import Model\n"
      ]
    },
    {
      "cell_type": "markdown",
      "metadata": {
        "id": "5ozAmptwnoqU"
      },
      "source": [
        "Arsitektur Vgg16"
      ]
    },
    {
      "cell_type": "code",
      "execution_count": 17,
      "metadata": {
        "id": "PbPv55VDG_jR"
      },
      "outputs": [],
      "source": [
        "from keras.applications.vgg16 import VGG16"
      ]
    },
    {
      "cell_type": "code",
      "execution_count": 18,
      "metadata": {
        "id": "ekDuGrxKSa0r",
        "colab": {
          "base_uri": "https://localhost:8080/"
        },
        "outputId": "bbe8b051-c2ca-4e62-de72-ed2dcccabe5d"
      },
      "outputs": [
        {
          "output_type": "stream",
          "name": "stdout",
          "text": [
            "Downloading data from https://storage.googleapis.com/tensorflow/keras-applications/vgg16/vgg16_weights_tf_dim_ordering_tf_kernels_notop.h5\n",
            "58889256/58889256 [==============================] - 2s 0us/step\n"
          ]
        }
      ],
      "source": [
        "base_model = tf.keras.applications.VGG16(\n",
        "    include_top=False,\n",
        "    input_shape=(224,224,3),\n",
        ")"
      ]
    },
    {
      "cell_type": "code",
      "execution_count": 19,
      "metadata": {
        "id": "WrPMt2BBUtTO"
      },
      "outputs": [],
      "source": [
        "# Mengunci semua layer base_model agar tidak terupdate selama pelatihan\n",
        "for layer in base_model.layers:\n",
        "    layer.trainable = False\n",
        "\n",
        "# Membuat output layer kustom untuk jumlah kelas yang diinginkan\n",
        "x = Flatten()(base_model.output)\n",
        "x = Dense(256, activation='relu')(x)\n",
        "x = Dense(8, activation='softmax')(x)\n",
        "\n",
        "# Menggabungkan base model dengan output layer kustom\n",
        "model = Model(inputs=base_model.input, outputs=x)"
      ]
    },
    {
      "cell_type": "code",
      "execution_count": 20,
      "metadata": {
        "colab": {
          "base_uri": "https://localhost:8080/"
        },
        "id": "kwAGTqhyMLhr",
        "outputId": "d23c97f8-339b-4615-82cb-a9db2b03d23e"
      },
      "outputs": [
        {
          "output_type": "stream",
          "name": "stdout",
          "text": [
            "Model: \"model\"\n",
            "_________________________________________________________________\n",
            " Layer (type)                Output Shape              Param #   \n",
            "=================================================================\n",
            " input_1 (InputLayer)        [(None, 224, 224, 3)]     0         \n",
            "                                                                 \n",
            " block1_conv1 (Conv2D)       (None, 224, 224, 64)      1792      \n",
            "                                                                 \n",
            " block1_conv2 (Conv2D)       (None, 224, 224, 64)      36928     \n",
            "                                                                 \n",
            " block1_pool (MaxPooling2D)  (None, 112, 112, 64)      0         \n",
            "                                                                 \n",
            " block2_conv1 (Conv2D)       (None, 112, 112, 128)     73856     \n",
            "                                                                 \n",
            " block2_conv2 (Conv2D)       (None, 112, 112, 128)     147584    \n",
            "                                                                 \n",
            " block2_pool (MaxPooling2D)  (None, 56, 56, 128)       0         \n",
            "                                                                 \n",
            " block3_conv1 (Conv2D)       (None, 56, 56, 256)       295168    \n",
            "                                                                 \n",
            " block3_conv2 (Conv2D)       (None, 56, 56, 256)       590080    \n",
            "                                                                 \n",
            " block3_conv3 (Conv2D)       (None, 56, 56, 256)       590080    \n",
            "                                                                 \n",
            " block3_pool (MaxPooling2D)  (None, 28, 28, 256)       0         \n",
            "                                                                 \n",
            " block4_conv1 (Conv2D)       (None, 28, 28, 512)       1180160   \n",
            "                                                                 \n",
            " block4_conv2 (Conv2D)       (None, 28, 28, 512)       2359808   \n",
            "                                                                 \n",
            " block4_conv3 (Conv2D)       (None, 28, 28, 512)       2359808   \n",
            "                                                                 \n",
            " block4_pool (MaxPooling2D)  (None, 14, 14, 512)       0         \n",
            "                                                                 \n",
            " block5_conv1 (Conv2D)       (None, 14, 14, 512)       2359808   \n",
            "                                                                 \n",
            " block5_conv2 (Conv2D)       (None, 14, 14, 512)       2359808   \n",
            "                                                                 \n",
            " block5_conv3 (Conv2D)       (None, 14, 14, 512)       2359808   \n",
            "                                                                 \n",
            " block5_pool (MaxPooling2D)  (None, 7, 7, 512)         0         \n",
            "                                                                 \n",
            " flatten (Flatten)           (None, 25088)             0         \n",
            "                                                                 \n",
            " dense (Dense)               (None, 256)               6422784   \n",
            "                                                                 \n",
            " dense_1 (Dense)             (None, 8)                 2056      \n",
            "                                                                 \n",
            "=================================================================\n",
            "Total params: 21139528 (80.64 MB)\n",
            "Trainable params: 6424840 (24.51 MB)\n",
            "Non-trainable params: 14714688 (56.13 MB)\n",
            "_________________________________________________________________\n"
          ]
        }
      ],
      "source": [
        "model.summary()"
      ]
    },
    {
      "cell_type": "markdown",
      "metadata": {
        "id": "6W1S3IdOhsvN"
      },
      "source": [
        "Preprcessing"
      ]
    },
    {
      "cell_type": "code",
      "execution_count": 21,
      "metadata": {
        "id": "GMPUXBNSfZHs"
      },
      "outputs": [],
      "source": [
        "# path data train dan data validation\n",
        "val_path ='/content/drive/MyDrive/mango/Classification_dataset/output_dataset/val'\n",
        "training_path ='/content/drive/MyDrive/mango/Classification_dataset/output_dataset/train'\n",
        "\n",
        "# path data testing\n",
        "testing_path ='/content/drive/MyDrive/mango/Classification_dataset/output_dataset/test'"
      ]
    },
    {
      "cell_type": "code",
      "execution_count": 22,
      "metadata": {
        "id": "JsD_Cna8M9Rw"
      },
      "outputs": [],
      "source": [
        "train_datagen = ImageDataGenerator (rescale = 1./255,\n",
        "                                    zoom_range = 0.2,\n",
        "                                    rotation_range = 20)\n",
        "\n",
        "valid_datagen = ImageDataGenerator(rescale = 1./255)\n",
        "testing_datagen = ImageDataGenerator(rescale=1./255)"
      ]
    },
    {
      "cell_type": "markdown",
      "metadata": {
        "id": "MC7Lu8TwhzrI"
      },
      "source": [
        "Hyperparameter"
      ]
    },
    {
      "cell_type": "code",
      "execution_count": 23,
      "metadata": {
        "id": "RpjLcLRXM5mH"
      },
      "outputs": [],
      "source": [
        "# Compile the Model\n",
        "model.compile( loss='sparse_categorical_crossentropy',\n",
        "               optimizer=tf.keras.optimizers.Adam(learning_rate=0.0001),\n",
        "               metrics=['accuracy'])"
      ]
    },
    {
      "cell_type": "code",
      "execution_count": 24,
      "metadata": {
        "colab": {
          "base_uri": "https://localhost:8080/"
        },
        "id": "LCCZ7kaaND30",
        "outputId": "4c5e8965-8d3c-47a6-a61b-50cd328efdda"
      },
      "outputs": [
        {
          "output_type": "stream",
          "name": "stdout",
          "text": [
            "Found 1120 images belonging to 9 classes.\n"
          ]
        }
      ],
      "source": [
        " #Make sure you provide the same target size as initialied for the image size\n",
        "training_set = train_datagen.flow_from_directory('/content/drive/MyDrive/mango/Classification_dataset/output_dataset/train',\n",
        "                                                 target_size = (224, 224),\n",
        "                                                 batch_size = 16,\n",
        "                                                 class_mode = 'sparse')"
      ]
    },
    {
      "cell_type": "code",
      "execution_count": 25,
      "metadata": {
        "colab": {
          "base_uri": "https://localhost:8080/"
        },
        "id": "gKwZuveNNE6B",
        "outputId": "f66d480c-9d85-4c26-f09b-cc9efc68e3a0"
      },
      "outputs": [
        {
          "output_type": "stream",
          "name": "stdout",
          "text": [
            "Found 320 images belonging to 9 classes.\n"
          ]
        }
      ],
      "source": [
        "valid_set = valid_datagen.flow_from_directory('/content/drive/MyDrive/mango/Classification_dataset/output_dataset/val',\n",
        "                                            target_size = (224, 224),\n",
        "                                            batch_size = 16,\n",
        "                                            class_mode = 'sparse')"
      ]
    },
    {
      "cell_type": "code",
      "execution_count": 26,
      "metadata": {
        "colab": {
          "base_uri": "https://localhost:8080/"
        },
        "id": "gHBDm4MI5cy_",
        "outputId": "5e7b28c3-64bb-4c1c-9bf1-5565979a9c57"
      },
      "outputs": [
        {
          "output_type": "stream",
          "name": "stdout",
          "text": [
            "Found 160 images belonging to 9 classes.\n"
          ]
        }
      ],
      "source": [
        "testing_set = testing_datagen.flow_from_directory('/content/drive/MyDrive/mango/Classification_dataset/output_dataset/test',\n",
        "                                                target_size=(224,224),\n",
        "                                                batch_size=16,\n",
        "                                                class_mode='sparse', shuffle=False)"
      ]
    },
    {
      "cell_type": "markdown",
      "metadata": {
        "id": "c-eukrTuiAkk"
      },
      "source": [
        "Training dengan Arsitektur VGG16"
      ]
    },
    {
      "cell_type": "code",
      "execution_count": 29,
      "metadata": {
        "colab": {
          "base_uri": "https://localhost:8080/"
        },
        "id": "ZIy5w4y9NT0n",
        "outputId": "9924729f-f1ad-4377-dd93-30b9b180beee"
      },
      "outputs": [
        {
          "output_type": "stream",
          "name": "stdout",
          "text": [
            "Epoch 1/100\n",
            "70/70 [==============================] - 45s 512ms/step - loss: 1.6658 - accuracy: 0.4161 - val_loss: 0.9845 - val_accuracy: 0.7125\n",
            "Epoch 2/100\n",
            "70/70 [==============================] - 26s 365ms/step - loss: 0.8754 - accuracy: 0.7464 - val_loss: 0.5383 - val_accuracy: 0.9031\n",
            "Epoch 3/100\n",
            "70/70 [==============================] - 25s 361ms/step - loss: 0.6033 - accuracy: 0.8464 - val_loss: 0.3695 - val_accuracy: 0.9438\n",
            "Epoch 4/100\n",
            "70/70 [==============================] - 27s 392ms/step - loss: 0.4496 - accuracy: 0.9080 - val_loss: 0.3708 - val_accuracy: 0.9094\n",
            "Epoch 5/100\n",
            "70/70 [==============================] - 26s 371ms/step - loss: 0.3617 - accuracy: 0.9187 - val_loss: 0.2683 - val_accuracy: 0.9500\n",
            "Epoch 6/100\n",
            "70/70 [==============================] - 26s 374ms/step - loss: 0.3131 - accuracy: 0.9259 - val_loss: 0.3082 - val_accuracy: 0.9156\n",
            "Epoch 7/100\n",
            "70/70 [==============================] - 25s 359ms/step - loss: 0.2397 - accuracy: 0.9598 - val_loss: 0.1626 - val_accuracy: 0.9656\n",
            "Epoch 8/100\n",
            "70/70 [==============================] - 26s 367ms/step - loss: 0.2017 - accuracy: 0.9634 - val_loss: 0.1634 - val_accuracy: 0.9625\n",
            "Epoch 9/100\n",
            "70/70 [==============================] - 26s 365ms/step - loss: 0.1943 - accuracy: 0.9661 - val_loss: 0.1792 - val_accuracy: 0.9563\n",
            "Epoch 10/100\n",
            "70/70 [==============================] - 25s 353ms/step - loss: 0.1708 - accuracy: 0.9696 - val_loss: 0.1217 - val_accuracy: 0.9719\n",
            "Epoch 11/100\n",
            "70/70 [==============================] - 24s 341ms/step - loss: 0.1373 - accuracy: 0.9768 - val_loss: 0.1059 - val_accuracy: 0.9750\n",
            "Epoch 12/100\n",
            "70/70 [==============================] - 26s 365ms/step - loss: 0.1425 - accuracy: 0.9732 - val_loss: 0.1150 - val_accuracy: 0.9750\n",
            "Epoch 13/100\n",
            "70/70 [==============================] - 25s 356ms/step - loss: 0.1268 - accuracy: 0.9786 - val_loss: 0.0899 - val_accuracy: 0.9750\n",
            "Epoch 14/100\n",
            "70/70 [==============================] - 25s 354ms/step - loss: 0.0927 - accuracy: 0.9893 - val_loss: 0.0918 - val_accuracy: 0.9781\n",
            "Epoch 15/100\n",
            "70/70 [==============================] - 25s 351ms/step - loss: 0.0950 - accuracy: 0.9875 - val_loss: 0.1014 - val_accuracy: 0.9844\n",
            "Epoch 16/100\n",
            "70/70 [==============================] - 25s 354ms/step - loss: 0.0881 - accuracy: 0.9884 - val_loss: 0.0836 - val_accuracy: 0.9844\n",
            "Epoch 17/100\n",
            "70/70 [==============================] - 25s 355ms/step - loss: 0.0861 - accuracy: 0.9884 - val_loss: 0.0733 - val_accuracy: 0.9781\n",
            "Epoch 18/100\n",
            "70/70 [==============================] - 25s 351ms/step - loss: 0.0694 - accuracy: 0.9955 - val_loss: 0.0613 - val_accuracy: 0.9875\n",
            "Epoch 19/100\n",
            "70/70 [==============================] - 27s 383ms/step - loss: 0.0811 - accuracy: 0.9857 - val_loss: 0.0734 - val_accuracy: 0.9844\n",
            "Epoch 20/100\n",
            "70/70 [==============================] - 24s 348ms/step - loss: 0.0714 - accuracy: 0.9875 - val_loss: 0.0686 - val_accuracy: 0.9844\n",
            "Epoch 21/100\n",
            "70/70 [==============================] - 27s 381ms/step - loss: 0.0675 - accuracy: 0.9911 - val_loss: 0.0554 - val_accuracy: 0.9875\n",
            "Epoch 22/100\n",
            "70/70 [==============================] - 27s 383ms/step - loss: 0.0557 - accuracy: 0.9946 - val_loss: 0.0537 - val_accuracy: 0.9844\n",
            "Epoch 23/100\n",
            "70/70 [==============================] - 24s 342ms/step - loss: 0.0476 - accuracy: 0.9955 - val_loss: 0.0520 - val_accuracy: 0.9875\n",
            "Epoch 24/100\n",
            "70/70 [==============================] - 26s 368ms/step - loss: 0.0572 - accuracy: 0.9911 - val_loss: 0.0639 - val_accuracy: 0.9875\n",
            "Epoch 25/100\n",
            "70/70 [==============================] - 26s 372ms/step - loss: 0.0478 - accuracy: 0.9946 - val_loss: 0.0433 - val_accuracy: 0.9937\n",
            "Epoch 26/100\n",
            "70/70 [==============================] - 25s 353ms/step - loss: 0.0453 - accuracy: 0.9964 - val_loss: 0.0546 - val_accuracy: 0.9875\n",
            "Epoch 27/100\n",
            "70/70 [==============================] - 24s 347ms/step - loss: 0.0410 - accuracy: 0.9955 - val_loss: 0.0496 - val_accuracy: 0.9906\n",
            "Epoch 28/100\n",
            "70/70 [==============================] - 24s 343ms/step - loss: 0.0374 - accuracy: 0.9946 - val_loss: 0.0975 - val_accuracy: 0.9688\n",
            "Epoch 29/100\n",
            "70/70 [==============================] - 24s 342ms/step - loss: 0.0419 - accuracy: 0.9964 - val_loss: 0.0384 - val_accuracy: 0.9844\n",
            "Epoch 30/100\n",
            "70/70 [==============================] - 25s 359ms/step - loss: 0.0344 - accuracy: 0.9973 - val_loss: 0.0434 - val_accuracy: 0.9906\n",
            "Epoch 31/100\n",
            "70/70 [==============================] - 27s 386ms/step - loss: 0.0321 - accuracy: 0.9982 - val_loss: 0.0331 - val_accuracy: 0.9937\n",
            "Epoch 32/100\n",
            "70/70 [==============================] - 26s 379ms/step - loss: 0.0279 - accuracy: 0.9982 - val_loss: 0.0373 - val_accuracy: 0.9906\n",
            "Epoch 33/100\n",
            "70/70 [==============================] - 24s 338ms/step - loss: 0.0259 - accuracy: 0.9991 - val_loss: 0.0414 - val_accuracy: 0.9844\n",
            "Epoch 34/100\n",
            "70/70 [==============================] - 26s 371ms/step - loss: 0.0363 - accuracy: 0.9937 - val_loss: 0.0348 - val_accuracy: 0.9937\n",
            "Epoch 35/100\n",
            "70/70 [==============================] - 26s 367ms/step - loss: 0.0487 - accuracy: 0.9920 - val_loss: 0.0634 - val_accuracy: 0.9844\n",
            "Epoch 36/100\n",
            "70/70 [==============================] - 27s 392ms/step - loss: 0.0260 - accuracy: 0.9982 - val_loss: 0.0420 - val_accuracy: 0.9875\n",
            "Epoch 37/100\n",
            "70/70 [==============================] - 25s 351ms/step - loss: 0.0281 - accuracy: 0.9973 - val_loss: 0.0577 - val_accuracy: 0.9844\n",
            "Epoch 38/100\n",
            "70/70 [==============================] - 27s 382ms/step - loss: 0.0232 - accuracy: 0.9973 - val_loss: 0.0317 - val_accuracy: 0.9906\n",
            "Epoch 39/100\n",
            "70/70 [==============================] - 27s 380ms/step - loss: 0.0179 - accuracy: 1.0000 - val_loss: 0.0343 - val_accuracy: 0.9906\n",
            "Epoch 40/100\n",
            "70/70 [==============================] - 25s 353ms/step - loss: 0.0244 - accuracy: 0.9955 - val_loss: 0.0289 - val_accuracy: 0.9906\n",
            "Epoch 41/100\n",
            "70/70 [==============================] - 24s 347ms/step - loss: 0.0231 - accuracy: 0.9973 - val_loss: 0.0244 - val_accuracy: 0.9969\n",
            "Epoch 42/100\n",
            "70/70 [==============================] - 27s 390ms/step - loss: 0.0195 - accuracy: 0.9991 - val_loss: 0.0319 - val_accuracy: 0.9937\n",
            "Epoch 43/100\n",
            "70/70 [==============================] - 24s 347ms/step - loss: 0.0229 - accuracy: 0.9937 - val_loss: 0.0353 - val_accuracy: 0.9875\n",
            "Epoch 44/100\n",
            "70/70 [==============================] - 27s 386ms/step - loss: 0.0189 - accuracy: 0.9982 - val_loss: 0.0246 - val_accuracy: 0.9969\n",
            "Epoch 45/100\n",
            "70/70 [==============================] - 27s 386ms/step - loss: 0.0143 - accuracy: 0.9991 - val_loss: 0.0222 - val_accuracy: 0.9937\n",
            "Epoch 46/100\n",
            "70/70 [==============================] - 27s 386ms/step - loss: 0.0192 - accuracy: 0.9973 - val_loss: 0.0303 - val_accuracy: 0.9906\n",
            "Epoch 47/100\n",
            "70/70 [==============================] - 24s 350ms/step - loss: 0.0135 - accuracy: 0.9982 - val_loss: 0.0348 - val_accuracy: 0.9906\n",
            "Epoch 48/100\n",
            "70/70 [==============================] - 27s 384ms/step - loss: 0.0476 - accuracy: 0.9821 - val_loss: 0.0631 - val_accuracy: 0.9875\n",
            "Epoch 49/100\n",
            "70/70 [==============================] - 27s 386ms/step - loss: 0.0340 - accuracy: 0.9937 - val_loss: 0.0201 - val_accuracy: 0.9969\n",
            "Epoch 50/100\n",
            "70/70 [==============================] - 24s 345ms/step - loss: 0.0147 - accuracy: 0.9991 - val_loss: 0.0458 - val_accuracy: 0.9906\n",
            "Epoch 51/100\n",
            "70/70 [==============================] - 27s 386ms/step - loss: 0.0146 - accuracy: 1.0000 - val_loss: 0.0292 - val_accuracy: 0.9906\n",
            "Epoch 52/100\n",
            "70/70 [==============================] - 27s 380ms/step - loss: 0.0184 - accuracy: 0.9964 - val_loss: 0.0653 - val_accuracy: 0.9812\n",
            "Epoch 53/100\n",
            "70/70 [==============================] - 24s 348ms/step - loss: 0.0252 - accuracy: 0.9955 - val_loss: 0.0823 - val_accuracy: 0.9750\n",
            "Epoch 54/100\n",
            "70/70 [==============================] - 27s 385ms/step - loss: 0.0281 - accuracy: 0.9929 - val_loss: 0.0326 - val_accuracy: 0.9875\n",
            "Epoch 55/100\n",
            "70/70 [==============================] - 24s 342ms/step - loss: 0.0199 - accuracy: 0.9964 - val_loss: 0.0213 - val_accuracy: 0.9906\n",
            "Epoch 56/100\n",
            "70/70 [==============================] - 24s 349ms/step - loss: 0.0108 - accuracy: 0.9991 - val_loss: 0.0247 - val_accuracy: 0.9906\n",
            "Epoch 57/100\n",
            "70/70 [==============================] - 25s 353ms/step - loss: 0.0125 - accuracy: 0.9982 - val_loss: 0.0215 - val_accuracy: 0.9906\n",
            "Epoch 58/100\n",
            "70/70 [==============================] - 28s 397ms/step - loss: 0.0211 - accuracy: 0.9964 - val_loss: 0.0189 - val_accuracy: 0.9906\n",
            "Epoch 59/100\n",
            "70/70 [==============================] - 25s 357ms/step - loss: 0.0097 - accuracy: 0.9991 - val_loss: 0.0291 - val_accuracy: 0.9812\n",
            "Epoch 60/100\n",
            "70/70 [==============================] - 24s 342ms/step - loss: 0.0121 - accuracy: 0.9991 - val_loss: 0.0561 - val_accuracy: 0.9844\n",
            "Epoch 61/100\n",
            "70/70 [==============================] - 26s 369ms/step - loss: 0.0209 - accuracy: 0.9946 - val_loss: 0.0175 - val_accuracy: 0.9969\n",
            "Epoch 62/100\n",
            "70/70 [==============================] - 25s 361ms/step - loss: 0.0303 - accuracy: 0.9920 - val_loss: 0.0660 - val_accuracy: 0.9812\n",
            "Epoch 63/100\n",
            "70/70 [==============================] - 26s 378ms/step - loss: 0.0182 - accuracy: 0.9964 - val_loss: 0.0277 - val_accuracy: 0.9906\n",
            "Epoch 64/100\n",
            "70/70 [==============================] - 24s 345ms/step - loss: 0.0103 - accuracy: 0.9991 - val_loss: 0.0232 - val_accuracy: 0.9937\n",
            "Epoch 65/100\n",
            "70/70 [==============================] - 27s 382ms/step - loss: 0.0100 - accuracy: 0.9982 - val_loss: 0.0150 - val_accuracy: 1.0000\n",
            "Epoch 66/100\n",
            "70/70 [==============================] - 27s 386ms/step - loss: 0.0194 - accuracy: 0.9946 - val_loss: 0.0315 - val_accuracy: 0.9875\n",
            "Epoch 67/100\n",
            "70/70 [==============================] - 27s 379ms/step - loss: 0.0127 - accuracy: 0.9964 - val_loss: 0.0372 - val_accuracy: 0.9844\n",
            "Epoch 68/100\n",
            "70/70 [==============================] - 25s 353ms/step - loss: 0.0079 - accuracy: 0.9991 - val_loss: 0.0244 - val_accuracy: 0.9906\n",
            "Epoch 69/100\n",
            "70/70 [==============================] - 26s 365ms/step - loss: 0.0074 - accuracy: 1.0000 - val_loss: 0.0241 - val_accuracy: 0.9937\n",
            "Epoch 70/100\n",
            "70/70 [==============================] - 25s 355ms/step - loss: 0.0080 - accuracy: 0.9991 - val_loss: 0.0195 - val_accuracy: 0.9937\n",
            "Epoch 71/100\n",
            "70/70 [==============================] - 25s 359ms/step - loss: 0.0263 - accuracy: 0.9929 - val_loss: 0.0291 - val_accuracy: 0.9906\n",
            "Epoch 72/100\n",
            "70/70 [==============================] - 23s 336ms/step - loss: 0.0089 - accuracy: 0.9973 - val_loss: 0.0294 - val_accuracy: 0.9906\n",
            "Epoch 73/100\n",
            "70/70 [==============================] - 24s 346ms/step - loss: 0.0044 - accuracy: 1.0000 - val_loss: 0.0202 - val_accuracy: 0.9937\n",
            "Epoch 74/100\n",
            "70/70 [==============================] - 24s 344ms/step - loss: 0.0085 - accuracy: 0.9982 - val_loss: 0.0247 - val_accuracy: 0.9906\n",
            "Epoch 75/100\n",
            "70/70 [==============================] - 25s 362ms/step - loss: 0.0149 - accuracy: 0.9964 - val_loss: 0.0368 - val_accuracy: 0.9875\n",
            "Epoch 76/100\n",
            "70/70 [==============================] - 25s 356ms/step - loss: 0.0109 - accuracy: 0.9982 - val_loss: 0.0181 - val_accuracy: 0.9906\n",
            "Epoch 77/100\n",
            "70/70 [==============================] - 24s 343ms/step - loss: 0.0034 - accuracy: 1.0000 - val_loss: 0.0233 - val_accuracy: 0.9906\n",
            "Epoch 78/100\n",
            "70/70 [==============================] - 25s 354ms/step - loss: 0.0063 - accuracy: 1.0000 - val_loss: 0.0178 - val_accuracy: 0.9937\n",
            "Epoch 79/100\n",
            "70/70 [==============================] - 25s 356ms/step - loss: 0.0091 - accuracy: 0.9973 - val_loss: 0.0285 - val_accuracy: 0.9875\n",
            "Epoch 80/100\n",
            "70/70 [==============================] - 25s 352ms/step - loss: 0.0162 - accuracy: 0.9946 - val_loss: 0.0335 - val_accuracy: 0.9906\n",
            "Epoch 81/100\n",
            "70/70 [==============================] - 25s 355ms/step - loss: 0.0110 - accuracy: 0.9964 - val_loss: 0.0579 - val_accuracy: 0.9812\n",
            "Epoch 82/100\n",
            "70/70 [==============================] - 25s 358ms/step - loss: 0.0164 - accuracy: 0.9973 - val_loss: 0.0166 - val_accuracy: 0.9937\n",
            "Epoch 83/100\n",
            "70/70 [==============================] - 26s 375ms/step - loss: 0.0087 - accuracy: 0.9982 - val_loss: 0.0202 - val_accuracy: 0.9969\n",
            "Epoch 84/100\n",
            "70/70 [==============================] - 24s 344ms/step - loss: 0.0063 - accuracy: 0.9991 - val_loss: 0.0348 - val_accuracy: 0.9906\n",
            "Epoch 85/100\n",
            "70/70 [==============================] - 25s 352ms/step - loss: 0.0029 - accuracy: 1.0000 - val_loss: 0.0240 - val_accuracy: 0.9937\n",
            "Epoch 86/100\n",
            "70/70 [==============================] - 27s 383ms/step - loss: 0.0053 - accuracy: 0.9991 - val_loss: 0.0185 - val_accuracy: 0.9937\n",
            "Epoch 87/100\n",
            "70/70 [==============================] - 24s 344ms/step - loss: 0.0076 - accuracy: 0.9982 - val_loss: 0.0335 - val_accuracy: 0.9969\n",
            "Epoch 88/100\n",
            "70/70 [==============================] - 24s 344ms/step - loss: 0.0047 - accuracy: 1.0000 - val_loss: 0.0247 - val_accuracy: 0.9937\n",
            "Epoch 89/100\n",
            "70/70 [==============================] - 25s 356ms/step - loss: 0.0131 - accuracy: 0.9937 - val_loss: 0.0272 - val_accuracy: 0.9875\n",
            "Epoch 90/100\n",
            "70/70 [==============================] - 24s 346ms/step - loss: 0.0094 - accuracy: 0.9964 - val_loss: 0.0218 - val_accuracy: 0.9937\n",
            "Epoch 91/100\n",
            "70/70 [==============================] - 24s 339ms/step - loss: 0.0114 - accuracy: 0.9982 - val_loss: 0.0336 - val_accuracy: 0.9844\n",
            "Epoch 92/100\n",
            "70/70 [==============================] - 25s 356ms/step - loss: 0.0185 - accuracy: 0.9964 - val_loss: 0.0370 - val_accuracy: 0.9875\n",
            "Epoch 93/100\n",
            "70/70 [==============================] - 24s 347ms/step - loss: 0.0083 - accuracy: 0.9982 - val_loss: 0.0151 - val_accuracy: 0.9937\n",
            "Epoch 94/100\n",
            "70/70 [==============================] - 24s 339ms/step - loss: 0.0150 - accuracy: 0.9946 - val_loss: 0.0441 - val_accuracy: 0.9781\n",
            "Epoch 95/100\n",
            "70/70 [==============================] - 28s 405ms/step - loss: 0.0187 - accuracy: 0.9946 - val_loss: 0.0449 - val_accuracy: 0.9906\n",
            "Epoch 96/100\n",
            "70/70 [==============================] - 24s 343ms/step - loss: 0.0202 - accuracy: 0.9955 - val_loss: 0.0290 - val_accuracy: 0.9937\n",
            "Epoch 97/100\n",
            "70/70 [==============================] - 25s 352ms/step - loss: 0.0100 - accuracy: 0.9973 - val_loss: 0.0333 - val_accuracy: 0.9906\n",
            "Epoch 98/100\n",
            "70/70 [==============================] - 25s 360ms/step - loss: 0.0021 - accuracy: 1.0000 - val_loss: 0.0154 - val_accuracy: 0.9937\n",
            "Epoch 99/100\n",
            "70/70 [==============================] - 24s 345ms/step - loss: 0.0035 - accuracy: 1.0000 - val_loss: 0.0144 - val_accuracy: 0.9937\n",
            "Epoch 100/100\n",
            "70/70 [==============================] - 25s 353ms/step - loss: 0.0023 - accuracy: 1.0000 - val_loss: 0.0152 - val_accuracy: 0.9937\n"
          ]
        }
      ],
      "source": [
        "# Fit the model\n",
        "\n",
        "r = model.fit(\n",
        "              training_set,\n",
        "              validation_data=valid_set,\n",
        "              epochs=100,\n",
        "              steps_per_epoch=len(training_set),\n",
        "              validation_steps=len(valid_set))"
      ]
    },
    {
      "cell_type": "code",
      "execution_count": 30,
      "metadata": {
        "id": "w6Xn4-QiNXP9",
        "colab": {
          "base_uri": "https://localhost:8080/",
          "height": 843
        },
        "outputId": "d501498d-7087-4f58-bb9a-8ee215cdf226"
      },
      "outputs": [
        {
          "output_type": "display_data",
          "data": {
            "text/plain": [
              "<Figure size 640x480 with 1 Axes>"
            ],
            "image/png": "[encoded data removed]"
          },
          "metadata": {}
        },
        {
          "output_type": "display_data",
          "data": {
            "text/plain": [
              "<Figure size 640x480 with 1 Axes>"
            ],
            "image/png": "[encoded data removed]"
          },
          "metadata": {}
        }
      ],
      "source": [
        "# plot the loss\n",
        "plt.plot(r.history['loss'], label='train loss')\n",
        "plt.plot(r.history['val_loss'], label='val loss')\n",
        "plt.legend()\n",
        "plt.show()\n",
        "\n",
        "# plot the accuracy\n",
        "plt.plot(r.history['accuracy'], label='train acc')\n",
        "plt.plot(r.history['val_accuracy'], label='val acc')\n",
        "plt.legend()\n",
        "plt.show()"
      ]
    },
    {
      "cell_type": "code",
      "execution_count": 31,
      "metadata": {
        "colab": {
          "base_uri": "https://localhost:8080/"
        },
        "id": "idJ7Q8OG_dBq",
        "outputId": "bb6b5a8d-c1c1-4026-fcb1-902f5ec490ea"
      },
      "outputs": [
        {
          "output_type": "stream",
          "name": "stdout",
          "text": [
            "20/20 [==============================] - 2s 117ms/step - loss: 0.0152 - accuracy: 0.9937\n"
          ]
        }
      ],
      "source": [
        "scores_validasi = model.evaluate(valid_set)"
      ]
    },
    {
      "cell_type": "code",
      "execution_count": 32,
      "metadata": {
        "colab": {
          "base_uri": "https://localhost:8080/"
        },
        "id": "zrqbeQl__m6l",
        "outputId": "b73c8f02-f612-4f00-f3ad-1782d838afa5"
      },
      "outputs": [
        {
          "output_type": "stream",
          "name": "stdout",
          "text": [
            "70/70 [==============================] - 22s 320ms/step - loss: 0.0027 - accuracy: 1.0000\n"
          ]
        }
      ],
      "source": [
        "scores_train = model.evaluate(training_set)"
      ]
    },
    {
      "cell_type": "code",
      "execution_count": null,
      "metadata": {
        "id": "G70FH3MgWwDV"
      },
      "outputs": [],
      "source": [
        "#save model\n",
        "model.save(\"/content/drive/MyDrive/Model/P8_adam_0.0001_E_100.h5\")"
      ]
    },
    {
      "cell_type": "code",
      "execution_count": null,
      "metadata": {
        "id": "_-G1AmAO3-Zo"
      },
      "outputs": [],
      "source": [
        "model.save(\"/content/drive/MyDrive/Model/P8_adam_0.0001_E_100.hdf5\")"
      ]
    },
    {
      "cell_type": "code",
      "execution_count": 4,
      "metadata": {
        "id": "eDGHt3vRxDWK"
      },
      "outputs": [],
      "source": [
        "# metric evaluasi\n",
        "from sklearn.metrics import classification_report, confusion_matrix, accuracy_score"
      ]
    },
    {
      "cell_type": "code",
      "execution_count": 6,
      "metadata": {
        "id": "hYdfkSE-xO-r"
      },
      "outputs": [],
      "source": [
        "my_model = tf.keras.models.load_model('/content/drive/MyDrive/Model/P8_adam_0.0001_E_100.hdf5', compile = True)"
      ]
    },
    {
      "cell_type": "code",
      "execution_count": 27,
      "metadata": {
        "colab": {
          "base_uri": "https://localhost:8080/"
        },
        "id": "_U6xKVAZxSZO",
        "outputId": "500f94e5-6d82-44c5-fcc1-7d142f43ec7d"
      },
      "outputs": [
        {
          "output_type": "stream",
          "name": "stderr",
          "text": [
            "<ipython-input-27-82945338758d>:3: DeprecationWarning: `np.math` is a deprecated alias for the standard library `math` module (Deprecated Numpy 1.25). Replace usages of `np.math` with `math`\n",
            "  test_steps_per_epoch = np.math.ceil(testing_set.samples / testing_set.batch_size)\n"
          ]
        },
        {
          "output_type": "execute_result",
          "data": {
            "text/plain": [
              "10"
            ]
          },
          "metadata": {},
          "execution_count": 27
        }
      ],
      "source": [
        "# mmenghitung jumlah epoch\n",
        "import re, glob, numpy as np\n",
        "test_steps_per_epoch = np.math.ceil(testing_set.samples / testing_set.batch_size)\n",
        "test_steps_per_epoch"
      ]
    },
    {
      "cell_type": "code",
      "execution_count": 28,
      "metadata": {
        "colab": {
          "base_uri": "https://localhost:8080/"
        },
        "id": "KBRtrBtSxUB_",
        "outputId": "d67b02e0-2bb0-4ff9-9603-785f721ac2bc"
      },
      "outputs": [
        {
          "output_type": "stream",
          "name": "stdout",
          "text": [
            "10/10 [==============================] - 126s 12s/step\n"
          ]
        },
        {
          "output_type": "execute_result",
          "data": {
            "text/plain": [
              "array([0, 0, 0, 0, 0, 0, 0, 0, 0, 0, 0, 0, 0, 0, 0, 0, 0, 0, 0, 0, 1, 3,\n",
              "       3, 3, 3, 1, 1, 1, 1, 1, 1, 1, 1, 1, 1, 1, 1, 1, 1, 1, 2, 2, 2, 2,\n",
              "       2, 2, 2, 2, 2, 2, 2, 2, 2, 2, 2, 2, 2, 2, 2, 2, 3, 3, 3, 3, 3, 3,\n",
              "       3, 3, 3, 3, 3, 3, 3, 3, 3, 1, 3, 3, 3, 3, 4, 4, 4, 4, 4, 4, 4, 4,\n",
              "       4, 4, 4, 4, 4, 4, 4, 4, 4, 4, 4, 4, 3, 5, 5, 5, 5, 5, 5, 5, 5, 5,\n",
              "       5, 5, 5, 5, 5, 5, 5, 5, 5, 5, 6, 6, 6, 6, 6, 6, 6, 6, 6, 6, 6, 6,\n",
              "       6, 6, 6, 6, 6, 6, 6, 6, 7, 7, 7, 7, 7, 7, 7, 7, 7, 7, 7, 7, 7, 7,\n",
              "       7, 7, 7, 7, 7, 7])"
            ]
          },
          "metadata": {},
          "execution_count": 28
        }
      ],
      "source": [
        "# membuat prediksi dari data testing\n",
        "pred = my_model.predict(testing_set, steps=test_steps_per_epoch)\n",
        "pred = np.argmax(pred,axis=1)\n",
        "pred"
      ]
    },
    {
      "cell_type": "code",
      "execution_count": 29,
      "metadata": {
        "colab": {
          "base_uri": "https://localhost:8080/"
        },
        "id": "5mKzEh-KxWAw",
        "outputId": "cf9eafba-5edb-4112-d5ae-1d79f7efe131"
      },
      "outputs": [
        {
          "output_type": "stream",
          "name": "stdout",
          "text": [
            "10/10 [==============================] - 111s 11s/step\n"
          ]
        },
        {
          "output_type": "execute_result",
          "data": {
            "text/plain": [
              "array([0, 0, 0, 0, 0, 0, 0, 0, 0, 0, 0, 0, 0, 0, 0, 0, 0, 0, 0, 0, 1, 3,\n",
              "       3, 3, 3, 1, 1, 1, 1, 1, 1, 1, 1, 1, 1, 1, 1, 1, 1, 1, 2, 2, 2, 2,\n",
              "       2, 2, 2, 2, 2, 2, 2, 2, 2, 2, 2, 2, 2, 2, 2, 2, 3, 3, 3, 3, 3, 3,\n",
              "       3, 3, 3, 3, 3, 3, 3, 3, 3, 1, 3, 3, 3, 3, 4, 4, 4, 4, 4, 4, 4, 4,\n",
              "       4, 4, 4, 4, 4, 4, 4, 4, 4, 4, 4, 4, 3, 5, 5, 5, 5, 5, 5, 5, 5, 5,\n",
              "       5, 5, 5, 5, 5, 5, 5, 5, 5, 5, 6, 6, 6, 6, 6, 6, 6, 6, 6, 6, 6, 6,\n",
              "       6, 6, 6, 6, 6, 6, 6, 6, 7, 7, 7, 7, 7, 7, 7, 7, 7, 7, 7, 7, 7, 7,\n",
              "       7, 7, 7, 7, 7, 7])"
            ]
          },
          "metadata": {},
          "execution_count": 29
        }
      ],
      "source": [
        "# membuat prediksi dari data testing\n",
        "pred = my_model.predict(testing_set, steps=test_steps_per_epoch)\n",
        "pred = np.argmax(pred,axis=1)\n",
        "pred"
      ]
    },
    {
      "cell_type": "code",
      "execution_count": 30,
      "metadata": {
        "colab": {
          "base_uri": "https://localhost:8080/"
        },
        "id": "eyjQjKGFxXYb",
        "outputId": "515dd0a8-e42d-4491-de2b-b3bfe6acf173"
      },
      "outputs": [
        {
          "output_type": "execute_result",
          "data": {
            "text/plain": [
              "array([0, 0, 0, 0, 0, 0, 0, 0, 0, 0, 0, 0, 0, 0, 0, 0, 0, 0, 0, 0, 1, 1,\n",
              "       1, 1, 1, 1, 1, 1, 1, 1, 1, 1, 1, 1, 1, 1, 1, 1, 1, 1, 2, 2, 2, 2,\n",
              "       2, 2, 2, 2, 2, 2, 2, 2, 2, 2, 2, 2, 2, 2, 2, 2, 3, 3, 3, 3, 3, 3,\n",
              "       3, 3, 3, 3, 3, 3, 3, 3, 3, 3, 3, 3, 3, 3, 4, 4, 4, 4, 4, 4, 4, 4,\n",
              "       4, 4, 4, 4, 4, 4, 4, 4, 4, 4, 4, 4, 5, 5, 5, 5, 5, 5, 5, 5, 5, 5,\n",
              "       5, 5, 5, 5, 5, 5, 5, 5, 5, 5, 6, 6, 6, 6, 6, 6, 6, 6, 6, 6, 6, 6,\n",
              "       6, 6, 6, 6, 6, 6, 6, 6, 7, 7, 7, 7, 7, 7, 7, 7, 7, 7, 7, 7, 7, 7,\n",
              "       7, 7, 7, 7, 7, 7], dtype=int32)"
            ]
          },
          "metadata": {},
          "execution_count": 30
        }
      ],
      "source": [
        "#menyimpan data label yang benar\n",
        "true_labels = testing_set.classes\n",
        "true_labels"
      ]
    },
    {
      "cell_type": "code",
      "execution_count": 31,
      "metadata": {
        "colab": {
          "base_uri": "https://localhost:8080/"
        },
        "id": "geGMdhfNxadM",
        "outputId": "b9c552bb-4a13-442d-8d26-e4d7c70f5e21"
      },
      "outputs": [
        {
          "output_type": "execute_result",
          "data": {
            "text/plain": [
              "array([[20,  0,  0,  0,  0,  0,  0,  0],\n",
              "       [ 0, 16,  0,  4,  0,  0,  0,  0],\n",
              "       [ 0,  0, 20,  0,  0,  0,  0,  0],\n",
              "       [ 0,  1,  0, 19,  0,  0,  0,  0],\n",
              "       [ 0,  0,  0,  0, 20,  0,  0,  0],\n",
              "       [ 0,  0,  0,  1,  0, 19,  0,  0],\n",
              "       [ 0,  0,  0,  0,  0,  0, 20,  0],\n",
              "       [ 0,  0,  0,  0,  0,  0,  0, 20]])"
            ]
          },
          "metadata": {},
          "execution_count": 31
        }
      ],
      "source": [
        "# membuat confusion matrix berdasarkan data prediksi dan label yang benar\n",
        "cm = confusion_matrix(true_labels, pred)\n",
        "cm"
      ]
    },
    {
      "cell_type": "code",
      "execution_count": 32,
      "metadata": {
        "colab": {
          "base_uri": "https://localhost:8080/",
          "height": 900
        },
        "id": "2HgrKtWuxcFz",
        "outputId": "47c12845-8d38-45c2-9cc6-436db70e11d9"
      },
      "outputs": [
        {
          "output_type": "execute_result",
          "data": {
            "text/plain": [
              "Text(0.5, 1.0, 'Confusion Matrix Plot')"
            ]
          },
          "metadata": {},
          "execution_count": 32
        },
        {
          "output_type": "display_data",
          "data": {
            "text/plain": [
              "<Figure size 1500x800 with 2 Axes>"
            ],
            "image/png": "[encoded data removed]"
          },
          "metadata": {}
        }
      ],
      "source": [
        "labels = ['Anwar Ratool','Chaunsa(Black)', 'Chaunsa(Summer Bashist)','Chaunsa (White)','Dosehri', 'Fajri','Langra', 'Sindri']\n",
        "plt.figure(figsize=(15,8))\n",
        "sns.heatmap(cm, annot=True, fmt=\"g\", xticklabels=labels, yticklabels=labels)\n",
        "plt.xlabel(\"Predicted\")\n",
        "plt.ylabel(\"Actual\")\n",
        "plt.title(\"Confusion Matrix Plot\")"
      ]
    },
    {
      "cell_type": "code",
      "execution_count": 33,
      "metadata": {
        "colab": {
          "base_uri": "https://localhost:8080/"
        },
        "id": "NXQZ3AfmxeEc",
        "outputId": "3bc617ea-20a4-428f-e928-68be36751b30"
      },
      "outputs": [
        {
          "output_type": "stream",
          "name": "stdout",
          "text": [
            "# Accuracy on the test set: 96.25%\n"
          ]
        }
      ],
      "source": [
        "# Get the accuracy on the test set\n",
        "acc = accuracy_score(true_labels,pred)\n",
        "print(f'# Accuracy on the test set: {acc * 100:.2f}%')"
      ]
    }
  ],
  "metadata": {
    "accelerator": "GPU",
    "colab": {
      "gpuType": "T4",
      "provenance": []
    },
    "kernelspec": {
      "display_name": "Python 3",
      "name": "python3"
    },
    "language_info": {
      "name": "python"
    }
  },
  "nbformat": 4,
  "nbformat_minor": 0
}