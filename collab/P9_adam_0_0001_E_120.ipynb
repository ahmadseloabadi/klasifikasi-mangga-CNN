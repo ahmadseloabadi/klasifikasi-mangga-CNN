{
  "cells": [
    {
      "cell_type": "code",
      "execution_count": 1,
      "metadata": {
        "colab": {
          "base_uri": "https://localhost:8080/"
        },
        "id": "SP_nnvl1GfuX",
        "outputId": "c35da8b7-b117-4db7-9425-6134c90c0e80"
      },
      "outputs": [
        {
          "output_type": "stream",
          "name": "stdout",
          "text": [
            "Mounted at /content/drive\n"
          ]
        }
      ],
      "source": [
        "#Menghubungkan Google Colab dengan Google Drive :\n",
        "from google.colab import drive\n",
        "drive.mount('/content/drive')"
      ]
    },
    {
      "cell_type": "markdown",
      "metadata": {
        "id": "aQFvt0imw-JO"
      },
      "source": []
    },
    {
      "cell_type": "code",
      "execution_count": 2,
      "metadata": {
        "id": "9jEc8WPZHVr1"
      },
      "outputs": [],
      "source": [
        "# Basic Computation\n",
        "import pandas as pd\n",
        "import os"
      ]
    },
    {
      "cell_type": "code",
      "execution_count": 3,
      "metadata": {
        "id": "y58pCbMAHW1K"
      },
      "outputs": [],
      "source": [
        "def load_images_from_folder(folder,only_path = False, label = \"\"):\n",
        "    if only_path == False:\n",
        "        images = []\n",
        "        for filename in os.listdir(folder):\n",
        "            img = plt.imread(os.path.join(folder,filename))\n",
        "            if img is not None:\n",
        "                images.append(img)\n",
        "        return images\n",
        "    else:\n",
        "        path = []\n",
        "        for filename in os.listdir(folder):\n",
        "            img_path = os.path.join(folder,filename)\n",
        "            if img_path is not None:\n",
        "                path.append([label,img_path])\n",
        "        return path"
      ]
    },
    {
      "cell_type": "code",
      "execution_count": 4,
      "metadata": {
        "colab": {
          "base_uri": "https://localhost:8080/",
          "height": 206
        },
        "id": "scIzovU8Hf2q",
        "outputId": "738e5a29-75f0-447e-f356-6774a30d9600"
      },
      "outputs": [
        {
          "output_type": "execute_result",
          "data": {
            "text/plain": [
              "             mango                                               path\n",
              "0  Chaunsa (White)  /content/drive/MyDrive/mango/Classification_da...\n",
              "1  Chaunsa (White)  /content/drive/MyDrive/mango/Classification_da...\n",
              "2  Chaunsa (White)  /content/drive/MyDrive/mango/Classification_da...\n",
              "3  Chaunsa (White)  /content/drive/MyDrive/mango/Classification_da...\n",
              "4  Chaunsa (White)  /content/drive/MyDrive/mango/Classification_da..."
            ],
            "text/html": [
              "\n",
              "  <div id=\"df-3b337dd6-eb41-4151-acf9-b5239b2de160\" class=\"colab-df-container\">\n",
              "    <div>\n",
              "<style scoped>\n",
              "    .dataframe tbody tr th:only-of-type {\n",
              "        vertical-align: middle;\n",
              "    }\n",
              "\n",
              "    .dataframe tbody tr th {\n",
              "        vertical-align: top;\n",
              "    }\n",
              "\n",
              "    .dataframe thead th {\n",
              "        text-align: right;\n",
              "    }\n",
              "</style>\n",
              "<table border=\"1\" class=\"dataframe\">\n",
              "  <thead>\n",
              "    <tr style=\"text-align: right;\">\n",
              "      <th></th>\n",
              "      <th>mango</th>\n",
              "      <th>path</th>\n",
              "    </tr>\n",
              "  </thead>\n",
              "  <tbody>\n",
              "    <tr>\n",
              "      <th>0</th>\n",
              "      <td>Chaunsa (White)</td>\n",
              "      <td>/content/drive/MyDrive/mango/Classification_da...</td>\n",
              "    </tr>\n",
              "    <tr>\n",
              "      <th>1</th>\n",
              "      <td>Chaunsa (White)</td>\n",
              "      <td>/content/drive/MyDrive/mango/Classification_da...</td>\n",
              "    </tr>\n",
              "    <tr>\n",
              "      <th>2</th>\n",
              "      <td>Chaunsa (White)</td>\n",
              "      <td>/content/drive/MyDrive/mango/Classification_da...</td>\n",
              "    </tr>\n",
              "    <tr>\n",
              "      <th>3</th>\n",
              "      <td>Chaunsa (White)</td>\n",
              "      <td>/content/drive/MyDrive/mango/Classification_da...</td>\n",
              "    </tr>\n",
              "    <tr>\n",
              "      <th>4</th>\n",
              "      <td>Chaunsa (White)</td>\n",
              "      <td>/content/drive/MyDrive/mango/Classification_da...</td>\n",
              "    </tr>\n",
              "  </tbody>\n",
              "</table>\n",
              "</div>\n",
              "    <div class=\"colab-df-buttons\">\n",
              "\n",
              "  <div class=\"colab-df-container\">\n",
              "    <button class=\"colab-df-convert\" onclick=\"convertToInteractive('df-3b337dd6-eb41-4151-acf9-b5239b2de160')\"\n",
              "            title=\"Convert this dataframe to an interactive table.\"\n",
              "            style=\"display:none;\">\n",
              "\n",
              "  <svg xmlns=\"http://www.w3.org/2000/svg\" height=\"24px\" viewBox=\"0 -960 960 960\">\n",
              "    <path d=\"M120-120v-720h720v720H120Zm60-500h600v-160H180v160Zm220 220h160v-160H400v160Zm0 220h160v-160H400v160ZM180-400h160v-160H180v160Zm440 0h160v-160H620v160ZM180-180h160v-160H180v160Zm440 0h160v-160H620v160Z\"/>\n",
              "  </svg>\n",
              "    </button>\n",
              "\n",
              "  <style>\n",
              "    .colab-df-container {\n",
              "      display:flex;\n",
              "      gap: 12px;\n",
              "    }\n",
              "\n",
              "    .colab-df-convert {\n",
              "      background-color: #E8F0FE;\n",
              "      border: none;\n",
              "      border-radius: 50%;\n",
              "      cursor: pointer;\n",
              "      display: none;\n",
              "      fill: #1967D2;\n",
              "      height: 32px;\n",
              "      padding: 0 0 0 0;\n",
              "      width: 32px;\n",
              "    }\n",
              "\n",
              "    .colab-df-convert:hover {\n",
              "      background-color: #E2EBFA;\n",
              "      box-shadow: 0px 1px 2px rgba(60, 64, 67, 0.3), 0px 1px 3px 1px rgba(60, 64, 67, 0.15);\n",
              "      fill: #174EA6;\n",
              "    }\n",
              "\n",
              "    .colab-df-buttons div {\n",
              "      margin-bottom: 4px;\n",
              "    }\n",
              "\n",
              "    [theme=dark] .colab-df-convert {\n",
              "      background-color: #3B4455;\n",
              "      fill: #D2E3FC;\n",
              "    }\n",
              "\n",
              "    [theme=dark] .colab-df-convert:hover {\n",
              "      background-color: #434B5C;\n",
              "      box-shadow: 0px 1px 3px 1px rgba(0, 0, 0, 0.15);\n",
              "      filter: drop-shadow(0px 1px 2px rgba(0, 0, 0, 0.3));\n",
              "      fill: #FFFFFF;\n",
              "    }\n",
              "  </style>\n",
              "\n",
              "    <script>\n",
              "      const buttonEl =\n",
              "        document.querySelector('#df-3b337dd6-eb41-4151-acf9-b5239b2de160 button.colab-df-convert');\n",
              "      buttonEl.style.display =\n",
              "        google.colab.kernel.accessAllowed ? 'block' : 'none';\n",
              "\n",
              "      async function convertToInteractive(key) {\n",
              "        const element = document.querySelector('#df-3b337dd6-eb41-4151-acf9-b5239b2de160');\n",
              "        const dataTable =\n",
              "          await google.colab.kernel.invokeFunction('convertToInteractive',\n",
              "                                                    [key], {});\n",
              "        if (!dataTable) return;\n",
              "\n",
              "        const docLinkHtml = 'Like what you see? Visit the ' +\n",
              "          '<a target=\"_blank\" href=https://colab.research.google.com/notebooks/data_table.ipynb>data table notebook</a>'\n",
              "          + ' to learn more about interactive tables.';\n",
              "        element.innerHTML = '';\n",
              "        dataTable['output_type'] = 'display_data';\n",
              "        await google.colab.output.renderOutput(dataTable, element);\n",
              "        const docLink = document.createElement('div');\n",
              "        docLink.innerHTML = docLinkHtml;\n",
              "        element.appendChild(docLink);\n",
              "      }\n",
              "    </script>\n",
              "  </div>\n",
              "\n",
              "\n",
              "<div id=\"df-a61e237a-92f8-4668-a9cc-7e58b373483b\">\n",
              "  <button class=\"colab-df-quickchart\" onclick=\"quickchart('df-a61e237a-92f8-4668-a9cc-7e58b373483b')\"\n",
              "            title=\"Suggest charts\"\n",
              "            style=\"display:none;\">\n",
              "\n",
              "<svg xmlns=\"http://www.w3.org/2000/svg\" height=\"24px\"viewBox=\"0 0 24 24\"\n",
              "     width=\"24px\">\n",
              "    <g>\n",
              "        <path d=\"M19 3H5c-1.1 0-2 .9-2 2v14c0 1.1.9 2 2 2h14c1.1 0 2-.9 2-2V5c0-1.1-.9-2-2-2zM9 17H7v-7h2v7zm4 0h-2V7h2v10zm4 0h-2v-4h2v4z\"/>\n",
              "    </g>\n",
              "</svg>\n",
              "  </button>\n",
              "\n",
              "<style>\n",
              "  .colab-df-quickchart {\n",
              "      --bg-color: #E8F0FE;\n",
              "      --fill-color: #1967D2;\n",
              "      --hover-bg-color: #E2EBFA;\n",
              "      --hover-fill-color: #174EA6;\n",
              "      --disabled-fill-color: #AAA;\n",
              "      --disabled-bg-color: #DDD;\n",
              "  }\n",
              "\n",
              "  [theme=dark] .colab-df-quickchart {\n",
              "      --bg-color: #3B4455;\n",
              "      --fill-color: #D2E3FC;\n",
              "      --hover-bg-color: #434B5C;\n",
              "      --hover-fill-color: #FFFFFF;\n",
              "      --disabled-bg-color: #3B4455;\n",
              "      --disabled-fill-color: #666;\n",
              "  }\n",
              "\n",
              "  .colab-df-quickchart {\n",
              "    background-color: var(--bg-color);\n",
              "    border: none;\n",
              "    border-radius: 50%;\n",
              "    cursor: pointer;\n",
              "    display: none;\n",
              "    fill: var(--fill-color);\n",
              "    height: 32px;\n",
              "    padding: 0;\n",
              "    width: 32px;\n",
              "  }\n",
              "\n",
              "  .colab-df-quickchart:hover {\n",
              "    background-color: var(--hover-bg-color);\n",
              "    box-shadow: 0 1px 2px rgba(60, 64, 67, 0.3), 0 1px 3px 1px rgba(60, 64, 67, 0.15);\n",
              "    fill: var(--button-hover-fill-color);\n",
              "  }\n",
              "\n",
              "  .colab-df-quickchart-complete:disabled,\n",
              "  .colab-df-quickchart-complete:disabled:hover {\n",
              "    background-color: var(--disabled-bg-color);\n",
              "    fill: var(--disabled-fill-color);\n",
              "    box-shadow: none;\n",
              "  }\n",
              "\n",
              "  .colab-df-spinner {\n",
              "    border: 2px solid var(--fill-color);\n",
              "    border-color: transparent;\n",
              "    border-bottom-color: var(--fill-color);\n",
              "    animation:\n",
              "      spin 1s steps(1) infinite;\n",
              "  }\n",
              "\n",
              "  @keyframes spin {\n",
              "    0% {\n",
              "      border-color: transparent;\n",
              "      border-bottom-color: var(--fill-color);\n",
              "      border-left-color: var(--fill-color);\n",
              "    }\n",
              "    20% {\n",
              "      border-color: transparent;\n",
              "      border-left-color: var(--fill-color);\n",
              "      border-top-color: var(--fill-color);\n",
              "    }\n",
              "    30% {\n",
              "      border-color: transparent;\n",
              "      border-left-color: var(--fill-color);\n",
              "      border-top-color: var(--fill-color);\n",
              "      border-right-color: var(--fill-color);\n",
              "    }\n",
              "    40% {\n",
              "      border-color: transparent;\n",
              "      border-right-color: var(--fill-color);\n",
              "      border-top-color: var(--fill-color);\n",
              "    }\n",
              "    60% {\n",
              "      border-color: transparent;\n",
              "      border-right-color: var(--fill-color);\n",
              "    }\n",
              "    80% {\n",
              "      border-color: transparent;\n",
              "      border-right-color: var(--fill-color);\n",
              "      border-bottom-color: var(--fill-color);\n",
              "    }\n",
              "    90% {\n",
              "      border-color: transparent;\n",
              "      border-bottom-color: var(--fill-color);\n",
              "    }\n",
              "  }\n",
              "</style>\n",
              "\n",
              "  <script>\n",
              "    async function quickchart(key) {\n",
              "      const quickchartButtonEl =\n",
              "        document.querySelector('#' + key + ' button');\n",
              "      quickchartButtonEl.disabled = true;  // To prevent multiple clicks.\n",
              "      quickchartButtonEl.classList.add('colab-df-spinner');\n",
              "      try {\n",
              "        const charts = await google.colab.kernel.invokeFunction(\n",
              "            'suggestCharts', [key], {});\n",
              "      } catch (error) {\n",
              "        console.error('Error during call to suggestCharts:', error);\n",
              "      }\n",
              "      quickchartButtonEl.classList.remove('colab-df-spinner');\n",
              "      quickchartButtonEl.classList.add('colab-df-quickchart-complete');\n",
              "    }\n",
              "    (() => {\n",
              "      let quickchartButtonEl =\n",
              "        document.querySelector('#df-a61e237a-92f8-4668-a9cc-7e58b373483b button');\n",
              "      quickchartButtonEl.style.display =\n",
              "        google.colab.kernel.accessAllowed ? 'block' : 'none';\n",
              "    })();\n",
              "  </script>\n",
              "</div>\n",
              "    </div>\n",
              "  </div>\n"
            ],
            "application/vnd.google.colaboratory.intrinsic+json": {
              "type": "dataframe",
              "variable_name": "df",
              "summary": "{\n  \"name\": \"df\",\n  \"rows\": 1603,\n  \"fields\": [\n    {\n      \"column\": \"mango\",\n      \"properties\": {\n        \"dtype\": \"category\",\n        \"num_unique_values\": 9,\n        \"samples\": [\n          \"Dosehri\",\n          \"Langra\",\n          \"Chaunsa (Black)\"\n        ],\n        \"semantic_type\": \"\",\n        \"description\": \"\"\n      }\n    },\n    {\n      \"column\": \"path\",\n      \"properties\": {\n        \"dtype\": \"string\",\n        \"num_unique_values\": 1603,\n        \"samples\": [\n          \"/content/drive/MyDrive/mango/Classification_dataset/Sindhri/IMG_20210702_184038 - Copy.jpg\",\n          \"/content/drive/MyDrive/mango/Classification_dataset/Chaunsa (Black)/IMG_20210705_093455.jpg\",\n          \"/content/drive/MyDrive/mango/Classification_dataset/Chaunsa (White)/IMG_20210705_101247.jpg\"\n        ],\n        \"semantic_type\": \"\",\n        \"description\": \"\"\n      }\n    }\n  ]\n}"
            }
          },
          "metadata": {},
          "execution_count": 4
        }
      ],
      "source": [
        "images = []\n",
        "dirp = \"/content/drive/MyDrive/mango/Classification_dataset/\"\n",
        "for f in os.listdir(dirp):\n",
        "    images += load_images_from_folder(dirp+f,True,label = f)\n",
        "\n",
        "# membuat data frame\n",
        "df = pd.DataFrame(images, columns = [\"mango\", \"path\"])\n",
        "df.head()"
      ]
    },
    {
      "cell_type": "code",
      "execution_count": 5,
      "metadata": {
        "id": "8L4FUeyFHspu"
      },
      "outputs": [],
      "source": [
        "# visualization\n",
        "import matplotlib.pyplot as plt\n",
        "import seaborn as sns"
      ]
    },
    {
      "cell_type": "code",
      "execution_count": 6,
      "metadata": {
        "colab": {
          "base_uri": "https://localhost:8080/",
          "height": 576
        },
        "id": "9Qa8Y59zH1Yk",
        "outputId": "fb7000ae-0d77-464e-e456-3c951acc4a1c"
      },
      "outputs": [
        {
          "output_type": "stream",
          "name": "stderr",
          "text": [
            "<ipython-input-6-90ef1e150f2f>:4: FutureWarning: \n",
            "\n",
            "Passing `palette` without assigning `hue` is deprecated and will be removed in v0.14.0. Assign the `x` variable to `hue` and set `legend=False` for the same effect.\n",
            "\n",
            "  sns.barplot(x = vc.index, y = vc, palette = \"rocket\")\n"
          ]
        },
        {
          "output_type": "display_data",
          "data": {
            "text/plain": [
              "<Figure size 1000x500 with 1 Axes>"
            ],
            "image/png": "[encoded data removed]"
          },
          "metadata": {}
        }
      ],
      "source": [
        "# menampilkan jumlah gambar pada tiap category\n",
        "vc = df[\"mango\"].value_counts()\n",
        "plt.figure(figsize=(10,5))\n",
        "sns.barplot(x = vc.index, y = vc, palette = \"rocket\")\n",
        "plt.title(\"Jumlah gambar tiap category\", fontsize = 15)\n",
        "plt.show()"
      ]
    },
    {
      "cell_type": "code",
      "execution_count": 7,
      "metadata": {
        "colab": {
          "base_uri": "https://localhost:8080/"
        },
        "id": "sYQKeD-_ddX7",
        "outputId": "1ac81577-43f5-44e1-af5c-564c782a6e55"
      },
      "outputs": [
        {
          "output_type": "stream",
          "name": "stdout",
          "text": [
            "Collecting split_folders\n",
            "  Downloading split_folders-0.5.1-py3-none-any.whl (8.4 kB)\n",
            "Installing collected packages: split_folders\n",
            "Successfully installed split_folders-0.5.1\n"
          ]
        }
      ],
      "source": [
        "# ## install library untuk pembagian dataset menjadi 3 yaitu train,test,val\n",
        "# !pip install split_folders\n",
        "# ## install library untuk pembagian dataset menjadi 3 yaitu train,test,val\n",
        "# import splitfolders"
      ]
    },
    {
      "cell_type": "code",
      "execution_count": 8,
      "metadata": {
        "colab": {
          "base_uri": "https://localhost:8080/"
        },
        "id": "aWrwsJK7dqNz",
        "outputId": "45d7a2c3-9642-485e-c5d4-249810bc6853"
      },
      "outputs": [
        {
          "output_type": "stream",
          "name": "stderr",
          "text": [
            "Copying files: 1600 files [11:46,  2.26 files/s]\n"
          ]
        }
      ],
      "source": [
        "# # pembagian dataset menjadi 3 yaitu train,test,val\n",
        "# input_folders = '/content/drive/MyDrive/mango/Classification_dataset'\n",
        "# output_folders = '/content/drive/MyDrive/mango/Classification_dataset/output_dataset'\n",
        "# splitfolders.ratio(input_folders,output_folders, seed =42, ratio=(.7,.2,.1))"
      ]
    },
    {
      "cell_type": "code",
      "execution_count": 9,
      "metadata": {
        "id": "kry_ljc3G14X"
      },
      "outputs": [],
      "source": [
        "\n",
        "# Importing Required Libraries\n",
        "import cv2\n",
        "import os\n",
        "import tensorflow as tf\n",
        "import matplotlib.pyplot as plt\n",
        "from glob import glob\n",
        "from keras.models import Sequential\n",
        "from keras import models, layers, optimizers\n",
        "from keras.layers import Conv2D, MaxPooling2D, Dropout, BatchNormalization\n",
        "from keras.layers import Flatten, Dense\n",
        "from keras.preprocessing.image import ImageDataGenerator\n",
        "from tensorflow.keras.models import Model\n"
      ]
    },
    {
      "cell_type": "markdown",
      "metadata": {
        "id": "5ozAmptwnoqU"
      },
      "source": [
        "Arsitektur Vgg16"
      ]
    },
    {
      "cell_type": "code",
      "execution_count": 10,
      "metadata": {
        "id": "PbPv55VDG_jR"
      },
      "outputs": [],
      "source": [
        "from keras.applications.vgg16 import VGG16"
      ]
    },
    {
      "cell_type": "code",
      "execution_count": 11,
      "metadata": {
        "colab": {
          "base_uri": "https://localhost:8080/"
        },
        "id": "ekDuGrxKSa0r",
        "outputId": "694b9009-3195-4494-82dd-9784d8eee30d"
      },
      "outputs": [
        {
          "output_type": "stream",
          "name": "stdout",
          "text": [
            "Downloading data from https://storage.googleapis.com/tensorflow/keras-applications/vgg16/vgg16_weights_tf_dim_ordering_tf_kernels_notop.h5\n",
            "58889256/58889256 [==============================] - 0s 0us/step\n"
          ]
        }
      ],
      "source": [
        "base_model = tf.keras.applications.VGG16(\n",
        "    include_top=False,\n",
        "    input_shape=(224,224,3),\n",
        ")"
      ]
    },
    {
      "cell_type": "code",
      "execution_count": 12,
      "metadata": {
        "id": "WrPMt2BBUtTO"
      },
      "outputs": [],
      "source": [
        "# Mengunci semua layer base_model agar tidak terupdate selama pelatihan\n",
        "for layer in base_model.layers:\n",
        "    layer.trainable = False\n",
        "\n",
        "# Membuat output layer kustom untuk jumlah kelas yang diinginkan\n",
        "x = Flatten()(base_model.output)\n",
        "x = Dense(256, activation='relu')(x)\n",
        "x = Dense(8, activation='softmax')(x)\n",
        "\n",
        "# Menggabungkan base model dengan output layer kustom\n",
        "model = Model(inputs=base_model.input, outputs=x)"
      ]
    },
    {
      "cell_type": "code",
      "execution_count": 13,
      "metadata": {
        "colab": {
          "base_uri": "https://localhost:8080/"
        },
        "id": "kwAGTqhyMLhr",
        "outputId": "6e1546b2-6655-4df5-966f-09d5cee7c555"
      },
      "outputs": [
        {
          "output_type": "stream",
          "name": "stdout",
          "text": [
            "Model: \"model\"\n",
            "_________________________________________________________________\n",
            " Layer (type)                Output Shape              Param #   \n",
            "=================================================================\n",
            " input_1 (InputLayer)        [(None, 224, 224, 3)]     0         \n",
            "                                                                 \n",
            " block1_conv1 (Conv2D)       (None, 224, 224, 64)      1792      \n",
            "                                                                 \n",
            " block1_conv2 (Conv2D)       (None, 224, 224, 64)      36928     \n",
            "                                                                 \n",
            " block1_pool (MaxPooling2D)  (None, 112, 112, 64)      0         \n",
            "                                                                 \n",
            " block2_conv1 (Conv2D)       (None, 112, 112, 128)     73856     \n",
            "                                                                 \n",
            " block2_conv2 (Conv2D)       (None, 112, 112, 128)     147584    \n",
            "                                                                 \n",
            " block2_pool (MaxPooling2D)  (None, 56, 56, 128)       0         \n",
            "                                                                 \n",
            " block3_conv1 (Conv2D)       (None, 56, 56, 256)       295168    \n",
            "                                                                 \n",
            " block3_conv2 (Conv2D)       (None, 56, 56, 256)       590080    \n",
            "                                                                 \n",
            " block3_conv3 (Conv2D)       (None, 56, 56, 256)       590080    \n",
            "                                                                 \n",
            " block3_pool (MaxPooling2D)  (None, 28, 28, 256)       0         \n",
            "                                                                 \n",
            " block4_conv1 (Conv2D)       (None, 28, 28, 512)       1180160   \n",
            "                                                                 \n",
            " block4_conv2 (Conv2D)       (None, 28, 28, 512)       2359808   \n",
            "                                                                 \n",
            " block4_conv3 (Conv2D)       (None, 28, 28, 512)       2359808   \n",
            "                                                                 \n",
            " block4_pool (MaxPooling2D)  (None, 14, 14, 512)       0         \n",
            "                                                                 \n",
            " block5_conv1 (Conv2D)       (None, 14, 14, 512)       2359808   \n",
            "                                                                 \n",
            " block5_conv2 (Conv2D)       (None, 14, 14, 512)       2359808   \n",
            "                                                                 \n",
            " block5_conv3 (Conv2D)       (None, 14, 14, 512)       2359808   \n",
            "                                                                 \n",
            " block5_pool (MaxPooling2D)  (None, 7, 7, 512)         0         \n",
            "                                                                 \n",
            " flatten (Flatten)           (None, 25088)             0         \n",
            "                                                                 \n",
            " dense (Dense)               (None, 256)               6422784   \n",
            "                                                                 \n",
            " dense_1 (Dense)             (None, 8)                 2056      \n",
            "                                                                 \n",
            "=================================================================\n",
            "Total params: 21139528 (80.64 MB)\n",
            "Trainable params: 6424840 (24.51 MB)\n",
            "Non-trainable params: 14714688 (56.13 MB)\n",
            "_________________________________________________________________\n"
          ]
        }
      ],
      "source": [
        "model.summary()"
      ]
    },
    {
      "cell_type": "markdown",
      "metadata": {
        "id": "6W1S3IdOhsvN"
      },
      "source": [
        "Preprcessing"
      ]
    },
    {
      "cell_type": "code",
      "execution_count": 14,
      "metadata": {
        "id": "GMPUXBNSfZHs"
      },
      "outputs": [],
      "source": [
        "# path data train dan data validation\n",
        "val_path ='/content/drive/MyDrive/mango/Classification_dataset/output_dataset/val'\n",
        "training_path ='/content/drive/MyDrive/mango/Classification_dataset/output_dataset/train'\n",
        "\n",
        "# path data testing\n",
        "testing_path ='/content/drive/MyDrive/mango/Classification_dataset/output_dataset/test'"
      ]
    },
    {
      "cell_type": "code",
      "execution_count": 15,
      "metadata": {
        "id": "JsD_Cna8M9Rw"
      },
      "outputs": [],
      "source": [
        "train_datagen = ImageDataGenerator (rescale = 1./255,\n",
        "                                    zoom_range = 0.2,\n",
        "                                    rotation_range = 20)\n",
        "\n",
        "valid_datagen = ImageDataGenerator(rescale = 1./255)\n",
        "testing_datagen = ImageDataGenerator(rescale=1./255)"
      ]
    },
    {
      "cell_type": "markdown",
      "metadata": {
        "id": "MC7Lu8TwhzrI"
      },
      "source": [
        "Hyperparameter"
      ]
    },
    {
      "cell_type": "code",
      "execution_count": 16,
      "metadata": {
        "id": "RpjLcLRXM5mH"
      },
      "outputs": [],
      "source": [
        "# Compile the Model\n",
        "model.compile( loss='sparse_categorical_crossentropy',\n",
        "               optimizer=tf.keras.optimizers.Adam(learning_rate=0.0001),\n",
        "               metrics=['accuracy'])"
      ]
    },
    {
      "cell_type": "code",
      "execution_count": 17,
      "metadata": {
        "colab": {
          "base_uri": "https://localhost:8080/"
        },
        "id": "LCCZ7kaaND30",
        "outputId": "2bb96c2f-04cc-4134-b3bd-cc9796561030"
      },
      "outputs": [
        {
          "output_type": "stream",
          "name": "stdout",
          "text": [
            "Found 1120 images belonging to 9 classes.\n"
          ]
        }
      ],
      "source": [
        " #Make sure you provide the same target size as initialied for the image size\n",
        "training_set = train_datagen.flow_from_directory('/content/drive/MyDrive/mango/Classification_dataset/output_dataset/train',\n",
        "                                                 target_size = (224, 224),\n",
        "                                                 batch_size = 16,\n",
        "                                                 class_mode = 'sparse')"
      ]
    },
    {
      "cell_type": "code",
      "execution_count": 18,
      "metadata": {
        "colab": {
          "base_uri": "https://localhost:8080/"
        },
        "id": "gKwZuveNNE6B",
        "outputId": "99f8b617-5b76-43f9-cc30-dcc7e331a430"
      },
      "outputs": [
        {
          "output_type": "stream",
          "name": "stdout",
          "text": [
            "Found 320 images belonging to 9 classes.\n"
          ]
        }
      ],
      "source": [
        "valid_set = valid_datagen.flow_from_directory('/content/drive/MyDrive/mango/Classification_dataset/output_dataset/val',\n",
        "                                            target_size = (224, 224),\n",
        "                                            batch_size = 16,\n",
        "                                            class_mode = 'sparse')"
      ]
    },
    {
      "cell_type": "code",
      "execution_count": 19,
      "metadata": {
        "colab": {
          "base_uri": "https://localhost:8080/"
        },
        "id": "gHBDm4MI5cy_",
        "outputId": "3c9771e5-c229-4bc1-98b1-d7ebfa9a25a6"
      },
      "outputs": [
        {
          "output_type": "stream",
          "name": "stdout",
          "text": [
            "Found 160 images belonging to 9 classes.\n"
          ]
        }
      ],
      "source": [
        "testing_set = testing_datagen.flow_from_directory('/content/drive/MyDrive/mango/Classification_dataset/output_dataset/test',\n",
        "                                                target_size=(224,224),\n",
        "                                                batch_size=16,\n",
        "                                                class_mode='sparse', shuffle=False)"
      ]
    },
    {
      "cell_type": "markdown",
      "metadata": {
        "id": "c-eukrTuiAkk"
      },
      "source": [
        "Training dengan Arsitektur VGG16"
      ]
    },
    {
      "cell_type": "code",
      "execution_count": 20,
      "metadata": {
        "colab": {
          "base_uri": "https://localhost:8080/"
        },
        "id": "ZIy5w4y9NT0n",
        "outputId": "88d29c65-2ffa-41d5-b06e-040a1cdf4a99"
      },
      "outputs": [
        {
          "output_type": "stream",
          "name": "stdout",
          "text": [
            "Epoch 1/120\n",
            "70/70 [==============================] - 38s 407ms/step - loss: 1.6205 - accuracy: 0.4384 - val_loss: 0.8773 - val_accuracy: 0.7750\n",
            "Epoch 2/120\n",
            "70/70 [==============================] - 23s 333ms/step - loss: 0.8256 - accuracy: 0.7750 - val_loss: 0.4899 - val_accuracy: 0.9312\n",
            "Epoch 3/120\n",
            "70/70 [==============================] - 26s 379ms/step - loss: 0.5619 - accuracy: 0.8661 - val_loss: 0.3882 - val_accuracy: 0.9250\n",
            "Epoch 4/120\n",
            "70/70 [==============================] - 25s 363ms/step - loss: 0.4245 - accuracy: 0.9071 - val_loss: 0.3126 - val_accuracy: 0.9344\n",
            "Epoch 5/120\n",
            "70/70 [==============================] - 23s 332ms/step - loss: 0.3551 - accuracy: 0.9214 - val_loss: 0.2392 - val_accuracy: 0.9531\n",
            "Epoch 6/120\n",
            "70/70 [==============================] - 24s 341ms/step - loss: 0.2838 - accuracy: 0.9527 - val_loss: 0.2285 - val_accuracy: 0.9469\n",
            "Epoch 7/120\n",
            "70/70 [==============================] - 24s 337ms/step - loss: 0.2316 - accuracy: 0.9571 - val_loss: 0.1683 - val_accuracy: 0.9656\n",
            "Epoch 8/120\n",
            "70/70 [==============================] - 25s 353ms/step - loss: 0.2054 - accuracy: 0.9607 - val_loss: 0.1405 - val_accuracy: 0.9781\n",
            "Epoch 9/120\n",
            "70/70 [==============================] - 24s 342ms/step - loss: 0.2063 - accuracy: 0.9589 - val_loss: 0.1323 - val_accuracy: 0.9781\n",
            "Epoch 10/120\n",
            "70/70 [==============================] - 26s 376ms/step - loss: 0.1458 - accuracy: 0.9723 - val_loss: 0.1300 - val_accuracy: 0.9688\n",
            "Epoch 11/120\n",
            "70/70 [==============================] - 24s 347ms/step - loss: 0.1291 - accuracy: 0.9777 - val_loss: 0.1253 - val_accuracy: 0.9656\n",
            "Epoch 12/120\n",
            "70/70 [==============================] - 23s 332ms/step - loss: 0.1452 - accuracy: 0.9732 - val_loss: 0.0947 - val_accuracy: 0.9781\n",
            "Epoch 13/120\n",
            "70/70 [==============================] - 26s 369ms/step - loss: 0.1276 - accuracy: 0.9750 - val_loss: 0.1317 - val_accuracy: 0.9625\n",
            "Epoch 14/120\n",
            "70/70 [==============================] - 24s 345ms/step - loss: 0.1098 - accuracy: 0.9768 - val_loss: 0.0792 - val_accuracy: 0.9781\n",
            "Epoch 15/120\n",
            "70/70 [==============================] - 23s 329ms/step - loss: 0.0969 - accuracy: 0.9839 - val_loss: 0.0987 - val_accuracy: 0.9719\n",
            "Epoch 16/120\n",
            "70/70 [==============================] - 24s 337ms/step - loss: 0.0867 - accuracy: 0.9857 - val_loss: 0.0725 - val_accuracy: 0.9875\n",
            "Epoch 17/120\n",
            "70/70 [==============================] - 24s 344ms/step - loss: 0.0758 - accuracy: 0.9893 - val_loss: 0.0721 - val_accuracy: 0.9844\n",
            "Epoch 18/120\n",
            "70/70 [==============================] - 24s 350ms/step - loss: 0.0690 - accuracy: 0.9875 - val_loss: 0.0605 - val_accuracy: 0.9875\n",
            "Epoch 19/120\n",
            "70/70 [==============================] - 26s 373ms/step - loss: 0.0805 - accuracy: 0.9866 - val_loss: 0.0586 - val_accuracy: 0.9875\n",
            "Epoch 20/120\n",
            "70/70 [==============================] - 24s 342ms/step - loss: 0.0559 - accuracy: 0.9955 - val_loss: 0.0652 - val_accuracy: 0.9844\n",
            "Epoch 21/120\n",
            "70/70 [==============================] - 24s 340ms/step - loss: 0.0580 - accuracy: 0.9937 - val_loss: 0.0495 - val_accuracy: 0.9875\n",
            "Epoch 22/120\n",
            "70/70 [==============================] - 25s 356ms/step - loss: 0.0531 - accuracy: 0.9929 - val_loss: 0.0656 - val_accuracy: 0.9781\n",
            "Epoch 23/120\n",
            "70/70 [==============================] - 26s 367ms/step - loss: 0.0544 - accuracy: 0.9955 - val_loss: 0.0516 - val_accuracy: 0.9875\n",
            "Epoch 24/120\n",
            "70/70 [==============================] - 23s 331ms/step - loss: 0.0480 - accuracy: 0.9955 - val_loss: 0.0624 - val_accuracy: 0.9812\n",
            "Epoch 25/120\n",
            "70/70 [==============================] - 25s 358ms/step - loss: 0.0457 - accuracy: 0.9929 - val_loss: 0.0562 - val_accuracy: 0.9812\n",
            "Epoch 26/120\n",
            "70/70 [==============================] - 25s 353ms/step - loss: 0.0496 - accuracy: 0.9893 - val_loss: 0.0600 - val_accuracy: 0.9812\n",
            "Epoch 27/120\n",
            "70/70 [==============================] - 23s 334ms/step - loss: 0.0467 - accuracy: 0.9920 - val_loss: 0.0518 - val_accuracy: 0.9844\n",
            "Epoch 28/120\n",
            "70/70 [==============================] - 26s 376ms/step - loss: 0.0397 - accuracy: 0.9937 - val_loss: 0.0483 - val_accuracy: 0.9844\n",
            "Epoch 29/120\n",
            "70/70 [==============================] - 24s 338ms/step - loss: 0.0316 - accuracy: 0.9991 - val_loss: 0.0592 - val_accuracy: 0.9875\n",
            "Epoch 30/120\n",
            "70/70 [==============================] - 24s 347ms/step - loss: 0.0391 - accuracy: 0.9964 - val_loss: 0.0463 - val_accuracy: 0.9844\n",
            "Epoch 31/120\n",
            "70/70 [==============================] - 25s 356ms/step - loss: 0.0271 - accuracy: 0.9991 - val_loss: 0.0391 - val_accuracy: 0.9844\n",
            "Epoch 32/120\n",
            "70/70 [==============================] - 26s 375ms/step - loss: 0.0329 - accuracy: 0.9964 - val_loss: 0.0398 - val_accuracy: 0.9906\n",
            "Epoch 33/120\n",
            "70/70 [==============================] - 27s 382ms/step - loss: 0.0275 - accuracy: 0.9991 - val_loss: 0.0338 - val_accuracy: 0.9906\n",
            "Epoch 34/120\n",
            "70/70 [==============================] - 24s 342ms/step - loss: 0.0252 - accuracy: 0.9973 - val_loss: 0.0372 - val_accuracy: 0.9844\n",
            "Epoch 35/120\n",
            "70/70 [==============================] - 25s 352ms/step - loss: 0.0430 - accuracy: 0.9902 - val_loss: 0.0478 - val_accuracy: 0.9875\n",
            "Epoch 36/120\n",
            "70/70 [==============================] - 25s 354ms/step - loss: 0.0298 - accuracy: 0.9946 - val_loss: 0.0341 - val_accuracy: 0.9906\n",
            "Epoch 37/120\n",
            "70/70 [==============================] - 25s 357ms/step - loss: 0.0239 - accuracy: 0.9982 - val_loss: 0.0392 - val_accuracy: 0.9906\n",
            "Epoch 38/120\n",
            "70/70 [==============================] - 25s 353ms/step - loss: 0.0219 - accuracy: 0.9991 - val_loss: 0.0524 - val_accuracy: 0.9781\n",
            "Epoch 39/120\n",
            "70/70 [==============================] - 26s 377ms/step - loss: 0.0295 - accuracy: 0.9964 - val_loss: 0.0456 - val_accuracy: 0.9844\n",
            "Epoch 40/120\n",
            "70/70 [==============================] - 23s 335ms/step - loss: 0.0273 - accuracy: 0.9964 - val_loss: 0.0375 - val_accuracy: 0.9906\n",
            "Epoch 41/120\n",
            "70/70 [==============================] - 25s 358ms/step - loss: 0.0185 - accuracy: 1.0000 - val_loss: 0.0292 - val_accuracy: 0.9906\n",
            "Epoch 42/120\n",
            "70/70 [==============================] - 26s 377ms/step - loss: 0.0209 - accuracy: 0.9982 - val_loss: 0.0452 - val_accuracy: 0.9844\n",
            "Epoch 43/120\n",
            "70/70 [==============================] - 25s 352ms/step - loss: 0.0183 - accuracy: 0.9982 - val_loss: 0.0632 - val_accuracy: 0.9750\n",
            "Epoch 44/120\n",
            "70/70 [==============================] - 24s 348ms/step - loss: 0.0182 - accuracy: 0.9982 - val_loss: 0.0271 - val_accuracy: 0.9937\n",
            "Epoch 45/120\n",
            "70/70 [==============================] - 23s 333ms/step - loss: 0.0184 - accuracy: 0.9982 - val_loss: 0.0420 - val_accuracy: 0.9906\n",
            "Epoch 46/120\n",
            "70/70 [==============================] - 24s 340ms/step - loss: 0.0241 - accuracy: 0.9955 - val_loss: 0.0219 - val_accuracy: 0.9937\n",
            "Epoch 47/120\n",
            "70/70 [==============================] - 24s 340ms/step - loss: 0.0156 - accuracy: 0.9964 - val_loss: 0.0345 - val_accuracy: 0.9937\n",
            "Epoch 48/120\n",
            "70/70 [==============================] - 24s 349ms/step - loss: 0.0113 - accuracy: 1.0000 - val_loss: 0.0302 - val_accuracy: 0.9875\n",
            "Epoch 49/120\n",
            "70/70 [==============================] - 26s 371ms/step - loss: 0.0274 - accuracy: 0.9964 - val_loss: 0.0526 - val_accuracy: 0.9875\n",
            "Epoch 50/120\n",
            "70/70 [==============================] - 23s 332ms/step - loss: 0.0244 - accuracy: 0.9964 - val_loss: 0.0308 - val_accuracy: 0.9937\n",
            "Epoch 51/120\n",
            "70/70 [==============================] - 26s 368ms/step - loss: 0.0138 - accuracy: 0.9991 - val_loss: 0.0207 - val_accuracy: 0.9937\n",
            "Epoch 52/120\n",
            "70/70 [==============================] - 23s 330ms/step - loss: 0.0230 - accuracy: 0.9946 - val_loss: 0.0335 - val_accuracy: 0.9875\n",
            "Epoch 53/120\n",
            "70/70 [==============================] - 25s 354ms/step - loss: 0.0339 - accuracy: 0.9902 - val_loss: 0.0835 - val_accuracy: 0.9688\n",
            "70/70 [==============================] - 25s 353ms/step - loss: 0.0267 - accuracy: 0.9946 - val_loss: 0.0206 - val_accuracy: 0.9937\n",
            "Epoch 55/120\n",
            "70/70 [==============================] - 25s 355ms/step - loss: 0.0205 - accuracy: 0.9946 - val_loss: 0.0195 - val_accuracy: 0.9969\n",
            "Epoch 56/120\n",
            "70/70 [==============================] - 24s 340ms/step - loss: 0.0108 - accuracy: 1.0000 - val_loss: 0.0220 - val_accuracy: 0.9906\n",
            "Epoch 57/120\n",
            "70/70 [==============================] - 23s 328ms/step - loss: 0.0090 - accuracy: 1.0000 - val_loss: 0.0316 - val_accuracy: 0.9875\n",
            "Epoch 58/120\n",
            "70/70 [==============================] - 25s 353ms/step - loss: 0.0127 - accuracy: 0.9982 - val_loss: 0.0301 - val_accuracy: 0.9906\n",
            "Epoch 59/120\n",
            "70/70 [==============================] - 24s 348ms/step - loss: 0.0060 - accuracy: 1.0000 - val_loss: 0.0170 - val_accuracy: 0.9969\n",
            "Epoch 60/120\n",
            "70/70 [==============================] - 23s 328ms/step - loss: 0.0141 - accuracy: 0.9955 - val_loss: 0.0827 - val_accuracy: 0.9656\n",
            "Epoch 61/120\n",
            "70/70 [==============================] - 28s 400ms/step - loss: 0.0127 - accuracy: 0.9982 - val_loss: 0.0306 - val_accuracy: 0.9875\n",
            "Epoch 62/120\n",
            "70/70 [==============================] - 23s 334ms/step - loss: 0.0094 - accuracy: 0.9982 - val_loss: 0.0201 - val_accuracy: 0.9906\n",
            "Epoch 63/120\n",
            "70/70 [==============================] - 25s 349ms/step - loss: 0.0092 - accuracy: 0.9991 - val_loss: 0.0199 - val_accuracy: 0.9937\n",
            "Epoch 64/120\n",
            "70/70 [==============================] - 25s 351ms/step - loss: 0.0099 - accuracy: 0.9991 - val_loss: 0.0177 - val_accuracy: 0.9906\n",
            "Epoch 65/120\n",
            "70/70 [==============================] - 25s 351ms/step - loss: 0.0112 - accuracy: 0.9982 - val_loss: 0.0178 - val_accuracy: 0.9969\n",
            "Epoch 66/120\n",
            "70/70 [==============================] - 23s 335ms/step - loss: 0.0138 - accuracy: 0.9991 - val_loss: 0.0225 - val_accuracy: 0.9875\n",
            "Epoch 67/120\n",
            "70/70 [==============================] - 26s 378ms/step - loss: 0.0221 - accuracy: 0.9946 - val_loss: 0.0296 - val_accuracy: 0.9875\n",
            "Epoch 68/120\n",
            "70/70 [==============================] - 24s 336ms/step - loss: 0.0257 - accuracy: 0.9964 - val_loss: 0.0237 - val_accuracy: 0.9906\n",
            "Epoch 69/120\n",
            "70/70 [==============================] - 24s 342ms/step - loss: 0.0132 - accuracy: 0.9982 - val_loss: 0.0321 - val_accuracy: 0.9906\n",
            "Epoch 70/120\n",
            "70/70 [==============================] - 25s 353ms/step - loss: 0.0273 - accuracy: 0.9911 - val_loss: 0.0352 - val_accuracy: 0.9875\n",
            "Epoch 71/120\n",
            "70/70 [==============================] - 25s 356ms/step - loss: 0.0096 - accuracy: 0.9982 - val_loss: 0.0155 - val_accuracy: 0.9937\n",
            "Epoch 72/120\n",
            "70/70 [==============================] - 24s 334ms/step - loss: 0.0072 - accuracy: 1.0000 - val_loss: 0.0228 - val_accuracy: 0.9875\n",
            "Epoch 73/120\n",
            "70/70 [==============================] - 23s 331ms/step - loss: 0.0045 - accuracy: 1.0000 - val_loss: 0.0189 - val_accuracy: 0.9937\n",
            "Epoch 74/120\n",
            "70/70 [==============================] - 26s 373ms/step - loss: 0.0062 - accuracy: 0.9991 - val_loss: 0.0155 - val_accuracy: 0.9937\n",
            "Epoch 75/120\n",
            "70/70 [==============================] - 26s 375ms/step - loss: 0.0218 - accuracy: 0.9955 - val_loss: 0.1180 - val_accuracy: 0.9563\n",
            "Epoch 76/120\n",
            "70/70 [==============================] - 24s 338ms/step - loss: 0.1121 - accuracy: 0.9688 - val_loss: 0.0296 - val_accuracy: 0.9875\n",
            "Epoch 77/120\n",
            "70/70 [==============================] - 24s 340ms/step - loss: 0.0142 - accuracy: 0.9955 - val_loss: 0.0187 - val_accuracy: 0.9969\n",
            "Epoch 78/120\n",
            "70/70 [==============================] - 24s 346ms/step - loss: 0.0042 - accuracy: 1.0000 - val_loss: 0.0318 - val_accuracy: 0.9937\n",
            "Epoch 79/120\n",
            "70/70 [==============================] - 23s 331ms/step - loss: 0.0169 - accuracy: 0.9955 - val_loss: 0.0192 - val_accuracy: 0.9906\n",
            "Epoch 80/120\n",
            "70/70 [==============================] - 24s 337ms/step - loss: 0.0039 - accuracy: 1.0000 - val_loss: 0.0193 - val_accuracy: 0.9937\n",
            "Epoch 81/120\n",
            "70/70 [==============================] - 24s 342ms/step - loss: 0.0051 - accuracy: 0.9991 - val_loss: 0.0560 - val_accuracy: 0.9844\n",
            "Epoch 82/120\n",
            "70/70 [==============================] - 23s 329ms/step - loss: 0.0127 - accuracy: 0.9955 - val_loss: 0.0261 - val_accuracy: 0.9937\n",
            "Epoch 83/120\n",
            "70/70 [==============================] - 24s 349ms/step - loss: 0.0056 - accuracy: 0.9991 - val_loss: 0.0242 - val_accuracy: 0.9906\n",
            "Epoch 84/120\n",
            "70/70 [==============================] - 25s 350ms/step - loss: 0.0052 - accuracy: 0.9982 - val_loss: 0.0141 - val_accuracy: 0.9969\n",
            "Epoch 85/120\n",
            "70/70 [==============================] - 24s 343ms/step - loss: 0.0066 - accuracy: 1.0000 - val_loss: 0.0184 - val_accuracy: 0.9969\n",
            "Epoch 86/120\n",
            "70/70 [==============================] - 24s 347ms/step - loss: 0.0040 - accuracy: 1.0000 - val_loss: 0.0182 - val_accuracy: 0.9875\n",
            "Epoch 87/120\n",
            "70/70 [==============================] - 23s 330ms/step - loss: 0.0044 - accuracy: 1.0000 - val_loss: 0.0177 - val_accuracy: 0.9906\n",
            "Epoch 88/120\n",
            "70/70 [==============================] - 25s 362ms/step - loss: 0.0083 - accuracy: 0.9991 - val_loss: 0.0192 - val_accuracy: 0.9937\n",
            "Epoch 89/120\n",
            "70/70 [==============================] - 23s 328ms/step - loss: 0.0133 - accuracy: 0.9973 - val_loss: 0.0365 - val_accuracy: 0.9937\n",
            "Epoch 90/120\n",
            "70/70 [==============================] - 24s 350ms/step - loss: 0.0074 - accuracy: 0.9973 - val_loss: 0.0219 - val_accuracy: 0.9937\n",
            "Epoch 91/120\n",
            "70/70 [==============================] - 24s 344ms/step - loss: 0.0067 - accuracy: 0.9982 - val_loss: 0.0309 - val_accuracy: 0.9844\n",
            "Epoch 92/120\n",
            "70/70 [==============================] - 23s 328ms/step - loss: 0.0087 - accuracy: 0.9982 - val_loss: 0.0188 - val_accuracy: 0.9937\n",
            "Epoch 93/120\n",
            "70/70 [==============================] - 26s 371ms/step - loss: 0.0037 - accuracy: 1.0000 - val_loss: 0.0224 - val_accuracy: 0.9937\n",
            "Epoch 94/120\n",
            "70/70 [==============================] - 24s 341ms/step - loss: 0.0030 - accuracy: 1.0000 - val_loss: 0.0140 - val_accuracy: 0.9969\n",
            "Epoch 95/120\n",
            "70/70 [==============================] - 23s 331ms/step - loss: 0.0037 - accuracy: 1.0000 - val_loss: 0.0231 - val_accuracy: 0.9906\n",
            "Epoch 96/120\n",
            "70/70 [==============================] - 24s 348ms/step - loss: 0.0050 - accuracy: 0.9991 - val_loss: 0.0198 - val_accuracy: 0.9875\n",
            "Epoch 97/120\n",
            "70/70 [==============================] - 26s 373ms/step - loss: 0.0197 - accuracy: 0.9937 - val_loss: 0.2929 - val_accuracy: 0.9219\n",
            "Epoch 98/120\n",
            "70/70 [==============================] - 24s 343ms/step - loss: 0.0572 - accuracy: 0.9857 - val_loss: 0.0190 - val_accuracy: 0.9937\n",
            "Epoch 99/120\n",
            "70/70 [==============================] - 24s 344ms/step - loss: 0.0123 - accuracy: 0.9964 - val_loss: 0.0075 - val_accuracy: 1.0000\n",
            "Epoch 100/120\n",
            "70/70 [==============================] - 25s 352ms/step - loss: 0.0044 - accuracy: 1.0000 - val_loss: 0.0102 - val_accuracy: 0.9937\n",
            "Epoch 101/120\n",
            "70/70 [==============================] - 23s 330ms/step - loss: 0.0041 - accuracy: 0.9991 - val_loss: 0.0070 - val_accuracy: 1.0000\n",
            "Epoch 102/120\n",
            "70/70 [==============================] - 24s 346ms/step - loss: 0.0112 - accuracy: 0.9973 - val_loss: 0.0491 - val_accuracy: 0.9875\n",
            "Epoch 103/120\n",
            "70/70 [==============================] - 25s 351ms/step - loss: 0.0517 - accuracy: 0.9848 - val_loss: 0.0172 - val_accuracy: 0.9969\n",
            "Epoch 104/120\n",
            "70/70 [==============================] - 24s 350ms/step - loss: 0.0408 - accuracy: 0.9875 - val_loss: 0.0132 - val_accuracy: 0.9937\n",
            "Epoch 105/120\n",
            "70/70 [==============================] - 23s 332ms/step - loss: 0.0107 - accuracy: 0.9991 - val_loss: 0.0098 - val_accuracy: 0.9969\n",
            "Epoch 106/120\n",
            "70/70 [==============================] - 25s 361ms/step - loss: 0.0024 - accuracy: 1.0000 - val_loss: 0.0222 - val_accuracy: 0.9906\n",
            "Epoch 107/120\n",
            "70/70 [==============================] - 24s 347ms/step - loss: 0.0093 - accuracy: 0.9973 - val_loss: 0.0094 - val_accuracy: 1.0000\n",
            "Epoch 108/120\n",
            "70/70 [==============================] - 26s 368ms/step - loss: 0.0028 - accuracy: 1.0000 - val_loss: 0.0106 - val_accuracy: 0.9937\n",
            "Epoch 109/120\n",
            "70/70 [==============================] - 23s 327ms/step - loss: 0.0014 - accuracy: 1.0000 - val_loss: 0.0131 - val_accuracy: 0.9969\n",
            "Epoch 110/120\n",
            "70/70 [==============================] - 26s 369ms/step - loss: 0.0024 - accuracy: 1.0000 - val_loss: 0.0162 - val_accuracy: 0.9969\n",
            "Epoch 111/120\n",
            "70/70 [==============================] - 24s 346ms/step - loss: 0.0014 - accuracy: 1.0000 - val_loss: 0.0132 - val_accuracy: 0.9937\n",
            "Epoch 112/120\n",
            "70/70 [==============================] - 24s 341ms/step - loss: 0.0019 - accuracy: 1.0000 - val_loss: 0.0179 - val_accuracy: 0.9906\n",
            "Epoch 113/120\n",
            "70/70 [==============================] - 23s 326ms/step - loss: 0.0012 - accuracy: 1.0000 - val_loss: 0.0181 - val_accuracy: 0.9969\n",
            "Epoch 114/120\n",
            "70/70 [==============================] - 26s 368ms/step - loss: 0.0021 - accuracy: 1.0000 - val_loss: 0.0134 - val_accuracy: 0.9937\n",
            "Epoch 115/120\n",
            "70/70 [==============================] - 31s 439ms/step - loss: 0.0178 - accuracy: 0.9929 - val_loss: 0.0939 - val_accuracy: 0.9656\n",
            "Epoch 116/120\n",
            "70/70 [==============================] - 28s 399ms/step - loss: 0.0114 - accuracy: 0.9973 - val_loss: 0.0397 - val_accuracy: 0.9875\n",
            "Epoch 117/120\n",
            "70/70 [==============================] - 26s 368ms/step - loss: 0.0079 - accuracy: 0.9982 - val_loss: 0.0191 - val_accuracy: 0.9937\n",
            "Epoch 118/120\n",
            "70/70 [==============================] - 24s 346ms/step - loss: 0.0039 - accuracy: 1.0000 - val_loss: 0.0214 - val_accuracy: 0.9937\n",
            "Epoch 119/120\n",
            "70/70 [==============================] - 24s 339ms/step - loss: 9.8742e-04 - accuracy: 1.0000 - val_loss: 0.0173 - val_accuracy: 0.9937\n",
            "Epoch 120/120\n",
            "70/70 [==============================] - 24s 347ms/step - loss: 0.0019 - accuracy: 1.0000 - val_loss: 0.0160 - val_accuracy: 0.9969\n"
          ]
        }
      ],
      "source": [
        "# Fit the model\n",
        "\n",
        "r = model.fit(\n",
        "              training_set,\n",
        "              validation_data=valid_set,\n",
        "              epochs=120,\n",
        "              steps_per_epoch=len(training_set),\n",
        "              validation_steps=len(valid_set))"
      ]
    },
    {
      "cell_type": "code",
      "execution_count": 21,
      "metadata": {
        "colab": {
          "base_uri": "https://localhost:8080/",
          "height": 843
        },
        "id": "w6Xn4-QiNXP9",
        "outputId": "e95c40a1-c197-4b3b-8053-a522b72341a8"
      },
      "outputs": [
        {
          "output_type": "display_data",
          "data": {
            "text/plain": [
              "<Figure size 640x480 with 1 Axes>"
            ],
            "image/png": "[encoded data removed]"
          },
          "metadata": {}
        },
        {
          "output_type": "display_data",
          "data": {
            "text/plain": [
              "<Figure size 640x480 with 1 Axes>"
            ],
            "image/png": "[encoded data removed]"
          },
          "metadata": {}
        }
      ],
      "source": [
        "# plot the loss\n",
        "plt.plot(r.history['loss'], label='train loss')\n",
        "plt.plot(r.history['val_loss'], label='val loss')\n",
        "plt.legend()\n",
        "plt.show()\n",
        "\n",
        "# plot the accuracy\n",
        "plt.plot(r.history['accuracy'], label='train acc')\n",
        "plt.plot(r.history['val_accuracy'], label='val acc')\n",
        "plt.legend()\n",
        "plt.show()"
      ]
    },
    {
      "cell_type": "code",
      "execution_count": 22,
      "metadata": {
        "colab": {
          "base_uri": "https://localhost:8080/"
        },
        "id": "idJ7Q8OG_dBq",
        "outputId": "accdd464-d99f-4b89-c096-6568d5e85c7b"
      },
      "outputs": [
        {
          "output_type": "stream",
          "name": "stdout",
          "text": [
            "20/20 [==============================] - 2s 113ms/step - loss: 0.0160 - accuracy: 0.9969\n"
          ]
        }
      ],
      "source": [
        "scores_validasi = model.evaluate(valid_set)"
      ]
    },
    {
      "cell_type": "code",
      "execution_count": 23,
      "metadata": {
        "id": "zrqbeQl__m6l",
        "colab": {
          "base_uri": "https://localhost:8080/"
        },
        "outputId": "2857483f-b961-4f73-e622-e1f6384e951e"
      },
      "outputs": [
        {
          "output_type": "stream",
          "name": "stdout",
          "text": [
            "70/70 [==============================] - 21s 303ms/step - loss: 9.9524e-04 - accuracy: 1.0000\n"
          ]
        }
      ],
      "source": [
        "scores_train = model.evaluate(training_set)"
      ]
    },
    {
      "cell_type": "code",
      "execution_count": 24,
      "metadata": {
        "colab": {
          "base_uri": "https://localhost:8080/"
        },
        "id": "G70FH3MgWwDV",
        "outputId": "9a40d2e6-53a1-47f3-debe-484b1e1323f7"
      },
      "outputs": [
        {
          "output_type": "stream",
          "name": "stderr",
          "text": [
            "/usr/local/lib/python3.10/dist-packages/keras/src/engine/training.py:3103: UserWarning: You are saving your model as an HDF5 file via `model.save()`. This file format is considered legacy. We recommend using instead the native Keras format, e.g. `model.save('my_model.keras')`.\n",
            "  saving_api.save_model(\n"
          ]
        }
      ],
      "source": [
        "#save model\n",
        "model.save(\"/content/drive/MyDrive/Model/P9_adam_0.0001_E_120.h5\")"
      ]
    },
    {
      "cell_type": "code",
      "execution_count": 25,
      "metadata": {
        "id": "_-G1AmAO3-Zo"
      },
      "outputs": [],
      "source": [
        "model.save(\"/content/drive/MyDrive/Model/P9_adam_0.0001_E_120.hdf5\")"
      ]
    }
  ],
  "metadata": {
    "accelerator": "GPU",
    "colab": {
      "gpuType": "T4",
      "provenance": []
    },
    "kernelspec": {
      "display_name": "Python 3",
      "name": "python3"
    },
    "language_info": {
      "name": "python"
    }
  },
  "nbformat": 4,
  "nbformat_minor": 0
}