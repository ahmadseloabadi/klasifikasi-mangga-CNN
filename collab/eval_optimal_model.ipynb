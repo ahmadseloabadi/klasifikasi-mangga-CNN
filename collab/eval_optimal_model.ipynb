{
  "cells": [
    {
      "cell_type": "code",
      "execution_count": 22,
      "metadata": {
        "colab": {
          "base_uri": "https://localhost:8080/"
        },
        "id": "SP_nnvl1GfuX",
        "outputId": "34647b24-e576-43ae-eca2-63df021707d5"
      },
      "outputs": [
        {
          "output_type": "stream",
          "name": "stdout",
          "text": [
            "Drive already mounted at /content/drive; to attempt to forcibly remount, call drive.mount(\"/content/drive\", force_remount=True).\n"
          ]
        }
      ],
      "source": [
        "#Menghubungkan Google Colab dengan Google Drive :\n",
        "from google.colab import drive\n",
        "drive.mount('/content/drive')"
      ]
    },
    {
      "cell_type": "markdown",
      "metadata": {
        "id": "aQFvt0imw-JO"
      },
      "source": []
    },
    {
      "cell_type": "code",
      "execution_count": 23,
      "metadata": {
        "id": "9jEc8WPZHVr1"
      },
      "outputs": [],
      "source": [
        "# Basic Computation\n",
        "import pandas as pd\n",
        "import os"
      ]
    },
    {
      "cell_type": "code",
      "execution_count": 24,
      "metadata": {
        "id": "y58pCbMAHW1K"
      },
      "outputs": [],
      "source": [
        "def load_images_from_folder(folder,only_path = False, label = \"\"):\n",
        "    if only_path == False:\n",
        "        images = []\n",
        "        for filename in os.listdir(folder):\n",
        "            img = plt.imread(os.path.join(folder,filename))\n",
        "            if img is not None:\n",
        "                images.append(img)\n",
        "        return images\n",
        "    else:\n",
        "        path = []\n",
        "        for filename in os.listdir(folder):\n",
        "            img_path = os.path.join(folder,filename)\n",
        "            if img_path is not None:\n",
        "                path.append([label,img_path])\n",
        "        return path"
      ]
    },
    {
      "cell_type": "code",
      "execution_count": 4,
      "metadata": {
        "colab": {
          "base_uri": "https://localhost:8080/",
          "height": 206
        },
        "id": "scIzovU8Hf2q",
        "outputId": "bbfc5423-377a-4434-9a2d-1137b0e5d2f2"
      },
      "outputs": [
        {
          "output_type": "execute_result",
          "data": {
            "text/plain": [
              "     mango                                               path\n",
              "0  Sindhri  /content/drive/MyDrive/mango/Classification_da...\n",
              "1  Sindhri  /content/drive/MyDrive/mango/Classification_da...\n",
              "2  Sindhri  /content/drive/MyDrive/mango/Classification_da...\n",
              "3  Sindhri  /content/drive/MyDrive/mango/Classification_da...\n",
              "4  Sindhri  /content/drive/MyDrive/mango/Classification_da..."
            ],
            "text/html": [
              "\n",
              "  <div id=\"df-4d665264-41b9-4b29-b6de-691e334f00b3\" class=\"colab-df-container\">\n",
              "    <div>\n",
              "<style scoped>\n",
              "    .dataframe tbody tr th:only-of-type {\n",
              "        vertical-align: middle;\n",
              "    }\n",
              "\n",
              "    .dataframe tbody tr th {\n",
              "        vertical-align: top;\n",
              "    }\n",
              "\n",
              "    .dataframe thead th {\n",
              "        text-align: right;\n",
              "    }\n",
              "</style>\n",
              "<table border=\"1\" class=\"dataframe\">\n",
              "  <thead>\n",
              "    <tr style=\"text-align: right;\">\n",
              "      <th></th>\n",
              "      <th>mango</th>\n",
              "      <th>path</th>\n",
              "    </tr>\n",
              "  </thead>\n",
              "  <tbody>\n",
              "    <tr>\n",
              "      <th>0</th>\n",
              "      <td>Sindhri</td>\n",
              "      <td>/content/drive/MyDrive/mango/Classification_da...</td>\n",
              "    </tr>\n",
              "    <tr>\n",
              "      <th>1</th>\n",
              "      <td>Sindhri</td>\n",
              "      <td>/content/drive/MyDrive/mango/Classification_da...</td>\n",
              "    </tr>\n",
              "    <tr>\n",
              "      <th>2</th>\n",
              "      <td>Sindhri</td>\n",
              "      <td>/content/drive/MyDrive/mango/Classification_da...</td>\n",
              "    </tr>\n",
              "    <tr>\n",
              "      <th>3</th>\n",
              "      <td>Sindhri</td>\n",
              "      <td>/content/drive/MyDrive/mango/Classification_da...</td>\n",
              "    </tr>\n",
              "    <tr>\n",
              "      <th>4</th>\n",
              "      <td>Sindhri</td>\n",
              "      <td>/content/drive/MyDrive/mango/Classification_da...</td>\n",
              "    </tr>\n",
              "  </tbody>\n",
              "</table>\n",
              "</div>\n",
              "    <div class=\"colab-df-buttons\">\n",
              "\n",
              "  <div class=\"colab-df-container\">\n",
              "    <button class=\"colab-df-convert\" onclick=\"convertToInteractive('df-4d665264-41b9-4b29-b6de-691e334f00b3')\"\n",
              "            title=\"Convert this dataframe to an interactive table.\"\n",
              "            style=\"display:none;\">\n",
              "\n",
              "  <svg xmlns=\"http://www.w3.org/2000/svg\" height=\"24px\" viewBox=\"0 -960 960 960\">\n",
              "    <path d=\"M120-120v-720h720v720H120Zm60-500h600v-160H180v160Zm220 220h160v-160H400v160Zm0 220h160v-160H400v160ZM180-400h160v-160H180v160Zm440 0h160v-160H620v160ZM180-180h160v-160H180v160Zm440 0h160v-160H620v160Z\"/>\n",
              "  </svg>\n",
              "    </button>\n",
              "\n",
              "  <style>\n",
              "    .colab-df-container {\n",
              "      display:flex;\n",
              "      gap: 12px;\n",
              "    }\n",
              "\n",
              "    .colab-df-convert {\n",
              "      background-color: #E8F0FE;\n",
              "      border: none;\n",
              "      border-radius: 50%;\n",
              "      cursor: pointer;\n",
              "      display: none;\n",
              "      fill: #1967D2;\n",
              "      height: 32px;\n",
              "      padding: 0 0 0 0;\n",
              "      width: 32px;\n",
              "    }\n",
              "\n",
              "    .colab-df-convert:hover {\n",
              "      background-color: #E2EBFA;\n",
              "      box-shadow: 0px 1px 2px rgba(60, 64, 67, 0.3), 0px 1px 3px 1px rgba(60, 64, 67, 0.15);\n",
              "      fill: #174EA6;\n",
              "    }\n",
              "\n",
              "    .colab-df-buttons div {\n",
              "      margin-bottom: 4px;\n",
              "    }\n",
              "\n",
              "    [theme=dark] .colab-df-convert {\n",
              "      background-color: #3B4455;\n",
              "      fill: #D2E3FC;\n",
              "    }\n",
              "\n",
              "    [theme=dark] .colab-df-convert:hover {\n",
              "      background-color: #434B5C;\n",
              "      box-shadow: 0px 1px 3px 1px rgba(0, 0, 0, 0.15);\n",
              "      filter: drop-shadow(0px 1px 2px rgba(0, 0, 0, 0.3));\n",
              "      fill: #FFFFFF;\n",
              "    }\n",
              "  </style>\n",
              "\n",
              "    <script>\n",
              "      const buttonEl =\n",
              "        document.querySelector('#df-4d665264-41b9-4b29-b6de-691e334f00b3 button.colab-df-convert');\n",
              "      buttonEl.style.display =\n",
              "        google.colab.kernel.accessAllowed ? 'block' : 'none';\n",
              "\n",
              "      async function convertToInteractive(key) {\n",
              "        const element = document.querySelector('#df-4d665264-41b9-4b29-b6de-691e334f00b3');\n",
              "        const dataTable =\n",
              "          await google.colab.kernel.invokeFunction('convertToInteractive',\n",
              "                                                    [key], {});\n",
              "        if (!dataTable) return;\n",
              "\n",
              "        const docLinkHtml = 'Like what you see? Visit the ' +\n",
              "          '<a target=\"_blank\" href=https://colab.research.google.com/notebooks/data_table.ipynb>data table notebook</a>'\n",
              "          + ' to learn more about interactive tables.';\n",
              "        element.innerHTML = '';\n",
              "        dataTable['output_type'] = 'display_data';\n",
              "        await google.colab.output.renderOutput(dataTable, element);\n",
              "        const docLink = document.createElement('div');\n",
              "        docLink.innerHTML = docLinkHtml;\n",
              "        element.appendChild(docLink);\n",
              "      }\n",
              "    </script>\n",
              "  </div>\n",
              "\n",
              "\n",
              "<div id=\"df-8f2bfa70-9f69-41ca-9311-d99e64079e18\">\n",
              "  <button class=\"colab-df-quickchart\" onclick=\"quickchart('df-8f2bfa70-9f69-41ca-9311-d99e64079e18')\"\n",
              "            title=\"Suggest charts\"\n",
              "            style=\"display:none;\">\n",
              "\n",
              "<svg xmlns=\"http://www.w3.org/2000/svg\" height=\"24px\"viewBox=\"0 0 24 24\"\n",
              "     width=\"24px\">\n",
              "    <g>\n",
              "        <path d=\"M19 3H5c-1.1 0-2 .9-2 2v14c0 1.1.9 2 2 2h14c1.1 0 2-.9 2-2V5c0-1.1-.9-2-2-2zM9 17H7v-7h2v7zm4 0h-2V7h2v10zm4 0h-2v-4h2v4z\"/>\n",
              "    </g>\n",
              "</svg>\n",
              "  </button>\n",
              "\n",
              "<style>\n",
              "  .colab-df-quickchart {\n",
              "      --bg-color: #E8F0FE;\n",
              "      --fill-color: #1967D2;\n",
              "      --hover-bg-color: #E2EBFA;\n",
              "      --hover-fill-color: #174EA6;\n",
              "      --disabled-fill-color: #AAA;\n",
              "      --disabled-bg-color: #DDD;\n",
              "  }\n",
              "\n",
              "  [theme=dark] .colab-df-quickchart {\n",
              "      --bg-color: #3B4455;\n",
              "      --fill-color: #D2E3FC;\n",
              "      --hover-bg-color: #434B5C;\n",
              "      --hover-fill-color: #FFFFFF;\n",
              "      --disabled-bg-color: #3B4455;\n",
              "      --disabled-fill-color: #666;\n",
              "  }\n",
              "\n",
              "  .colab-df-quickchart {\n",
              "    background-color: var(--bg-color);\n",
              "    border: none;\n",
              "    border-radius: 50%;\n",
              "    cursor: pointer;\n",
              "    display: none;\n",
              "    fill: var(--fill-color);\n",
              "    height: 32px;\n",
              "    padding: 0;\n",
              "    width: 32px;\n",
              "  }\n",
              "\n",
              "  .colab-df-quickchart:hover {\n",
              "    background-color: var(--hover-bg-color);\n",
              "    box-shadow: 0 1px 2px rgba(60, 64, 67, 0.3), 0 1px 3px 1px rgba(60, 64, 67, 0.15);\n",
              "    fill: var(--button-hover-fill-color);\n",
              "  }\n",
              "\n",
              "  .colab-df-quickchart-complete:disabled,\n",
              "  .colab-df-quickchart-complete:disabled:hover {\n",
              "    background-color: var(--disabled-bg-color);\n",
              "    fill: var(--disabled-fill-color);\n",
              "    box-shadow: none;\n",
              "  }\n",
              "\n",
              "  .colab-df-spinner {\n",
              "    border: 2px solid var(--fill-color);\n",
              "    border-color: transparent;\n",
              "    border-bottom-color: var(--fill-color);\n",
              "    animation:\n",
              "      spin 1s steps(1) infinite;\n",
              "  }\n",
              "\n",
              "  @keyframes spin {\n",
              "    0% {\n",
              "      border-color: transparent;\n",
              "      border-bottom-color: var(--fill-color);\n",
              "      border-left-color: var(--fill-color);\n",
              "    }\n",
              "    20% {\n",
              "      border-color: transparent;\n",
              "      border-left-color: var(--fill-color);\n",
              "      border-top-color: var(--fill-color);\n",
              "    }\n",
              "    30% {\n",
              "      border-color: transparent;\n",
              "      border-left-color: var(--fill-color);\n",
              "      border-top-color: var(--fill-color);\n",
              "      border-right-color: var(--fill-color);\n",
              "    }\n",
              "    40% {\n",
              "      border-color: transparent;\n",
              "      border-right-color: var(--fill-color);\n",
              "      border-top-color: var(--fill-color);\n",
              "    }\n",
              "    60% {\n",
              "      border-color: transparent;\n",
              "      border-right-color: var(--fill-color);\n",
              "    }\n",
              "    80% {\n",
              "      border-color: transparent;\n",
              "      border-right-color: var(--fill-color);\n",
              "      border-bottom-color: var(--fill-color);\n",
              "    }\n",
              "    90% {\n",
              "      border-color: transparent;\n",
              "      border-bottom-color: var(--fill-color);\n",
              "    }\n",
              "  }\n",
              "</style>\n",
              "\n",
              "  <script>\n",
              "    async function quickchart(key) {\n",
              "      const quickchartButtonEl =\n",
              "        document.querySelector('#' + key + ' button');\n",
              "      quickchartButtonEl.disabled = true;  // To prevent multiple clicks.\n",
              "      quickchartButtonEl.classList.add('colab-df-spinner');\n",
              "      try {\n",
              "        const charts = await google.colab.kernel.invokeFunction(\n",
              "            'suggestCharts', [key], {});\n",
              "      } catch (error) {\n",
              "        console.error('Error during call to suggestCharts:', error);\n",
              "      }\n",
              "      quickchartButtonEl.classList.remove('colab-df-spinner');\n",
              "      quickchartButtonEl.classList.add('colab-df-quickchart-complete');\n",
              "    }\n",
              "    (() => {\n",
              "      let quickchartButtonEl =\n",
              "        document.querySelector('#df-8f2bfa70-9f69-41ca-9311-d99e64079e18 button');\n",
              "      quickchartButtonEl.style.display =\n",
              "        google.colab.kernel.accessAllowed ? 'block' : 'none';\n",
              "    })();\n",
              "  </script>\n",
              "</div>\n",
              "    </div>\n",
              "  </div>\n"
            ],
            "application/vnd.google.colaboratory.intrinsic+json": {
              "type": "dataframe",
              "variable_name": "df",
              "summary": "{\n  \"name\": \"df\",\n  \"rows\": 1603,\n  \"fields\": [\n    {\n      \"column\": \"mango\",\n      \"properties\": {\n        \"dtype\": \"category\",\n        \"num_unique_values\": 9,\n        \"samples\": [\n          \"Anwar Ratool\",\n          \"Fajri\",\n          \"Dosehri\"\n        ],\n        \"semantic_type\": \"\",\n        \"description\": \"\"\n      }\n    },\n    {\n      \"column\": \"path\",\n      \"properties\": {\n        \"dtype\": \"string\",\n        \"num_unique_values\": 1603,\n        \"samples\": [\n          \"/content/drive/MyDrive/mango/Classification_dataset/Langra/IMG_20210702_075437.jpg\",\n          \"/content/drive/MyDrive/mango/Classification_dataset/Dosehri/IMG_20210629_183822.jpg\",\n          \"/content/drive/MyDrive/mango/Classification_dataset/Sindhri/IMG_20210702_184258 - Copy.jpg\"\n        ],\n        \"semantic_type\": \"\",\n        \"description\": \"\"\n      }\n    }\n  ]\n}"
            }
          },
          "metadata": {},
          "execution_count": 4
        }
      ],
      "source": [
        "images = []\n",
        "dirp = \"/content/drive/MyDrive/mango/Classification_dataset/\"\n",
        "for f in os.listdir(dirp):\n",
        "    images += load_images_from_folder(dirp+f,True,label = f)\n",
        "\n",
        "# membuat data frame\n",
        "df = pd.DataFrame(images, columns = [\"mango\", \"path\"])\n",
        "df.head()"
      ]
    },
    {
      "cell_type": "code",
      "execution_count": 5,
      "metadata": {
        "id": "8L4FUeyFHspu"
      },
      "outputs": [],
      "source": [
        "# visualization\n",
        "import matplotlib.pyplot as plt\n",
        "import seaborn as sns"
      ]
    },
    {
      "cell_type": "code",
      "execution_count": 6,
      "metadata": {
        "colab": {
          "base_uri": "https://localhost:8080/",
          "height": 576
        },
        "id": "9Qa8Y59zH1Yk",
        "outputId": "1767b887-c325-4eee-cb71-66e589fa6e58"
      },
      "outputs": [
        {
          "output_type": "stream",
          "name": "stderr",
          "text": [
            "<ipython-input-6-90ef1e150f2f>:4: FutureWarning: \n",
            "\n",
            "Passing `palette` without assigning `hue` is deprecated and will be removed in v0.14.0. Assign the `x` variable to `hue` and set `legend=False` for the same effect.\n",
            "\n",
            "  sns.barplot(x = vc.index, y = vc, palette = \"rocket\")\n"
          ]
        },
        {
          "output_type": "display_data",
          "data": {
            "text/plain": [
              "<Figure size 1000x500 with 1 Axes>"
            ],
            "image/png": "[encoded data removed]"
          },
          "metadata": {}
        }
      ],
      "source": [
        "# menampilkan jumlah gambar pada tiap category\n",
        "vc = df[\"mango\"].value_counts()\n",
        "plt.figure(figsize=(10,5))\n",
        "sns.barplot(x = vc.index, y = vc, palette = \"rocket\")\n",
        "plt.title(\"Jumlah gambar tiap category\", fontsize = 15)\n",
        "plt.show()"
      ]
    },
    {
      "cell_type": "code",
      "execution_count": 7,
      "metadata": {
        "id": "sYQKeD-_ddX7"
      },
      "outputs": [],
      "source": [
        "# ## install library untuk pembagian dataset menjadi 3 yaitu train,test,val\n",
        "# !pip install split_folders\n",
        "# ## install library untuk pembagian dataset menjadi 3 yaitu train,test,val\n",
        "# import splitfolders"
      ]
    },
    {
      "cell_type": "code",
      "execution_count": 8,
      "metadata": {
        "id": "aWrwsJK7dqNz"
      },
      "outputs": [],
      "source": [
        "# # pembagian dataset menjadi 3 yaitu train,test,val\n",
        "# input_folders = '/content/drive/MyDrive/mango/Classification_dataset'\n",
        "# output_folders = '/content/drive/MyDrive/mango/Classification_dataset/output_dataset'\n",
        "# splitfolders.ratio(input_folders,output_folders, seed =42, ratio=(.7,.2,.1))"
      ]
    },
    {
      "cell_type": "code",
      "execution_count": 9,
      "metadata": {
        "id": "kry_ljc3G14X"
      },
      "outputs": [],
      "source": [
        "\n",
        "# Importing Required Libraries\n",
        "import cv2\n",
        "import os\n",
        "import tensorflow as tf\n",
        "import matplotlib.pyplot as plt\n",
        "from glob import glob\n",
        "from keras.models import Sequential\n",
        "from keras import models, layers, optimizers\n",
        "from keras.layers import Conv2D, MaxPooling2D, Dropout, BatchNormalization\n",
        "from keras.layers import Flatten, Dense\n",
        "from keras.preprocessing.image import ImageDataGenerator\n",
        "from tensorflow.keras.models import Model\n"
      ]
    },
    {
      "cell_type": "markdown",
      "metadata": {
        "id": "5ozAmptwnoqU"
      },
      "source": [
        "Arsitektur Vgg16"
      ]
    },
    {
      "cell_type": "code",
      "execution_count": 10,
      "metadata": {
        "id": "PbPv55VDG_jR"
      },
      "outputs": [],
      "source": [
        "from keras.applications.vgg16 import VGG16"
      ]
    },
    {
      "cell_type": "code",
      "execution_count": 11,
      "metadata": {
        "id": "ekDuGrxKSa0r",
        "colab": {
          "base_uri": "https://localhost:8080/"
        },
        "outputId": "ca170713-6300-4f2f-f1bd-e9f29973d0fb"
      },
      "outputs": [
        {
          "output_type": "stream",
          "name": "stdout",
          "text": [
            "Downloading data from https://storage.googleapis.com/tensorflow/keras-applications/vgg16/vgg16_weights_tf_dim_ordering_tf_kernels_notop.h5\n",
            "58889256/58889256 [==============================] - 3s 0us/step\n"
          ]
        }
      ],
      "source": [
        "base_model = tf.keras.applications.VGG16(\n",
        "    include_top=False,\n",
        "    input_shape=(224,224,3),\n",
        ")"
      ]
    },
    {
      "cell_type": "code",
      "execution_count": 12,
      "metadata": {
        "id": "WrPMt2BBUtTO"
      },
      "outputs": [],
      "source": [
        "# Mengunci semua layer base_model agar tidak terupdate selama pelatihan\n",
        "for layer in base_model.layers:\n",
        "    layer.trainable = False\n",
        "\n",
        "# Membuat output layer kustom untuk jumlah kelas yang diinginkan\n",
        "x = Flatten()(base_model.output)\n",
        "x = Dense(256, activation='relu')(x)\n",
        "x = Dense(8, activation='softmax')(x)\n",
        "\n",
        "# Menggabungkan base model dengan output layer kustom\n",
        "model = Model(inputs=base_model.input, outputs=x)"
      ]
    },
    {
      "cell_type": "code",
      "execution_count": 13,
      "metadata": {
        "colab": {
          "base_uri": "https://localhost:8080/"
        },
        "id": "kwAGTqhyMLhr",
        "outputId": "b5939f37-085f-44bd-bb79-c21aecd2b265"
      },
      "outputs": [
        {
          "output_type": "stream",
          "name": "stdout",
          "text": [
            "Model: \"model\"\n",
            "_________________________________________________________________\n",
            " Layer (type)                Output Shape              Param #   \n",
            "=================================================================\n",
            " input_1 (InputLayer)        [(None, 224, 224, 3)]     0         \n",
            "                                                                 \n",
            " block1_conv1 (Conv2D)       (None, 224, 224, 64)      1792      \n",
            "                                                                 \n",
            " block1_conv2 (Conv2D)       (None, 224, 224, 64)      36928     \n",
            "                                                                 \n",
            " block1_pool (MaxPooling2D)  (None, 112, 112, 64)      0         \n",
            "                                                                 \n",
            " block2_conv1 (Conv2D)       (None, 112, 112, 128)     73856     \n",
            "                                                                 \n",
            " block2_conv2 (Conv2D)       (None, 112, 112, 128)     147584    \n",
            "                                                                 \n",
            " block2_pool (MaxPooling2D)  (None, 56, 56, 128)       0         \n",
            "                                                                 \n",
            " block3_conv1 (Conv2D)       (None, 56, 56, 256)       295168    \n",
            "                                                                 \n",
            " block3_conv2 (Conv2D)       (None, 56, 56, 256)       590080    \n",
            "                                                                 \n",
            " block3_conv3 (Conv2D)       (None, 56, 56, 256)       590080    \n",
            "                                                                 \n",
            " block3_pool (MaxPooling2D)  (None, 28, 28, 256)       0         \n",
            "                                                                 \n",
            " block4_conv1 (Conv2D)       (None, 28, 28, 512)       1180160   \n",
            "                                                                 \n",
            " block4_conv2 (Conv2D)       (None, 28, 28, 512)       2359808   \n",
            "                                                                 \n",
            " block4_conv3 (Conv2D)       (None, 28, 28, 512)       2359808   \n",
            "                                                                 \n",
            " block4_pool (MaxPooling2D)  (None, 14, 14, 512)       0         \n",
            "                                                                 \n",
            " block5_conv1 (Conv2D)       (None, 14, 14, 512)       2359808   \n",
            "                                                                 \n",
            " block5_conv2 (Conv2D)       (None, 14, 14, 512)       2359808   \n",
            "                                                                 \n",
            " block5_conv3 (Conv2D)       (None, 14, 14, 512)       2359808   \n",
            "                                                                 \n",
            " block5_pool (MaxPooling2D)  (None, 7, 7, 512)         0         \n",
            "                                                                 \n",
            " flatten (Flatten)           (None, 25088)             0         \n",
            "                                                                 \n",
            " dense (Dense)               (None, 256)               6422784   \n",
            "                                                                 \n",
            " dense_1 (Dense)             (None, 8)                 2056      \n",
            "                                                                 \n",
            "=================================================================\n",
            "Total params: 21139528 (80.64 MB)\n",
            "Trainable params: 6424840 (24.51 MB)\n",
            "Non-trainable params: 14714688 (56.13 MB)\n",
            "_________________________________________________________________\n"
          ]
        }
      ],
      "source": [
        "model.summary()"
      ]
    },
    {
      "cell_type": "markdown",
      "metadata": {
        "id": "6W1S3IdOhsvN"
      },
      "source": [
        "Preprcessing"
      ]
    },
    {
      "cell_type": "code",
      "execution_count": 14,
      "metadata": {
        "id": "GMPUXBNSfZHs"
      },
      "outputs": [],
      "source": [
        "# path data train dan data validation\n",
        "val_path ='/content/drive/MyDrive/mango/Classification_dataset/output_dataset/val'\n",
        "training_path ='/content/drive/MyDrive/mango/Classification_dataset/output_dataset/train'\n",
        "\n",
        "# path data testing\n",
        "testing_path ='/content/drive/MyDrive/mango/Classification_dataset/output_dataset/test'"
      ]
    },
    {
      "cell_type": "code",
      "execution_count": 15,
      "metadata": {
        "id": "JsD_Cna8M9Rw"
      },
      "outputs": [],
      "source": [
        "train_datagen = ImageDataGenerator (rescale = 1./255,\n",
        "                                    zoom_range = 0.2,\n",
        "                                    rotation_range = 20)\n",
        "\n",
        "valid_datagen = ImageDataGenerator(rescale = 1./255)\n",
        "testing_datagen = ImageDataGenerator(rescale=1./255)"
      ]
    },
    {
      "cell_type": "markdown",
      "metadata": {
        "id": "MC7Lu8TwhzrI"
      },
      "source": [
        "Hyperparameter"
      ]
    },
    {
      "cell_type": "code",
      "execution_count": 16,
      "metadata": {
        "id": "RpjLcLRXM5mH"
      },
      "outputs": [],
      "source": [
        "# Compile the Model\n",
        "model.compile( loss='sparse_categorical_crossentropy',\n",
        "               optimizer=tf.keras.optimizers.Adam(learning_rate=0.0001),\n",
        "               metrics=['accuracy'])"
      ]
    },
    {
      "cell_type": "code",
      "execution_count": 17,
      "metadata": {
        "colab": {
          "base_uri": "https://localhost:8080/"
        },
        "id": "LCCZ7kaaND30",
        "outputId": "b9f8c4b8-9f94-4f3b-c9b1-65f49e2f62dd"
      },
      "outputs": [
        {
          "output_type": "stream",
          "name": "stdout",
          "text": [
            "Found 1120 images belonging to 9 classes.\n"
          ]
        }
      ],
      "source": [
        " #Make sure you provide the same target size as initialied for the image size\n",
        "training_set = train_datagen.flow_from_directory('/content/drive/MyDrive/mango/Classification_dataset/output_dataset/train',\n",
        "                                                 target_size = (224, 224),\n",
        "                                                 batch_size = 16,\n",
        "                                                 class_mode = 'sparse')"
      ]
    },
    {
      "cell_type": "code",
      "execution_count": 18,
      "metadata": {
        "colab": {
          "base_uri": "https://localhost:8080/"
        },
        "id": "gKwZuveNNE6B",
        "outputId": "fccd35bc-0bd9-452d-e7d2-4a32e68525f5"
      },
      "outputs": [
        {
          "output_type": "stream",
          "name": "stdout",
          "text": [
            "Found 320 images belonging to 9 classes.\n"
          ]
        }
      ],
      "source": [
        "valid_set = valid_datagen.flow_from_directory('/content/drive/MyDrive/mango/Classification_dataset/output_dataset/val',\n",
        "                                            target_size = (224, 224),\n",
        "                                            batch_size = 16,\n",
        "                                            class_mode = 'sparse')"
      ]
    },
    {
      "cell_type": "code",
      "execution_count": 19,
      "metadata": {
        "colab": {
          "base_uri": "https://localhost:8080/"
        },
        "id": "gHBDm4MI5cy_",
        "outputId": "5ce03959-65df-45dc-eeee-d926c2083309"
      },
      "outputs": [
        {
          "output_type": "stream",
          "name": "stdout",
          "text": [
            "Found 160 images belonging to 9 classes.\n"
          ]
        }
      ],
      "source": [
        "testing_set = testing_datagen.flow_from_directory('/content/drive/MyDrive/mango/Classification_dataset/output_dataset/test',\n",
        "                                                target_size=(224,224),\n",
        "                                                batch_size=16,\n",
        "                                                class_mode='sparse', shuffle=False)"
      ]
    },
    {
      "cell_type": "markdown",
      "metadata": {
        "id": "c-eukrTuiAkk"
      },
      "source": [
        "Training dengan Arsitektur VGG16"
      ]
    },
    {
      "cell_type": "code",
      "execution_count": null,
      "metadata": {
        "colab": {
          "base_uri": "https://localhost:8080/"
        },
        "id": "ZIy5w4y9NT0n",
        "outputId": "237cdb80-9cc0-458e-ce04-d5e514936633"
      },
      "outputs": [
        {
          "output_type": "stream",
          "name": "stdout",
          "text": [
            "Epoch 1/60\n",
            "70/70 [==============================] - 43s 525ms/step - loss: 1.5800 - accuracy: 0.4375 - val_loss: 0.9513 - val_accuracy: 0.6969\n",
            "Epoch 2/60\n",
            "70/70 [==============================] - 24s 343ms/step - loss: 0.8864 - accuracy: 0.7330 - val_loss: 0.5213 - val_accuracy: 0.8938\n",
            "Epoch 3/60\n",
            "70/70 [==============================] - 27s 381ms/step - loss: 0.5784 - accuracy: 0.8670 - val_loss: 0.3676 - val_accuracy: 0.9281\n",
            "Epoch 4/60\n",
            "70/70 [==============================] - 27s 381ms/step - loss: 0.4618 - accuracy: 0.8964 - val_loss: 0.2888 - val_accuracy: 0.9406\n",
            "Epoch 5/60\n",
            "70/70 [==============================] - 26s 378ms/step - loss: 0.3434 - accuracy: 0.9304 - val_loss: 0.2664 - val_accuracy: 0.9406\n",
            "Epoch 6/60\n",
            "70/70 [==============================] - 27s 385ms/step - loss: 0.2764 - accuracy: 0.9473 - val_loss: 0.1941 - val_accuracy: 0.9625\n",
            "Epoch 7/60\n",
            "70/70 [==============================] - 25s 356ms/step - loss: 0.2414 - accuracy: 0.9563 - val_loss: 0.1781 - val_accuracy: 0.9750\n",
            "Epoch 8/60\n",
            "70/70 [==============================] - 25s 359ms/step - loss: 0.1974 - accuracy: 0.9696 - val_loss: 0.2081 - val_accuracy: 0.9500\n",
            "Epoch 9/60\n",
            "70/70 [==============================] - 24s 336ms/step - loss: 0.1983 - accuracy: 0.9554 - val_loss: 0.1344 - val_accuracy: 0.9719\n",
            "Epoch 10/60\n",
            "70/70 [==============================] - 27s 380ms/step - loss: 0.1606 - accuracy: 0.9723 - val_loss: 0.1368 - val_accuracy: 0.9656\n",
            "Epoch 11/60\n",
            "70/70 [==============================] - 26s 373ms/step - loss: 0.1508 - accuracy: 0.9777 - val_loss: 0.1059 - val_accuracy: 0.9719\n",
            "Epoch 12/60\n",
            "70/70 [==============================] - 24s 341ms/step - loss: 0.1315 - accuracy: 0.9804 - val_loss: 0.1103 - val_accuracy: 0.9812\n",
            "Epoch 13/60\n",
            "70/70 [==============================] - 24s 347ms/step - loss: 0.1099 - accuracy: 0.9839 - val_loss: 0.0920 - val_accuracy: 0.9781\n",
            "Epoch 14/60\n",
            "70/70 [==============================] - 24s 340ms/step - loss: 0.1084 - accuracy: 0.9795 - val_loss: 0.0752 - val_accuracy: 0.9812\n",
            "Epoch 15/60\n",
            "70/70 [==============================] - 24s 350ms/step - loss: 0.0946 - accuracy: 0.9857 - val_loss: 0.0786 - val_accuracy: 0.9844\n",
            "Epoch 16/60\n",
            "70/70 [==============================] - 26s 374ms/step - loss: 0.1021 - accuracy: 0.9830 - val_loss: 0.0795 - val_accuracy: 0.9844\n",
            "Epoch 17/60\n",
            "70/70 [==============================] - 23s 332ms/step - loss: 0.0825 - accuracy: 0.9884 - val_loss: 0.0782 - val_accuracy: 0.9812\n",
            "Epoch 18/60\n",
            "70/70 [==============================] - 24s 347ms/step - loss: 0.0845 - accuracy: 0.9875 - val_loss: 0.0971 - val_accuracy: 0.9812\n",
            "Epoch 19/60\n",
            "70/70 [==============================] - 23s 331ms/step - loss: 0.0914 - accuracy: 0.9830 - val_loss: 0.0886 - val_accuracy: 0.9750\n",
            "Epoch 20/60\n",
            "70/70 [==============================] - 26s 375ms/step - loss: 0.0642 - accuracy: 0.9902 - val_loss: 0.0855 - val_accuracy: 0.9750\n",
            "Epoch 21/60\n",
            "70/70 [==============================] - 25s 363ms/step - loss: 0.0565 - accuracy: 0.9946 - val_loss: 0.0625 - val_accuracy: 0.9875\n",
            "Epoch 22/60\n",
            "70/70 [==============================] - 24s 340ms/step - loss: 0.0582 - accuracy: 0.9937 - val_loss: 0.0666 - val_accuracy: 0.9750\n",
            "Epoch 23/60\n",
            "70/70 [==============================] - 24s 337ms/step - loss: 0.0615 - accuracy: 0.9929 - val_loss: 0.0660 - val_accuracy: 0.9750\n",
            "Epoch 24/60\n",
            "70/70 [==============================] - 25s 351ms/step - loss: 0.0587 - accuracy: 0.9902 - val_loss: 0.0621 - val_accuracy: 0.9844\n",
            "Epoch 25/60\n",
            "70/70 [==============================] - 24s 345ms/step - loss: 0.0499 - accuracy: 0.9920 - val_loss: 0.0502 - val_accuracy: 0.9937\n",
            "Epoch 26/60\n",
            "70/70 [==============================] - 25s 350ms/step - loss: 0.0484 - accuracy: 0.9937 - val_loss: 0.0640 - val_accuracy: 0.9812\n",
            "Epoch 27/60\n",
            "70/70 [==============================] - 24s 350ms/step - loss: 0.0365 - accuracy: 0.9964 - val_loss: 0.0497 - val_accuracy: 0.9844\n",
            "Epoch 28/60\n",
            "70/70 [==============================] - 24s 350ms/step - loss: 0.0384 - accuracy: 0.9946 - val_loss: 0.0497 - val_accuracy: 0.9844\n",
            "Epoch 29/60\n",
            "70/70 [==============================] - 27s 380ms/step - loss: 0.0378 - accuracy: 0.9946 - val_loss: 0.0517 - val_accuracy: 0.9844\n",
            "Epoch 30/60\n",
            "70/70 [==============================] - 25s 354ms/step - loss: 0.0338 - accuracy: 0.9964 - val_loss: 0.0448 - val_accuracy: 0.9906\n",
            "Epoch 31/60\n",
            "70/70 [==============================] - 24s 348ms/step - loss: 0.0395 - accuracy: 0.9946 - val_loss: 0.0653 - val_accuracy: 0.9906\n",
            "Epoch 32/60\n",
            "70/70 [==============================] - 25s 351ms/step - loss: 0.0331 - accuracy: 0.9973 - val_loss: 0.0509 - val_accuracy: 0.9812\n",
            "Epoch 33/60\n",
            "70/70 [==============================] - 25s 352ms/step - loss: 0.0353 - accuracy: 0.9929 - val_loss: 0.0480 - val_accuracy: 0.9844\n",
            "Epoch 34/60\n",
            "70/70 [==============================] - 25s 355ms/step - loss: 0.0284 - accuracy: 0.9955 - val_loss: 0.0329 - val_accuracy: 0.9906\n",
            "Epoch 35/60\n",
            "70/70 [==============================] - 26s 375ms/step - loss: 0.0385 - accuracy: 0.9937 - val_loss: 0.0515 - val_accuracy: 0.9906\n",
            "Epoch 36/60\n",
            "70/70 [==============================] - 26s 373ms/step - loss: 0.0321 - accuracy: 0.9955 - val_loss: 0.0503 - val_accuracy: 0.9844\n",
            "Epoch 37/60\n",
            "70/70 [==============================] - 24s 337ms/step - loss: 0.0307 - accuracy: 0.9964 - val_loss: 0.0373 - val_accuracy: 0.9844\n",
            "Epoch 38/60\n",
            "70/70 [==============================] - 25s 350ms/step - loss: 0.0257 - accuracy: 0.9964 - val_loss: 0.0402 - val_accuracy: 0.9875\n",
            "Epoch 39/60\n",
            "70/70 [==============================] - 25s 358ms/step - loss: 0.0222 - accuracy: 0.9991 - val_loss: 0.0374 - val_accuracy: 0.9844\n",
            "Epoch 40/60\n",
            "70/70 [==============================] - 25s 355ms/step - loss: 0.0209 - accuracy: 0.9991 - val_loss: 0.0694 - val_accuracy: 0.9812\n",
            "Epoch 41/60\n",
            "70/70 [==============================] - 26s 375ms/step - loss: 0.0208 - accuracy: 0.9991 - val_loss: 0.0410 - val_accuracy: 0.9875\n",
            "Epoch 42/60\n",
            "70/70 [==============================] - 24s 337ms/step - loss: 0.0165 - accuracy: 1.0000 - val_loss: 0.0281 - val_accuracy: 0.9969\n",
            "Epoch 43/60\n",
            "70/70 [==============================] - 25s 349ms/step - loss: 0.0164 - accuracy: 0.9991 - val_loss: 0.0378 - val_accuracy: 0.9875\n",
            "Epoch 44/60\n",
            "70/70 [==============================] - 24s 343ms/step - loss: 0.0213 - accuracy: 0.9973 - val_loss: 0.0339 - val_accuracy: 0.9906\n",
            "Epoch 45/60\n",
            "70/70 [==============================] - 26s 374ms/step - loss: 0.0183 - accuracy: 1.0000 - val_loss: 0.0318 - val_accuracy: 0.9875\n",
            "Epoch 46/60\n",
            "70/70 [==============================] - 24s 339ms/step - loss: 0.0175 - accuracy: 0.9982 - val_loss: 0.0251 - val_accuracy: 0.9875\n",
            "Epoch 47/60\n",
            "70/70 [==============================] - 24s 349ms/step - loss: 0.0131 - accuracy: 1.0000 - val_loss: 0.0328 - val_accuracy: 0.9875\n",
            "Epoch 48/60\n",
            "70/70 [==============================] - 25s 351ms/step - loss: 0.0156 - accuracy: 0.9982 - val_loss: 0.0286 - val_accuracy: 0.9875\n",
            "Epoch 49/60\n",
            "70/70 [==============================] - 24s 349ms/step - loss: 0.0215 - accuracy: 0.9964 - val_loss: 0.0303 - val_accuracy: 0.9937\n",
            "Epoch 50/60\n",
            "70/70 [==============================] - 23s 328ms/step - loss: 0.0111 - accuracy: 1.0000 - val_loss: 0.0354 - val_accuracy: 0.9875\n",
            "Epoch 51/60\n",
            "70/70 [==============================] - 24s 342ms/step - loss: 0.0155 - accuracy: 0.9991 - val_loss: 0.0335 - val_accuracy: 0.9906\n",
            "Epoch 52/60\n",
            "70/70 [==============================] - 24s 345ms/step - loss: 0.0162 - accuracy: 0.9982 - val_loss: 0.0547 - val_accuracy: 0.9875\n",
            "Epoch 53/60\n",
            "70/70 [==============================] - 24s 344ms/step - loss: 0.0232 - accuracy: 0.9946 - val_loss: 0.0281 - val_accuracy: 0.9937\n",
            "Epoch 54/60\n",
            "70/70 [==============================] - 25s 357ms/step - loss: 0.0133 - accuracy: 0.9973 - val_loss: 0.0294 - val_accuracy: 0.9875\n",
            "Epoch 55/60\n",
            "70/70 [==============================] - 26s 369ms/step - loss: 0.0121 - accuracy: 0.9982 - val_loss: 0.0365 - val_accuracy: 0.9906\n",
            "Epoch 56/60\n",
            "70/70 [==============================] - 24s 338ms/step - loss: 0.0182 - accuracy: 0.9991 - val_loss: 0.0438 - val_accuracy: 0.9906\n",
            "Epoch 57/60\n",
            "70/70 [==============================] - 23s 335ms/step - loss: 0.0159 - accuracy: 0.9964 - val_loss: 0.0411 - val_accuracy: 0.9844\n",
            "Epoch 58/60\n",
            "70/70 [==============================] - 26s 369ms/step - loss: 0.0079 - accuracy: 1.0000 - val_loss: 0.0376 - val_accuracy: 0.9906\n",
            "Epoch 59/60\n",
            "70/70 [==============================] - 23s 326ms/step - loss: 0.0092 - accuracy: 0.9991 - val_loss: 0.0351 - val_accuracy: 0.9875\n",
            "Epoch 60/60\n",
            "70/70 [==============================] - 24s 337ms/step - loss: 0.0116 - accuracy: 0.9991 - val_loss: 0.0318 - val_accuracy: 0.9906\n"
          ]
        }
      ],
      "source": [
        "# Fit the model\n",
        "\n",
        "r = model.fit(\n",
        "              training_set,\n",
        "              validation_data=valid_set,\n",
        "              epochs=60,\n",
        "              steps_per_epoch=len(training_set),\n",
        "              validation_steps=len(valid_set))"
      ]
    },
    {
      "cell_type": "code",
      "execution_count": null,
      "metadata": {
        "id": "w6Xn4-QiNXP9",
        "colab": {
          "base_uri": "https://localhost:8080/",
          "height": 843
        },
        "outputId": "0bcdf710-c0c9-4a7b-e968-e356a6580817"
      },
      "outputs": [
        {
          "output_type": "display_data",
          "data": {
            "text/plain": [
              "<Figure size 640x480 with 1 Axes>"
            ],
            "image/png": "[encoded data removed]"
          },
          "metadata": {}
        },
        {
          "output_type": "display_data",
          "data": {
            "text/plain": [
              "<Figure size 640x480 with 1 Axes>"
            ],
            "image/png": "[encoded data removed]"
          },
          "metadata": {}
        }
      ],
      "source": [
        "# plot the loss\n",
        "plt.plot(r.history['loss'], label='train loss')\n",
        "plt.plot(r.history['val_loss'], label='val loss')\n",
        "plt.legend()\n",
        "plt.show()\n",
        "\n",
        "# plot the accuracy\n",
        "plt.plot(r.history['accuracy'], label='train acc')\n",
        "plt.plot(r.history['val_accuracy'], label='val acc')\n",
        "plt.legend()\n",
        "plt.show()"
      ]
    },
    {
      "cell_type": "code",
      "execution_count": null,
      "metadata": {
        "colab": {
          "base_uri": "https://localhost:8080/"
        },
        "id": "idJ7Q8OG_dBq",
        "outputId": "f8dad8e4-4500-4440-8c55-c6a4034e51a5"
      },
      "outputs": [
        {
          "output_type": "stream",
          "name": "stdout",
          "text": [
            "20/20 [==============================] - 3s 141ms/step - loss: 0.0318 - accuracy: 0.9906\n"
          ]
        }
      ],
      "source": [
        "scores_validasi = model.evaluate(valid_set)"
      ]
    },
    {
      "cell_type": "code",
      "execution_count": null,
      "metadata": {
        "colab": {
          "base_uri": "https://localhost:8080/"
        },
        "id": "zrqbeQl__m6l",
        "outputId": "92aa30e2-b54a-4302-d510-e6baff8b98e9"
      },
      "outputs": [
        {
          "output_type": "stream",
          "name": "stdout",
          "text": [
            "70/70 [==============================] - 21s 300ms/step - loss: 0.0096 - accuracy: 0.9991\n"
          ]
        }
      ],
      "source": [
        "scores_train = model.evaluate(training_set)"
      ]
    },
    {
      "cell_type": "code",
      "execution_count": null,
      "metadata": {
        "id": "G70FH3MgWwDV"
      },
      "outputs": [],
      "source": [
        "#save model\n",
        "model.save(\"/content/drive/MyDrive/Model/P1.h5\")"
      ]
    },
    {
      "cell_type": "code",
      "execution_count": null,
      "metadata": {
        "id": "_-G1AmAO3-Zo"
      },
      "outputs": [],
      "source": [
        "model.save(\"/content/drive/MyDrive/Model/P1.hdf5\")"
      ]
    },
    {
      "cell_type": "code",
      "execution_count": 20,
      "metadata": {
        "id": "eDGHt3vRxDWK"
      },
      "outputs": [],
      "source": [
        "# metric evaluasi\n",
        "from sklearn.metrics import classification_report, confusion_matrix, accuracy_score"
      ]
    },
    {
      "cell_type": "code",
      "execution_count": 25,
      "metadata": {
        "id": "hYdfkSE-xO-r"
      },
      "outputs": [],
      "source": [
        "my_model = tf.keras.models.load_model('P1.hdf5', compile = True)"
      ]
    },
    {
      "cell_type": "code",
      "source": [
        "scores_validasi = model.evaluate(valid_set)"
      ],
      "metadata": {
        "id": "dpqVud9CrhFR",
        "colab": {
          "base_uri": "https://localhost:8080/"
        },
        "outputId": "a9c76700-44b4-427b-8918-b469feece8b0"
      },
      "execution_count": 26,
      "outputs": [
        {
          "output_type": "stream",
          "name": "stdout",
          "text": [
            "20/20 [==============================] - 239s 11s/step - loss: 2.1249 - accuracy: 0.1187\n"
          ]
        }
      ]
    },
    {
      "cell_type": "code",
      "source": [
        "scores_train = model.evaluate(training_set)"
      ],
      "metadata": {
        "colab": {
          "base_uri": "https://localhost:8080/"
        },
        "id": "Nl_9tDiT4B9u",
        "outputId": "f444faa2-b050-4ee7-adf0-5e92d0accfe6"
      },
      "execution_count": 34,
      "outputs": [
        {
          "output_type": "stream",
          "name": "stdout",
          "text": [
            "70/70 [==============================] - 747s 11s/step - loss: 2.1386 - accuracy: 0.1277\n"
          ]
        }
      ]
    },
    {
      "cell_type": "code",
      "execution_count": 27,
      "metadata": {
        "colab": {
          "base_uri": "https://localhost:8080/"
        },
        "id": "_U6xKVAZxSZO",
        "outputId": "b59f4098-dd5d-4418-a8c9-cae446155d3c"
      },
      "outputs": [
        {
          "output_type": "stream",
          "name": "stderr",
          "text": [
            "<ipython-input-27-82945338758d>:3: DeprecationWarning: `np.math` is a deprecated alias for the standard library `math` module (Deprecated Numpy 1.25). Replace usages of `np.math` with `math`\n",
            "  test_steps_per_epoch = np.math.ceil(testing_set.samples / testing_set.batch_size)\n"
          ]
        },
        {
          "output_type": "execute_result",
          "data": {
            "text/plain": [
              "10"
            ]
          },
          "metadata": {},
          "execution_count": 27
        }
      ],
      "source": [
        "# mmenghitung jumlah epoch\n",
        "import re, glob, numpy as np\n",
        "test_steps_per_epoch = np.math.ceil(testing_set.samples / testing_set.batch_size)\n",
        "test_steps_per_epoch"
      ]
    },
    {
      "cell_type": "code",
      "execution_count": 29,
      "metadata": {
        "colab": {
          "base_uri": "https://localhost:8080/"
        },
        "id": "5mKzEh-KxWAw",
        "outputId": "b408d0cd-c86d-449a-f4da-4d8d2b9d1cf9"
      },
      "outputs": [
        {
          "output_type": "stream",
          "name": "stdout",
          "text": [
            "10/10 [==============================] - 97s 10s/step\n"
          ]
        },
        {
          "output_type": "execute_result",
          "data": {
            "text/plain": [
              "array([0, 0, 0, 0, 0, 0, 0, 0, 0, 0, 0, 0, 0, 0, 0, 0, 0, 0, 0, 0, 1, 3,\n",
              "       3, 3, 3, 1, 1, 1, 1, 1, 1, 1, 1, 1, 1, 1, 1, 1, 1, 1, 2, 2, 2, 2,\n",
              "       2, 2, 2, 2, 2, 2, 2, 2, 2, 2, 2, 2, 2, 2, 2, 2, 3, 3, 3, 3, 3, 3,\n",
              "       3, 3, 3, 3, 3, 3, 3, 3, 3, 1, 3, 3, 3, 3, 4, 4, 4, 4, 4, 4, 4, 4,\n",
              "       4, 4, 4, 4, 4, 4, 4, 4, 4, 4, 4, 4, 3, 5, 5, 5, 5, 5, 5, 5, 5, 5,\n",
              "       5, 5, 5, 5, 5, 5, 5, 5, 5, 5, 6, 6, 6, 6, 6, 6, 6, 6, 6, 6, 6, 6,\n",
              "       6, 6, 6, 6, 6, 6, 6, 6, 7, 7, 7, 7, 7, 7, 7, 7, 7, 7, 7, 7, 7, 7,\n",
              "       7, 7, 7, 7, 7, 7])"
            ]
          },
          "metadata": {},
          "execution_count": 29
        }
      ],
      "source": [
        "# membuat prediksi dari data testing\n",
        "pred = my_model.predict(testing_set, steps=test_steps_per_epoch)\n",
        "pred = np.argmax(pred,axis=1)\n",
        "pred"
      ]
    },
    {
      "cell_type": "code",
      "execution_count": 30,
      "metadata": {
        "colab": {
          "base_uri": "https://localhost:8080/"
        },
        "id": "eyjQjKGFxXYb",
        "outputId": "958bacbe-ca66-41e1-d1db-40416f79c2a3"
      },
      "outputs": [
        {
          "output_type": "execute_result",
          "data": {
            "text/plain": [
              "array([0, 0, 0, 0, 0, 0, 0, 0, 0, 0, 0, 0, 0, 0, 0, 0, 0, 0, 0, 0, 1, 1,\n",
              "       1, 1, 1, 1, 1, 1, 1, 1, 1, 1, 1, 1, 1, 1, 1, 1, 1, 1, 2, 2, 2, 2,\n",
              "       2, 2, 2, 2, 2, 2, 2, 2, 2, 2, 2, 2, 2, 2, 2, 2, 3, 3, 3, 3, 3, 3,\n",
              "       3, 3, 3, 3, 3, 3, 3, 3, 3, 3, 3, 3, 3, 3, 4, 4, 4, 4, 4, 4, 4, 4,\n",
              "       4, 4, 4, 4, 4, 4, 4, 4, 4, 4, 4, 4, 5, 5, 5, 5, 5, 5, 5, 5, 5, 5,\n",
              "       5, 5, 5, 5, 5, 5, 5, 5, 5, 5, 6, 6, 6, 6, 6, 6, 6, 6, 6, 6, 6, 6,\n",
              "       6, 6, 6, 6, 6, 6, 6, 6, 7, 7, 7, 7, 7, 7, 7, 7, 7, 7, 7, 7, 7, 7,\n",
              "       7, 7, 7, 7, 7, 7], dtype=int32)"
            ]
          },
          "metadata": {},
          "execution_count": 30
        }
      ],
      "source": [
        "#menyimpan data label yang benar\n",
        "true_labels = testing_set.classes\n",
        "true_labels"
      ]
    },
    {
      "cell_type": "code",
      "execution_count": 31,
      "metadata": {
        "colab": {
          "base_uri": "https://localhost:8080/"
        },
        "id": "geGMdhfNxadM",
        "outputId": "4bf3fe12-4b92-49d3-ff9a-eef409f2dc84"
      },
      "outputs": [
        {
          "output_type": "execute_result",
          "data": {
            "text/plain": [
              "array([[20,  0,  0,  0,  0,  0,  0,  0],\n",
              "       [ 0, 16,  0,  4,  0,  0,  0,  0],\n",
              "       [ 0,  0, 20,  0,  0,  0,  0,  0],\n",
              "       [ 0,  1,  0, 19,  0,  0,  0,  0],\n",
              "       [ 0,  0,  0,  0, 20,  0,  0,  0],\n",
              "       [ 0,  0,  0,  1,  0, 19,  0,  0],\n",
              "       [ 0,  0,  0,  0,  0,  0, 20,  0],\n",
              "       [ 0,  0,  0,  0,  0,  0,  0, 20]])"
            ]
          },
          "metadata": {},
          "execution_count": 31
        }
      ],
      "source": [
        "# membuat confusion matrix berdasarkan data prediksi dan label yang benar\n",
        "cm = confusion_matrix(true_labels, pred)\n",
        "cm"
      ]
    },
    {
      "cell_type": "code",
      "execution_count": 36,
      "metadata": {
        "colab": {
          "base_uri": "https://localhost:8080/",
          "height": 1000
        },
        "id": "2HgrKtWuxcFz",
        "outputId": "3da6f754-e004-407b-c395-1c0519ce287d"
      },
      "outputs": [
        {
          "output_type": "stream",
          "name": "stdout",
          "text": [
            "                         precision    recall  f1-score   support\n",
            "\n",
            "           Anwar Ratool       1.00      1.00      1.00        20\n",
            "         Chaunsa(Black)       0.94      0.80      0.86        20\n",
            "Chaunsa(Summer Bashist)       1.00      1.00      1.00        20\n",
            "        Chaunsa (White)       0.79      0.95      0.86        20\n",
            "                Dosehri       1.00      1.00      1.00        20\n",
            "                  Fajri       1.00      0.95      0.97        20\n",
            "                 Langra       1.00      1.00      1.00        20\n",
            "                 Sindri       1.00      1.00      1.00        20\n",
            "\n",
            "               accuracy                           0.96       160\n",
            "              macro avg       0.97      0.96      0.96       160\n",
            "           weighted avg       0.97      0.96      0.96       160\n",
            "\n"
          ]
        },
        {
          "output_type": "execute_result",
          "data": {
            "text/plain": [
              "Text(0.5, 1.0, 'Confusion Matrix Plot')"
            ]
          },
          "metadata": {},
          "execution_count": 36
        },
        {
          "output_type": "display_data",
          "data": {
            "text/plain": [
              "<Figure size 1500x800 with 2 Axes>"
            ],
            "image/png": "[encoded data removed]"
          },
          "metadata": {}
        }
      ],
      "source": [
        "# Membuat matriks pengujian\n",
        "report = classification_report(true_labels, pred, target_names=['Anwar Ratool','Chaunsa(Black)', 'Chaunsa(Summer Bashist)','Chaunsa (White)','Dosehri', 'Fajri','Langra', 'Sindri'])\n",
        "\n",
        "print(report)\n",
        "\n",
        "labels = ['Anwar Ratool','Chaunsa(Black)', 'Chaunsa(Summer Bashist)','Chaunsa (White)','Dosehri', 'Fajri','Langra', 'Sindri']\n",
        "plt.figure(figsize=(15,8))\n",
        "sns.heatmap(cm, annot=True, fmt=\"g\", xticklabels=labels, yticklabels=labels)\n",
        "plt.xlabel(\"Predicted\")\n",
        "plt.ylabel(\"Actual\")\n",
        "plt.title(\"Confusion Matrix Plot\")"
      ]
    },
    {
      "cell_type": "code",
      "execution_count": 33,
      "metadata": {
        "colab": {
          "base_uri": "https://localhost:8080/"
        },
        "id": "NXQZ3AfmxeEc",
        "outputId": "d85879ed-17f9-4f67-922a-4d365741cb7f"
      },
      "outputs": [
        {
          "output_type": "stream",
          "name": "stdout",
          "text": [
            "# Accuracy on the test set: 96.25%\n"
          ]
        }
      ],
      "source": [
        "# Get the accuracy on the test set\n",
        "acc = accuracy_score(true_labels,pred)\n",
        "print(f'# Accuracy on the test set: {acc * 100:.2f}%')"
      ]
    },
    {
      "cell_type": "code",
      "source": [
        "cm_df = pd.DataFrame(cm, index=labels[:cm.shape[0]], columns=labels[:cm.shape[1]])\n",
        "cm_df.to_csv('confusion_matrix.csv', index=True)"
      ],
      "metadata": {
        "id": "eYdvtsgW9os9"
      },
      "execution_count": 35,
      "outputs": []
    }
  ],
  "metadata": {
    "colab": {
      "provenance": []
    },
    "kernelspec": {
      "display_name": "Python 3",
      "name": "python3"
    },
    "language_info": {
      "name": "python"
    }
  },
  "nbformat": 4,
  "nbformat_minor": 0
}