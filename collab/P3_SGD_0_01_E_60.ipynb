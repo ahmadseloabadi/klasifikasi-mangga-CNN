{
  "cells": [
    {
      "cell_type": "code",
      "execution_count": 2,
      "metadata": {
        "colab": {
          "base_uri": "https://localhost:8080/"
        },
        "id": "SP_nnvl1GfuX",
        "outputId": "68cecd50-c8e5-4967-91ce-4f24eb6a502f"
      },
      "outputs": [
        {
          "output_type": "stream",
          "name": "stdout",
          "text": [
            "Mounted at /content/drive\n"
          ]
        }
      ],
      "source": [
        "#Menghubungkan Google Colab dengan Google Drive :\n",
        "from google.colab import drive\n",
        "drive.mount('/content/drive')"
      ]
    },
    {
      "cell_type": "code",
      "execution_count": 3,
      "metadata": {
        "id": "9jEc8WPZHVr1"
      },
      "outputs": [],
      "source": [
        "# Basic Computation\n",
        "import pandas as pd\n",
        "import os"
      ]
    },
    {
      "cell_type": "code",
      "execution_count": 4,
      "metadata": {
        "id": "y58pCbMAHW1K"
      },
      "outputs": [],
      "source": [
        "def load_images_from_folder(folder,only_path = False, label = \"\"):\n",
        "    if only_path == False:\n",
        "        images = []\n",
        "        for filename in os.listdir(folder):\n",
        "            img = plt.imread(os.path.join(folder,filename))\n",
        "            if img is not None:\n",
        "                images.append(img)\n",
        "        return images\n",
        "    else:\n",
        "        path = []\n",
        "        for filename in os.listdir(folder):\n",
        "            img_path = os.path.join(folder,filename)\n",
        "            if img_path is not None:\n",
        "                path.append([label,img_path])\n",
        "        return path"
      ]
    },
    {
      "cell_type": "code",
      "execution_count": 5,
      "metadata": {
        "colab": {
          "base_uri": "https://localhost:8080/",
          "height": 206
        },
        "id": "scIzovU8Hf2q",
        "outputId": "e4058c7f-bf3f-4dce-d24a-e25ce3d204cb"
      },
      "outputs": [
        {
          "output_type": "execute_result",
          "data": {
            "text/plain": [
              "    mangga                                               path\n",
              "0  Sindhri  /content/drive/MyDrive/mango/Classification_da...\n",
              "1  Sindhri  /content/drive/MyDrive/mango/Classification_da...\n",
              "2  Sindhri  /content/drive/MyDrive/mango/Classification_da...\n",
              "3  Sindhri  /content/drive/MyDrive/mango/Classification_da...\n",
              "4  Sindhri  /content/drive/MyDrive/mango/Classification_da..."
            ],
            "text/html": [
              "\n",
              "  <div id=\"df-4bf01e28-c81f-43f0-83d7-6c8a0d96d172\" class=\"colab-df-container\">\n",
              "    <div>\n",
              "<style scoped>\n",
              "    .dataframe tbody tr th:only-of-type {\n",
              "        vertical-align: middle;\n",
              "    }\n",
              "\n",
              "    .dataframe tbody tr th {\n",
              "        vertical-align: top;\n",
              "    }\n",
              "\n",
              "    .dataframe thead th {\n",
              "        text-align: right;\n",
              "    }\n",
              "</style>\n",
              "<table border=\"1\" class=\"dataframe\">\n",
              "  <thead>\n",
              "    <tr style=\"text-align: right;\">\n",
              "      <th></th>\n",
              "      <th>mangga</th>\n",
              "      <th>path</th>\n",
              "    </tr>\n",
              "  </thead>\n",
              "  <tbody>\n",
              "    <tr>\n",
              "      <th>0</th>\n",
              "      <td>Sindhri</td>\n",
              "      <td>/content/drive/MyDrive/mango/Classification_da...</td>\n",
              "    </tr>\n",
              "    <tr>\n",
              "      <th>1</th>\n",
              "      <td>Sindhri</td>\n",
              "      <td>/content/drive/MyDrive/mango/Classification_da...</td>\n",
              "    </tr>\n",
              "    <tr>\n",
              "      <th>2</th>\n",
              "      <td>Sindhri</td>\n",
              "      <td>/content/drive/MyDrive/mango/Classification_da...</td>\n",
              "    </tr>\n",
              "    <tr>\n",
              "      <th>3</th>\n",
              "      <td>Sindhri</td>\n",
              "      <td>/content/drive/MyDrive/mango/Classification_da...</td>\n",
              "    </tr>\n",
              "    <tr>\n",
              "      <th>4</th>\n",
              "      <td>Sindhri</td>\n",
              "      <td>/content/drive/MyDrive/mango/Classification_da...</td>\n",
              "    </tr>\n",
              "  </tbody>\n",
              "</table>\n",
              "</div>\n",
              "    <div class=\"colab-df-buttons\">\n",
              "\n",
              "  <div class=\"colab-df-container\">\n",
              "    <button class=\"colab-df-convert\" onclick=\"convertToInteractive('df-4bf01e28-c81f-43f0-83d7-6c8a0d96d172')\"\n",
              "            title=\"Convert this dataframe to an interactive table.\"\n",
              "            style=\"display:none;\">\n",
              "\n",
              "  <svg xmlns=\"http://www.w3.org/2000/svg\" height=\"24px\" viewBox=\"0 -960 960 960\">\n",
              "    <path d=\"M120-120v-720h720v720H120Zm60-500h600v-160H180v160Zm220 220h160v-160H400v160Zm0 220h160v-160H400v160ZM180-400h160v-160H180v160Zm440 0h160v-160H620v160ZM180-180h160v-160H180v160Zm440 0h160v-160H620v160Z\"/>\n",
              "  </svg>\n",
              "    </button>\n",
              "\n",
              "  <style>\n",
              "    .colab-df-container {\n",
              "      display:flex;\n",
              "      gap: 12px;\n",
              "    }\n",
              "\n",
              "    .colab-df-convert {\n",
              "      background-color: #E8F0FE;\n",
              "      border: none;\n",
              "      border-radius: 50%;\n",
              "      cursor: pointer;\n",
              "      display: none;\n",
              "      fill: #1967D2;\n",
              "      height: 32px;\n",
              "      padding: 0 0 0 0;\n",
              "      width: 32px;\n",
              "    }\n",
              "\n",
              "    .colab-df-convert:hover {\n",
              "      background-color: #E2EBFA;\n",
              "      box-shadow: 0px 1px 2px rgba(60, 64, 67, 0.3), 0px 1px 3px 1px rgba(60, 64, 67, 0.15);\n",
              "      fill: #174EA6;\n",
              "    }\n",
              "\n",
              "    .colab-df-buttons div {\n",
              "      margin-bottom: 4px;\n",
              "    }\n",
              "\n",
              "    [theme=dark] .colab-df-convert {\n",
              "      background-color: #3B4455;\n",
              "      fill: #D2E3FC;\n",
              "    }\n",
              "\n",
              "    [theme=dark] .colab-df-convert:hover {\n",
              "      background-color: #434B5C;\n",
              "      box-shadow: 0px 1px 3px 1px rgba(0, 0, 0, 0.15);\n",
              "      filter: drop-shadow(0px 1px 2px rgba(0, 0, 0, 0.3));\n",
              "      fill: #FFFFFF;\n",
              "    }\n",
              "  </style>\n",
              "\n",
              "    <script>\n",
              "      const buttonEl =\n",
              "        document.querySelector('#df-4bf01e28-c81f-43f0-83d7-6c8a0d96d172 button.colab-df-convert');\n",
              "      buttonEl.style.display =\n",
              "        google.colab.kernel.accessAllowed ? 'block' : 'none';\n",
              "\n",
              "      async function convertToInteractive(key) {\n",
              "        const element = document.querySelector('#df-4bf01e28-c81f-43f0-83d7-6c8a0d96d172');\n",
              "        const dataTable =\n",
              "          await google.colab.kernel.invokeFunction('convertToInteractive',\n",
              "                                                    [key], {});\n",
              "        if (!dataTable) return;\n",
              "\n",
              "        const docLinkHtml = 'Like what you see? Visit the ' +\n",
              "          '<a target=\"_blank\" href=https://colab.research.google.com/notebooks/data_table.ipynb>data table notebook</a>'\n",
              "          + ' to learn more about interactive tables.';\n",
              "        element.innerHTML = '';\n",
              "        dataTable['output_type'] = 'display_data';\n",
              "        await google.colab.output.renderOutput(dataTable, element);\n",
              "        const docLink = document.createElement('div');\n",
              "        docLink.innerHTML = docLinkHtml;\n",
              "        element.appendChild(docLink);\n",
              "      }\n",
              "    </script>\n",
              "  </div>\n",
              "\n",
              "\n",
              "<div id=\"df-558c9a6f-8c82-441f-ac58-f1f85b013fb5\">\n",
              "  <button class=\"colab-df-quickchart\" onclick=\"quickchart('df-558c9a6f-8c82-441f-ac58-f1f85b013fb5')\"\n",
              "            title=\"Suggest charts\"\n",
              "            style=\"display:none;\">\n",
              "\n",
              "<svg xmlns=\"http://www.w3.org/2000/svg\" height=\"24px\"viewBox=\"0 0 24 24\"\n",
              "     width=\"24px\">\n",
              "    <g>\n",
              "        <path d=\"M19 3H5c-1.1 0-2 .9-2 2v14c0 1.1.9 2 2 2h14c1.1 0 2-.9 2-2V5c0-1.1-.9-2-2-2zM9 17H7v-7h2v7zm4 0h-2V7h2v10zm4 0h-2v-4h2v4z\"/>\n",
              "    </g>\n",
              "</svg>\n",
              "  </button>\n",
              "\n",
              "<style>\n",
              "  .colab-df-quickchart {\n",
              "      --bg-color: #E8F0FE;\n",
              "      --fill-color: #1967D2;\n",
              "      --hover-bg-color: #E2EBFA;\n",
              "      --hover-fill-color: #174EA6;\n",
              "      --disabled-fill-color: #AAA;\n",
              "      --disabled-bg-color: #DDD;\n",
              "  }\n",
              "\n",
              "  [theme=dark] .colab-df-quickchart {\n",
              "      --bg-color: #3B4455;\n",
              "      --fill-color: #D2E3FC;\n",
              "      --hover-bg-color: #434B5C;\n",
              "      --hover-fill-color: #FFFFFF;\n",
              "      --disabled-bg-color: #3B4455;\n",
              "      --disabled-fill-color: #666;\n",
              "  }\n",
              "\n",
              "  .colab-df-quickchart {\n",
              "    background-color: var(--bg-color);\n",
              "    border: none;\n",
              "    border-radius: 50%;\n",
              "    cursor: pointer;\n",
              "    display: none;\n",
              "    fill: var(--fill-color);\n",
              "    height: 32px;\n",
              "    padding: 0;\n",
              "    width: 32px;\n",
              "  }\n",
              "\n",
              "  .colab-df-quickchart:hover {\n",
              "    background-color: var(--hover-bg-color);\n",
              "    box-shadow: 0 1px 2px rgba(60, 64, 67, 0.3), 0 1px 3px 1px rgba(60, 64, 67, 0.15);\n",
              "    fill: var(--button-hover-fill-color);\n",
              "  }\n",
              "\n",
              "  .colab-df-quickchart-complete:disabled,\n",
              "  .colab-df-quickchart-complete:disabled:hover {\n",
              "    background-color: var(--disabled-bg-color);\n",
              "    fill: var(--disabled-fill-color);\n",
              "    box-shadow: none;\n",
              "  }\n",
              "\n",
              "  .colab-df-spinner {\n",
              "    border: 2px solid var(--fill-color);\n",
              "    border-color: transparent;\n",
              "    border-bottom-color: var(--fill-color);\n",
              "    animation:\n",
              "      spin 1s steps(1) infinite;\n",
              "  }\n",
              "\n",
              "  @keyframes spin {\n",
              "    0% {\n",
              "      border-color: transparent;\n",
              "      border-bottom-color: var(--fill-color);\n",
              "      border-left-color: var(--fill-color);\n",
              "    }\n",
              "    20% {\n",
              "      border-color: transparent;\n",
              "      border-left-color: var(--fill-color);\n",
              "      border-top-color: var(--fill-color);\n",
              "    }\n",
              "    30% {\n",
              "      border-color: transparent;\n",
              "      border-left-color: var(--fill-color);\n",
              "      border-top-color: var(--fill-color);\n",
              "      border-right-color: var(--fill-color);\n",
              "    }\n",
              "    40% {\n",
              "      border-color: transparent;\n",
              "      border-right-color: var(--fill-color);\n",
              "      border-top-color: var(--fill-color);\n",
              "    }\n",
              "    60% {\n",
              "      border-color: transparent;\n",
              "      border-right-color: var(--fill-color);\n",
              "    }\n",
              "    80% {\n",
              "      border-color: transparent;\n",
              "      border-right-color: var(--fill-color);\n",
              "      border-bottom-color: var(--fill-color);\n",
              "    }\n",
              "    90% {\n",
              "      border-color: transparent;\n",
              "      border-bottom-color: var(--fill-color);\n",
              "    }\n",
              "  }\n",
              "</style>\n",
              "\n",
              "  <script>\n",
              "    async function quickchart(key) {\n",
              "      const quickchartButtonEl =\n",
              "        document.querySelector('#' + key + ' button');\n",
              "      quickchartButtonEl.disabled = true;  // To prevent multiple clicks.\n",
              "      quickchartButtonEl.classList.add('colab-df-spinner');\n",
              "      try {\n",
              "        const charts = await google.colab.kernel.invokeFunction(\n",
              "            'suggestCharts', [key], {});\n",
              "      } catch (error) {\n",
              "        console.error('Error during call to suggestCharts:', error);\n",
              "      }\n",
              "      quickchartButtonEl.classList.remove('colab-df-spinner');\n",
              "      quickchartButtonEl.classList.add('colab-df-quickchart-complete');\n",
              "    }\n",
              "    (() => {\n",
              "      let quickchartButtonEl =\n",
              "        document.querySelector('#df-558c9a6f-8c82-441f-ac58-f1f85b013fb5 button');\n",
              "      quickchartButtonEl.style.display =\n",
              "        google.colab.kernel.accessAllowed ? 'block' : 'none';\n",
              "    })();\n",
              "  </script>\n",
              "</div>\n",
              "    </div>\n",
              "  </div>\n"
            ],
            "application/vnd.google.colaboratory.intrinsic+json": {
              "type": "dataframe",
              "variable_name": "df",
              "summary": "{\n  \"name\": \"df\",\n  \"rows\": 1603,\n  \"fields\": [\n    {\n      \"column\": \"mangga\",\n      \"properties\": {\n        \"dtype\": \"category\",\n        \"num_unique_values\": 9,\n        \"samples\": [\n          \"Anwar Ratool\",\n          \"Fajri\",\n          \"Dosehri\"\n        ],\n        \"semantic_type\": \"\",\n        \"description\": \"\"\n      }\n    },\n    {\n      \"column\": \"path\",\n      \"properties\": {\n        \"dtype\": \"string\",\n        \"num_unique_values\": 1603,\n        \"samples\": [\n          \"/content/drive/MyDrive/mango/Classification_dataset/Langra/IMG_20210702_075437.jpg\",\n          \"/content/drive/MyDrive/mango/Classification_dataset/Dosehri/IMG_20210629_183822.jpg\",\n          \"/content/drive/MyDrive/mango/Classification_dataset/Sindhri/IMG_20210702_184258 - Copy.jpg\"\n        ],\n        \"semantic_type\": \"\",\n        \"description\": \"\"\n      }\n    }\n  ]\n}"
            }
          },
          "metadata": {},
          "execution_count": 5
        }
      ],
      "source": [
        "images = []\n",
        "dirp = \"/content/drive/MyDrive/mango/Classification_dataset/\"\n",
        "for f in os.listdir(dirp):\n",
        "    images += load_images_from_folder(dirp+f,True,label = f)\n",
        "\n",
        "# membuat data frame\n",
        "df = pd.DataFrame(images, columns = [\"mangga\", \"path\"])\n",
        "df.head()"
      ]
    },
    {
      "cell_type": "code",
      "execution_count": null,
      "metadata": {
        "id": "8L4FUeyFHspu"
      },
      "outputs": [],
      "source": [
        "# visualization\n",
        "import matplotlib.pyplot as plt\n",
        "import seaborn as sns"
      ]
    },
    {
      "cell_type": "code",
      "execution_count": null,
      "metadata": {
        "id": "9Qa8Y59zH1Yk"
      },
      "outputs": [],
      "source": [
        "# menampilkan jumlah gambar pada tiap category\n",
        "vc = df[\"mangga\"].value_counts()\n",
        "plt.figure(figsize=(10,5))\n",
        "sns.barplot(x = vc.index, y = vc, palette = \"rocket\")\n",
        "plt.title(\"Jumlah gambar tiap category\", fontsize = 15)\n",
        "plt.show()"
      ]
    },
    {
      "cell_type": "code",
      "execution_count": null,
      "metadata": {
        "id": "sYQKeD-_ddX7"
      },
      "outputs": [],
      "source": [
        "# ## install library untuk pembagian dataset menjadi 3 yaitu train,test,val\n",
        "# !pip install split_folders\n",
        "# ## install library untuk pembagian dataset menjadi 3 yaitu train,test,val\n",
        "# import splitfolders"
      ]
    },
    {
      "cell_type": "code",
      "execution_count": null,
      "metadata": {
        "id": "aWrwsJK7dqNz"
      },
      "outputs": [],
      "source": [
        "# pembagian dataset menjadi 3 yaitu train,test,val\n",
        "#input_folders = '/content/drive/MyDrive/Musroom'\n",
        "#output_folders = '/content/drive/MyDrive/Musroom/output_dataset'\n",
        "#splitfolders.ratio(input_folders,output_folders, seed =42, ratio=(.7,.2,.1))"
      ]
    },
    {
      "cell_type": "code",
      "execution_count": null,
      "metadata": {
        "id": "kry_ljc3G14X"
      },
      "outputs": [],
      "source": [
        "# Importing Required Libraries\n",
        "import cv2\n",
        "import os\n",
        "import tensorflow as tf\n",
        "import matplotlib.pyplot as plt\n",
        "from glob import glob\n",
        "from keras.models import Sequential\n",
        "from keras import models, layers, optimizers\n",
        "from keras.layers import Conv2D, MaxPooling2D, Dropout, BatchNormalization\n",
        "from keras.layers import Flatten, Dense\n",
        "from keras.preprocessing.image import ImageDataGenerator\n",
        "from tensorflow.keras.models import Model\n"
      ]
    },
    {
      "cell_type": "markdown",
      "metadata": {
        "id": "5ozAmptwnoqU"
      },
      "source": [
        "Arsitektur Vgg16"
      ]
    },
    {
      "cell_type": "code",
      "execution_count": null,
      "metadata": {
        "id": "PbPv55VDG_jR"
      },
      "outputs": [],
      "source": [
        "from keras.applications.vgg16 import VGG16"
      ]
    },
    {
      "cell_type": "code",
      "execution_count": null,
      "metadata": {
        "id": "ekDuGrxKSa0r"
      },
      "outputs": [],
      "source": [
        "base_model = tf.keras.applications.VGG16(\n",
        "    include_top=False,\n",
        "    input_shape=(224,224,3),\n",
        ")"
      ]
    },
    {
      "cell_type": "code",
      "execution_count": null,
      "metadata": {
        "id": "WrPMt2BBUtTO"
      },
      "outputs": [],
      "source": [
        "# Mengunci semua layer base_model agar tidak terupdate selama pelatihan\n",
        "for layer in base_model.layers:\n",
        "    layer.trainable = False\n",
        "\n",
        "# Membuat output layer kustom untuk jumlah kelas yang diinginkan\n",
        "x = Flatten()(base_model.output)\n",
        "x = Dense(256, activation='relu')(x)\n",
        "x = Dense(8, activation='softmax')(x)\n",
        "\n",
        "# Menggabungkan base model dengan output layer kustom\n",
        "model = Model(inputs=base_model.input, outputs=x)"
      ]
    },
    {
      "cell_type": "code",
      "execution_count": null,
      "metadata": {
        "id": "kwAGTqhyMLhr"
      },
      "outputs": [],
      "source": [
        "model.summary()"
      ]
    },
    {
      "cell_type": "markdown",
      "metadata": {
        "id": "6W1S3IdOhsvN"
      },
      "source": [
        "Preprcessing"
      ]
    },
    {
      "cell_type": "code",
      "execution_count": null,
      "metadata": {
        "id": "GMPUXBNSfZHs"
      },
      "outputs": [],
      "source": [
        "# path data train dan data validation\n",
        "val_path ='/content/drive/MyDrive/mango/Classification_dataset/output_dataset/val'\n",
        "training_path ='/content/drive/MyDrive/mango/Classification_dataset/output_dataset/train'\n",
        "\n",
        "# path data testing\n",
        "testing_path ='/content/drive/MyDrive/mango/Classification_dataset/output_dataset/test'"
      ]
    },
    {
      "cell_type": "code",
      "execution_count": null,
      "metadata": {
        "id": "JsD_Cna8M9Rw"
      },
      "outputs": [],
      "source": [
        "train_datagen = ImageDataGenerator (rescale = 1./255,\n",
        "                                    zoom_range = 0.2,\n",
        "                                    rotation_range = 20)\n",
        "\n",
        "valid_datagen = ImageDataGenerator(rescale = 1./255)\n",
        "testing_datagen = ImageDataGenerator(rescale=1./255)"
      ]
    },
    {
      "cell_type": "markdown",
      "metadata": {
        "id": "MC7Lu8TwhzrI"
      },
      "source": [
        "Hyperparameter"
      ]
    },
    {
      "cell_type": "code",
      "execution_count": null,
      "metadata": {
        "id": "RpjLcLRXM5mH"
      },
      "outputs": [],
      "source": [
        "# Compile the Model\n",
        "model.compile( loss='sparse_categorical_crossentropy',\n",
        "               optimizer=tf.keras.optimizers.SGD(learning_rate=0.01),\n",
        "               metrics=['accuracy'])"
      ]
    },
    {
      "cell_type": "code",
      "execution_count": null,
      "metadata": {
        "id": "LCCZ7kaaND30"
      },
      "outputs": [],
      "source": [
        " #Make sure you provide the same target size as initialied for the image size\n",
        "training_set = train_datagen.flow_from_directory('/content/drive/MyDrive/mango/Classification_dataset/output_dataset/train',\n",
        "                                                 target_size = (224, 224),\n",
        "                                                 batch_size = 16,\n",
        "                                                 class_mode = 'sparse')"
      ]
    },
    {
      "cell_type": "code",
      "execution_count": null,
      "metadata": {
        "id": "gKwZuveNNE6B"
      },
      "outputs": [],
      "source": [
        "valid_set = valid_datagen.flow_from_directory('/content/drive/MyDrive/mango/Classification_dataset/output_dataset/val',\n",
        "                                            target_size = (224, 224),\n",
        "                                            batch_size = 16,\n",
        "                                            class_mode = 'sparse')"
      ]
    },
    {
      "cell_type": "code",
      "execution_count": null,
      "metadata": {
        "id": "gHBDm4MI5cy_"
      },
      "outputs": [],
      "source": [
        "testing_set = testing_datagen.flow_from_directory('/content/drive/MyDrive/mango/Classification_dataset/output_dataset/test',\n",
        "                                                target_size=(224,224),\n",
        "                                                batch_size=16,\n",
        "                                                class_mode='sparse', shuffle=False)"
      ]
    },
    {
      "cell_type": "markdown",
      "metadata": {
        "id": "c-eukrTuiAkk"
      },
      "source": [
        "Training dengan Arsitektur VGG16"
      ]
    },
    {
      "cell_type": "code",
      "execution_count": 21,
      "metadata": {
        "colab": {
          "base_uri": "https://localhost:8080/"
        },
        "id": "ZIy5w4y9NT0n",
        "outputId": "cbf82325-f17b-4186-ed4d-96b6d654b81e"
      },
      "outputs": [
        {
          "output_type": "stream",
          "name": "stdout",
          "text": [
            "Epoch 1/60\n",
            "70/70 [==============================] - 307s 4s/step - loss: 2.2459 - accuracy: 0.1295 - val_loss: 2.0779 - val_accuracy: 0.1156\n",
            "Epoch 2/60\n",
            "70/70 [==============================] - 27s 389ms/step - loss: 2.0803 - accuracy: 0.1321 - val_loss: 2.0723 - val_accuracy: 0.1312\n",
            "Epoch 3/60\n",
            "70/70 [==============================] - 26s 366ms/step - loss: 2.0809 - accuracy: 0.1143 - val_loss: 2.0796 - val_accuracy: 0.1250\n",
            "Epoch 4/60\n",
            "70/70 [==============================] - 24s 347ms/step - loss: 2.0797 - accuracy: 0.1196 - val_loss: 2.0794 - val_accuracy: 0.1250\n",
            "Epoch 5/60\n",
            "70/70 [==============================] - 25s 359ms/step - loss: 2.0789 - accuracy: 0.1375 - val_loss: 2.0689 - val_accuracy: 0.1844\n",
            "Epoch 6/60\n",
            "70/70 [==============================] - 24s 344ms/step - loss: 2.0665 - accuracy: 0.1482 - val_loss: 2.0445 - val_accuracy: 0.2188\n",
            "Epoch 7/60\n",
            "70/70 [==============================] - 26s 377ms/step - loss: 2.0494 - accuracy: 0.1545 - val_loss: 2.0156 - val_accuracy: 0.2406\n",
            "Epoch 8/60\n",
            "70/70 [==============================] - 26s 368ms/step - loss: 2.0285 - accuracy: 0.1920 - val_loss: 1.9522 - val_accuracy: 0.2250\n",
            "Epoch 9/60\n",
            "70/70 [==============================] - 25s 361ms/step - loss: 2.0081 - accuracy: 0.1982 - val_loss: 1.9198 - val_accuracy: 0.1969\n",
            "Epoch 10/60\n",
            "70/70 [==============================] - 25s 362ms/step - loss: 1.9641 - accuracy: 0.2152 - val_loss: 1.8722 - val_accuracy: 0.2219\n",
            "Epoch 11/60\n",
            "70/70 [==============================] - 27s 386ms/step - loss: 1.9526 - accuracy: 0.2071 - val_loss: 1.9373 - val_accuracy: 0.2469\n",
            "Epoch 12/60\n",
            "70/70 [==============================] - 25s 350ms/step - loss: 1.9305 - accuracy: 0.2259 - val_loss: 1.8457 - val_accuracy: 0.2562\n",
            "Epoch 13/60\n",
            "70/70 [==============================] - 26s 371ms/step - loss: 2.0923 - accuracy: 0.1241 - val_loss: 2.0834 - val_accuracy: 0.1250\n",
            "Epoch 14/60\n",
            "70/70 [==============================] - 26s 365ms/step - loss: 2.0835 - accuracy: 0.1250 - val_loss: 2.0828 - val_accuracy: 0.1250\n",
            "Epoch 15/60\n",
            "70/70 [==============================] - 26s 368ms/step - loss: 2.0828 - accuracy: 0.1250 - val_loss: 2.0823 - val_accuracy: 0.1250\n",
            "Epoch 16/60\n",
            "70/70 [==============================] - 27s 386ms/step - loss: 2.0826 - accuracy: 0.1250 - val_loss: 2.0819 - val_accuracy: 0.1250\n",
            "Epoch 17/60\n",
            "70/70 [==============================] - 25s 350ms/step - loss: 2.0820 - accuracy: 0.1250 - val_loss: 2.0815 - val_accuracy: 0.1250\n",
            "Epoch 18/60\n",
            "70/70 [==============================] - 25s 354ms/step - loss: 2.0816 - accuracy: 0.1250 - val_loss: 2.0812 - val_accuracy: 0.1250\n",
            "Epoch 19/60\n",
            "70/70 [==============================] - 26s 368ms/step - loss: 2.0813 - accuracy: 0.1250 - val_loss: 2.0809 - val_accuracy: 0.1250\n",
            "Epoch 20/60\n",
            "70/70 [==============================] - 25s 364ms/step - loss: 2.0810 - accuracy: 0.1259 - val_loss: 2.0807 - val_accuracy: 0.1250\n",
            "Epoch 21/60\n",
            "70/70 [==============================] - 27s 392ms/step - loss: 2.0809 - accuracy: 0.1259 - val_loss: 2.0805 - val_accuracy: 0.1250\n",
            "Epoch 22/60\n",
            "70/70 [==============================] - 26s 370ms/step - loss: 2.0807 - accuracy: 0.1250 - val_loss: 2.0803 - val_accuracy: 0.1250\n",
            "Epoch 23/60\n",
            "70/70 [==============================] - 26s 367ms/step - loss: 2.0805 - accuracy: 0.1223 - val_loss: 2.0802 - val_accuracy: 0.1250\n",
            "Epoch 24/60\n",
            "70/70 [==============================] - 25s 356ms/step - loss: 2.0804 - accuracy: 0.1250 - val_loss: 2.0801 - val_accuracy: 0.1250\n",
            "Epoch 25/60\n",
            "70/70 [==============================] - 26s 375ms/step - loss: 2.0804 - accuracy: 0.1304 - val_loss: 2.0742 - val_accuracy: 0.1250\n",
            "Epoch 26/60\n",
            "70/70 [==============================] - 26s 366ms/step - loss: 2.0797 - accuracy: 0.1330 - val_loss: 2.0799 - val_accuracy: 0.1250\n",
            "Epoch 27/60\n",
            "70/70 [==============================] - 26s 371ms/step - loss: 2.0800 - accuracy: 0.1268 - val_loss: 2.0798 - val_accuracy: 0.1250\n",
            "Epoch 28/60\n",
            "70/70 [==============================] - 26s 369ms/step - loss: 2.0782 - accuracy: 0.1437 - val_loss: 2.0701 - val_accuracy: 0.2250\n",
            "Epoch 29/60\n",
            "70/70 [==============================] - 27s 391ms/step - loss: 2.0716 - accuracy: 0.1527 - val_loss: 2.0512 - val_accuracy: 0.2062\n",
            "Epoch 30/60\n",
            "70/70 [==============================] - 25s 351ms/step - loss: 2.0559 - accuracy: 0.1661 - val_loss: 2.0167 - val_accuracy: 0.1844\n",
            "Epoch 31/60\n",
            "70/70 [==============================] - 25s 354ms/step - loss: 2.0381 - accuracy: 0.1616 - val_loss: 1.9837 - val_accuracy: 0.2031\n",
            "Epoch 32/60\n",
            "70/70 [==============================] - 25s 360ms/step - loss: 2.0130 - accuracy: 0.1732 - val_loss: 1.9571 - val_accuracy: 0.2281\n",
            "Epoch 33/60\n",
            "70/70 [==============================] - 25s 351ms/step - loss: 2.0194 - accuracy: 0.1777 - val_loss: 2.0789 - val_accuracy: 0.1344\n",
            "Epoch 34/60\n",
            "70/70 [==============================] - 25s 354ms/step - loss: 2.0217 - accuracy: 0.1705 - val_loss: 1.9858 - val_accuracy: 0.2313\n",
            "Epoch 35/60\n",
            "70/70 [==============================] - 25s 357ms/step - loss: 1.9816 - accuracy: 0.1893 - val_loss: 1.8691 - val_accuracy: 0.2406\n",
            "Epoch 36/60\n",
            "70/70 [==============================] - 25s 364ms/step - loss: 1.9821 - accuracy: 0.2054 - val_loss: 1.9162 - val_accuracy: 0.2594\n",
            "Epoch 37/60\n",
            "70/70 [==============================] - 27s 381ms/step - loss: 1.9573 - accuracy: 0.2098 - val_loss: 1.9908 - val_accuracy: 0.1344\n",
            "Epoch 38/60\n",
            "70/70 [==============================] - 26s 368ms/step - loss: 1.9369 - accuracy: 0.2107 - val_loss: 1.8247 - val_accuracy: 0.2438\n",
            "Epoch 39/60\n",
            "70/70 [==============================] - 24s 339ms/step - loss: 1.8967 - accuracy: 0.2179 - val_loss: 1.8128 - val_accuracy: 0.2594\n",
            "Epoch 40/60\n",
            "70/70 [==============================] - 26s 365ms/step - loss: 1.8675 - accuracy: 0.2268 - val_loss: 1.7271 - val_accuracy: 0.2937\n",
            "Epoch 41/60\n",
            "70/70 [==============================] - 27s 381ms/step - loss: 1.8485 - accuracy: 0.2339 - val_loss: 1.9816 - val_accuracy: 0.1844\n",
            "Epoch 42/60\n",
            "70/70 [==============================] - 25s 353ms/step - loss: 1.8944 - accuracy: 0.2170 - val_loss: 2.0094 - val_accuracy: 0.1625\n",
            "Epoch 43/60\n",
            "70/70 [==============================] - 24s 342ms/step - loss: 1.7994 - accuracy: 0.2339 - val_loss: 1.6019 - val_accuracy: 0.3531\n",
            "Epoch 44/60\n",
            "70/70 [==============================] - 26s 367ms/step - loss: 1.8000 - accuracy: 0.2304 - val_loss: 1.9126 - val_accuracy: 0.2125\n",
            "Epoch 45/60\n",
            "70/70 [==============================] - 25s 361ms/step - loss: 1.7591 - accuracy: 0.2518 - val_loss: 1.6217 - val_accuracy: 0.3125\n",
            "Epoch 46/60\n",
            "70/70 [==============================] - 25s 361ms/step - loss: 1.7565 - accuracy: 0.2643 - val_loss: 1.6591 - val_accuracy: 0.2875\n",
            "Epoch 47/60\n",
            "70/70 [==============================] - 24s 345ms/step - loss: 1.7342 - accuracy: 0.2839 - val_loss: 1.6899 - val_accuracy: 0.2656\n",
            "Epoch 48/60\n",
            "70/70 [==============================] - 26s 367ms/step - loss: 1.7636 - accuracy: 0.2759 - val_loss: 1.5440 - val_accuracy: 0.3344\n",
            "Epoch 49/60\n",
            "70/70 [==============================] - 27s 389ms/step - loss: 1.6586 - accuracy: 0.2929 - val_loss: 1.5355 - val_accuracy: 0.3656\n",
            "Epoch 50/60\n",
            "70/70 [==============================] - 27s 380ms/step - loss: 1.6822 - accuracy: 0.2982 - val_loss: 1.5192 - val_accuracy: 0.3406\n",
            "Epoch 51/60\n",
            "70/70 [==============================] - 27s 382ms/step - loss: 1.7183 - accuracy: 0.2759 - val_loss: 1.9417 - val_accuracy: 0.2000\n",
            "Epoch 52/60\n",
            "70/70 [==============================] - 25s 353ms/step - loss: 1.6609 - accuracy: 0.2973 - val_loss: 1.5771 - val_accuracy: 0.4812\n",
            "Epoch 53/60\n",
            "70/70 [==============================] - 25s 358ms/step - loss: 1.5873 - accuracy: 0.3196 - val_loss: 1.4397 - val_accuracy: 0.3688\n",
            "Epoch 54/60\n",
            "70/70 [==============================] - 27s 384ms/step - loss: 1.5773 - accuracy: 0.3455 - val_loss: 1.4175 - val_accuracy: 0.3688\n",
            "Epoch 55/60\n",
            "70/70 [==============================] - 25s 355ms/step - loss: 1.6374 - accuracy: 0.3330 - val_loss: 1.4215 - val_accuracy: 0.4219\n",
            "Epoch 56/60\n",
            "70/70 [==============================] - 29s 417ms/step - loss: 1.6000 - accuracy: 0.3509 - val_loss: 1.4152 - val_accuracy: 0.3781\n",
            "Epoch 57/60\n",
            "70/70 [==============================] - 24s 344ms/step - loss: 1.6654 - accuracy: 0.3446 - val_loss: 1.4249 - val_accuracy: 0.3812\n",
            "Epoch 58/60\n",
            "70/70 [==============================] - 25s 352ms/step - loss: 1.5275 - accuracy: 0.3848 - val_loss: 1.3809 - val_accuracy: 0.4062\n",
            "Epoch 59/60\n",
            "70/70 [==============================] - 25s 356ms/step - loss: 1.5735 - accuracy: 0.3688 - val_loss: 1.6335 - val_accuracy: 0.3938\n",
            "Epoch 60/60\n",
            "70/70 [==============================] - 26s 365ms/step - loss: 1.5962 - accuracy: 0.3679 - val_loss: 1.3309 - val_accuracy: 0.4469\n"
          ]
        }
      ],
      "source": [
        "# Fit the model\n",
        "r = model.fit(\n",
        "              training_set,\n",
        "              validation_data=valid_set,\n",
        "              epochs=60,\n",
        "              steps_per_epoch=len(training_set),\n",
        "              validation_steps=len(valid_set))"
      ]
    },
    {
      "cell_type": "code",
      "execution_count": 22,
      "metadata": {
        "id": "w6Xn4-QiNXP9",
        "colab": {
          "base_uri": "https://localhost:8080/",
          "height": 843
        },
        "outputId": "7fbcc60b-1872-4fbb-f824-80293868e008"
      },
      "outputs": [
        {
          "output_type": "display_data",
          "data": {
            "text/plain": [
              "<Figure size 640x480 with 1 Axes>"
            ],
            "image/png": "[encoded data removed]"
          },
          "metadata": {}
        },
        {
          "output_type": "display_data",
          "data": {
            "text/plain": [
              "<Figure size 640x480 with 1 Axes>"
            ],
            "image/png": "[encoded data removed]"
          },
          "metadata": {}
        }
      ],
      "source": [
        "# plot the loss\n",
        "plt.plot(r.history['loss'], label='train loss')\n",
        "plt.plot(r.history['val_loss'], label='val loss')\n",
        "plt.legend()\n",
        "plt.show()\n",
        "\n",
        "# plot the accuracy\n",
        "plt.plot(r.history['accuracy'], label='train acc')\n",
        "plt.plot(r.history['val_accuracy'], label='val acc')\n",
        "plt.legend()\n",
        "plt.show()"
      ]
    },
    {
      "cell_type": "code",
      "execution_count": 23,
      "metadata": {
        "id": "idJ7Q8OG_dBq",
        "colab": {
          "base_uri": "https://localhost:8080/"
        },
        "outputId": "d986aa6e-8c64-4431-e2e7-ca5d3b41e22b"
      },
      "outputs": [
        {
          "output_type": "stream",
          "name": "stdout",
          "text": [
            "20/20 [==============================] - 2s 116ms/step - loss: 1.3309 - accuracy: 0.4469\n"
          ]
        }
      ],
      "source": [
        "scores_validasi = model.evaluate(valid_set)"
      ]
    },
    {
      "cell_type": "code",
      "execution_count": 24,
      "metadata": {
        "id": "zrqbeQl__m6l",
        "colab": {
          "base_uri": "https://localhost:8080/"
        },
        "outputId": "ad80a8ba-5171-4958-ffef-6907e0eae61b"
      },
      "outputs": [
        {
          "output_type": "stream",
          "name": "stdout",
          "text": [
            "70/70 [==============================] - 23s 322ms/step - loss: 1.3902 - accuracy: 0.4464\n"
          ]
        }
      ],
      "source": [
        "scores_train = model.evaluate(training_set)"
      ]
    },
    {
      "cell_type": "code",
      "execution_count": null,
      "metadata": {
        "id": "G70FH3MgWwDV"
      },
      "outputs": [],
      "source": [
        "#save model\n",
        "model.save(\"/content/drive/MyDrive/Model/P4_SGD_0.01_E_60.h5\")"
      ]
    },
    {
      "cell_type": "code",
      "execution_count": 26,
      "metadata": {
        "id": "_-G1AmAO3-Zo"
      },
      "outputs": [],
      "source": [
        "model.save(\"/content/drive/MyDrive/Model/P4_SGD_0.01_E_60.hdf5\")"
      ]
    }
  ],
  "metadata": {
    "accelerator": "GPU",
    "colab": {
      "gpuType": "T4",
      "provenance": []
    },
    "kernelspec": {
      "display_name": "Python 3",
      "name": "python3"
    },
    "language_info": {
      "name": "python"
    }
  },
  "nbformat": 4,
  "nbformat_minor": 0
}